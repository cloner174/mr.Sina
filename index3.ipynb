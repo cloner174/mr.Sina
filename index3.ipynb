{
  "cells": [
    {
      "cell_type": "code",
      "source": [
        "!git clone https://github.com/cloner174/mr.Sina.git"
      ],
      "metadata": {
        "colab": {
          "base_uri": "https://localhost:8080/"
        },
        "id": "smpF-KqtFDDF",
        "outputId": "287b7e78-d84c-4d96-8d48-83f1fd16a114"
      },
      "execution_count": 1,
      "outputs": [
        {
          "output_type": "stream",
          "name": "stdout",
          "text": [
            "Cloning into 'mr.Sina'...\n",
            "remote: Enumerating objects: 164, done.\u001b[K\n",
            "remote: Counting objects: 100% (164/164), done.\u001b[K\n",
            "remote: Compressing objects: 100% (137/137), done.\u001b[K\n",
            "remote: Total 164 (delta 42), reused 123 (delta 22), pack-reused 0\u001b[K\n",
            "Receiving objects: 100% (164/164), 23.19 MiB | 12.01 MiB/s, done.\n",
            "Resolving deltas: 100% (42/42), done.\n",
            "Updating files: 100% (92/92), done.\n"
          ]
        }
      ]
    },
    {
      "cell_type": "code",
      "source": [
        "%cd mr.Sina"
      ],
      "metadata": {
        "colab": {
          "base_uri": "https://localhost:8080/"
        },
        "id": "_fbKpdt0FFgo",
        "outputId": "8c337083-18e4-4834-ebdb-ef0fac3037f7"
      },
      "execution_count": 2,
      "outputs": [
        {
          "output_type": "stream",
          "name": "stdout",
          "text": [
            "/content/mr.Sina\n"
          ]
        }
      ]
    },
    {
      "cell_type": "code",
      "execution_count": 3,
      "metadata": {
        "id": "QKtN_PC6E-6_"
      },
      "outputs": [],
      "source": [
        "# Import Packages :\n",
        "\n",
        "import pandas as pd\n",
        "from main import data\n"
      ]
    },
    {
      "cell_type": "code",
      "execution_count": 6,
      "metadata": {
        "colab": {
          "base_uri": "https://localhost:8080/"
        },
        "id": "3zjSDQEpE-7H",
        "outputId": "e1361c41-381c-4908-c5a7-27cb59485b83"
      },
      "outputs": [
        {
          "output_type": "execute_result",
          "data": {
            "text/plain": [
              "(199981, 4)"
            ]
          },
          "metadata": {},
          "execution_count": 6
        }
      ],
      "source": [
        "# Loading data\n",
        "\n",
        "data = pd.read_csv( 'input/link_dataFinal.csv' , index_col=0)\n",
        "data.shape"
      ]
    },
    {
      "cell_type": "code",
      "execution_count": null,
      "metadata": {
        "colab": {
          "base_uri": "https://localhost:8080/"
        },
        "id": "KmbvdsCrE-7I",
        "outputId": "eee7a8e1-e30b-47d7-cfc1-2e95d3537ab5"
      },
      "outputs": [
        {
          "output_type": "execute_result",
          "data": {
            "text/plain": [
              "Index(['X_igraph_index', 'source', 'target', 'key'], dtype='object')"
            ]
          },
          "metadata": {},
          "execution_count": 19
        }
      ],
      "source": [
        "# Finding the nodes from data to pass to the DataHandel class!\n",
        "\n",
        "data.columns"
      ]
    },
    {
      "cell_type": "code",
      "execution_count": 7,
      "metadata": {
        "id": "PVE82K6pE-7I"
      },
      "outputs": [],
      "source": [
        "# Getting data ready by turn it into dict !\n",
        "\n",
        "nodes = []\n",
        "\n",
        "for node in data.loc[:,'source'].unique() :\n",
        "    if node not in nodes :\n",
        "        nodes.append(node)\n",
        "\n",
        "for node in data.loc[:,'target'].unique() :\n",
        "    if node not in nodes :\n",
        "        nodes.append(node)"
      ]
    },
    {
      "cell_type": "code",
      "source": [
        "len(nodes)"
      ],
      "metadata": {
        "colab": {
          "base_uri": "https://localhost:8080/"
        },
        "id": "JjgCL0BtjBUS",
        "outputId": "9b49eefb-e41e-4f18-c1ad-5ffe59d59910"
      },
      "execution_count": 8,
      "outputs": [
        {
          "output_type": "execute_result",
          "data": {
            "text/plain": [
              "6245"
            ]
          },
          "metadata": {},
          "execution_count": 8
        }
      ]
    },
    {
      "cell_type": "code",
      "execution_count": 15,
      "metadata": {
        "colab": {
          "base_uri": "https://localhost:8080/"
        },
        "id": "gpVdo4EcE-7K",
        "outputId": "270eeb30-ccc2-4173-cce6-f853d8168993"
      },
      "outputs": [
        {
          "output_type": "stream",
          "name": "stdout",
          "text": [
            "<class 'dict'> <class 'dict'>\n"
          ]
        }
      ],
      "source": [
        "# Continue getting data ready this time by turnnig to dicts both !\n",
        "\n",
        "links = dict(data)\n",
        "nodes = pd.DataFrame(nodes)\n",
        "nodes = nodes.set_axis(['id'], axis=1)\n",
        "nodes = dict(nodes)\n",
        "print(type(nodes), type(links))"
      ]
    },
    {
      "cell_type": "code",
      "execution_count": 16,
      "metadata": {
        "id": "kx4Zody-E-7L"
      },
      "outputs": [],
      "source": [
        "# This will prepare and preprocess the data :\n",
        "\n",
        "Start = data.DataHandle( data_links= links, data_nodes= nodes)"
      ]
    },
    {
      "cell_type": "code",
      "execution_count": 17,
      "metadata": {
        "colab": {
          "base_uri": "https://localhost:8080/"
        },
        "id": "gEWwHInYE-7M",
        "outputId": "dcd38c53-dadf-4c3f-aa9e-ef70b7edafe9"
      },
      "outputs": [
        {
          "output_type": "stream",
          "name": "stdout",
          "text": [
            " Unable to find any references or logic to split the nodes into layers \n"
          ]
        }
      ],
      "source": [
        "Start.initial_keys()"
      ]
    },
    {
      "cell_type": "code",
      "execution_count": null,
      "metadata": {
        "id": "H_8MKJWCE-7M"
      },
      "outputs": [],
      "source": [
        "# This method finding the source and target palce and values in our data and Also\n",
        "# find and initial the values for each layer !\n",
        "\n",
        "#Start.initial_data()"
      ]
    },
    {
      "cell_type": "code",
      "execution_count": null,
      "metadata": {
        "id": "KlTN90rlE-7M"
      },
      "outputs": [],
      "source": [
        "# The error seggest to us provide adv and pub nodes manually. This is beacuse our new_data\n",
        "# had no obvious intialize laybel for whether a node is represent the advertisers or publishers\n",
        "\n",
        "# So we need to pass these argumans to initial method from DataHandel class :\n",
        "#            adertiser_nodes= ??? , publisher_nodes = ???"
      ]
    },
    {
      "cell_type": "code",
      "execution_count": 18,
      "metadata": {
        "colab": {
          "base_uri": "https://localhost:8080/"
        },
        "id": "fYfiJbaCE-7N",
        "outputId": "355fa8a1-a1e6-4ec2-9e80-ef79d06da2ef"
      },
      "outputs": [
        {
          "output_type": "stream",
          "name": "stdout",
          "text": [
            "Advertiser ID \n",
            " Media App Media - Media → Publisher ID\n"
          ]
        }
      ],
      "source": [
        "advertiser_campaigns = pd.read_csv( 'input/advertiser_campaigns.csv' , index_col=0)\n",
        "publisher_contents = pd.read_csv( 'input/publisher_contents.csv' , index_col=0)\n",
        "print(advertiser_campaigns.columns[13], '\\n',publisher_contents.columns[25])"
      ]
    },
    {
      "cell_type": "code",
      "execution_count": 19,
      "metadata": {
        "id": "_fpW8c59E-7N"
      },
      "outputs": [],
      "source": [
        "advertisers_nodes = list( advertiser_campaigns['Advertiser ID'].unique() )#It must be list\n",
        "publishers_nodes = list( publisher_contents['Media App Media - Media → Publisher ID'].unique() )#It must be list"
      ]
    },
    {
      "cell_type": "code",
      "execution_count": 20,
      "metadata": {
        "id": "0ZZPvWqhE-7N"
      },
      "outputs": [],
      "source": [
        "# Try again using our two new lists:\n",
        "\n",
        "Start.initial_data( advertiser_nodes = advertisers_nodes , publisher_nodes = publishers_nodes )\n",
        "\n",
        "# WorKed :)"
      ]
    },
    {
      "cell_type": "code",
      "execution_count": 21,
      "metadata": {
        "colab": {
          "base_uri": "https://localhost:8080/"
        },
        "id": "LC5fgDQ1E-7N",
        "outputId": "3018b5f0-087a-4afd-cf2e-10aca47bd754"
      },
      "outputs": [
        {
          "output_type": "stream",
          "name": "stdout",
          "text": [
            "Getting things Ready...\n"
          ]
        }
      ],
      "source": [
        "layer_one_links, layer_two_links, interconnected_links = Start.modify_links()"
      ]
    },
    {
      "cell_type": "code",
      "execution_count": 22,
      "metadata": {
        "colab": {
          "base_uri": "https://localhost:8080/"
        },
        "id": "NdJaz0pTE-7N",
        "outputId": "83c3e988-9582-4b2f-9f7b-5520d93cc950"
      },
      "outputs": [
        {
          "output_type": "stream",
          "name": "stdout",
          "text": [
            "765 1531 2240\n"
          ]
        }
      ],
      "source": [
        "print( len(layer_one_links), len(layer_two_links), len(interconnected_links))"
      ]
    },
    {
      "cell_type": "code",
      "source": [
        "len(advertisers_nodes), len(publishers_nodes)"
      ],
      "metadata": {
        "colab": {
          "base_uri": "https://localhost:8080/"
        },
        "id": "EmP9sCpBFXQp",
        "outputId": "be69e417-cef3-4b03-b9fe-3ec02bbecbbe"
      },
      "execution_count": 23,
      "outputs": [
        {
          "output_type": "execute_result",
          "data": {
            "text/plain": [
              "(6132, 3025)"
            ]
          },
          "metadata": {},
          "execution_count": 23
        }
      ]
    },
    {
      "cell_type": "code",
      "execution_count": 28,
      "metadata": {
        "id": "6lfjVZYwE-7P"
      },
      "outputs": [],
      "source": [
        "from main import graph"
      ]
    },
    {
      "cell_type": "code",
      "execution_count": 29,
      "metadata": {
        "id": "ZScEWQJ8E-7P"
      },
      "outputs": [],
      "source": [
        "G = graph.Graph(layer_one_name= 'Advertisers', layer_two_name= 'Publishers', nx_use = True )"
      ]
    },
    {
      "cell_type": "code",
      "execution_count": 96,
      "metadata": {
        "id": "nSbbJPiSE-7Q"
      },
      "outputs": [],
      "source": [
        "# This is another use of add_links method for simple data :\n",
        "G_train, G_test , g_nx = G.add_links( layer_one_links = new_layer_one_links ,\n",
        "                                               layer_two_links = new_layer_two_links ,\n",
        "                                               Interconnected_links = new_interconnected_links)"
      ]
    },
    {
      "cell_type": "code",
      "source": [
        "# Helper function to create feature set for Logistic Regression\n",
        "def create_features(graph, edge_list):\n",
        "    # Feature dictionary\n",
        "    features = {\n",
        "        'common_neighbors': [],\n",
        "        'jaccard_coefficient': [],\n",
        "        'preferential_attachment': []\n",
        "    }\n",
        "    labels = []\n",
        "\n",
        "    for u, v in edge_list:\n",
        "        # Common Neighbors\n",
        "        common_neighbors = list(nx.common_neighbors(graph, u, v))\n",
        "        features['common_neighbors'].append(len(common_neighbors))\n",
        "\n",
        "        # Jaccard Coefficient\n",
        "        jaccard_coeff = list(nx.jaccard_coefficient(graph, [(u, v)]))[0][2]\n",
        "        features['jaccard_coefficient'].append(jaccard_coeff)\n",
        "\n",
        "        # Preferential Attachment\n",
        "        pref_attach = graph.degree(u) * graph.degree(v)\n",
        "        features['preferential_attachment'].append(pref_attach)\n",
        "\n",
        "        # Label (1 if edge exists, 0 otherwise)\n",
        "        labels.append(1 if graph.has_edge(u, v) else 0)\n",
        "\n",
        "    # Create DataFrame\n",
        "    feature_df = pd.DataFrame(features)\n",
        "    return feature_df, labels\n",
        "\n",
        "# Create features and labels for training and test data\n",
        "train_features, train_labels = create_features(G_train, list(G_train.edges) + list(nx.non_edges(G_train)))\n",
        "test_features, test_labels = create_features(G_test, list(G_test.edges) + list(nx.non_edges(G_test)))\n",
        "\n",
        "train_features.head(), len(train_labels), len(test_labels)\n"
      ],
      "metadata": {
        "colab": {
          "base_uri": "https://localhost:8080/"
        },
        "id": "gAsF7kuLvhgF",
        "outputId": "b8c0bd22-5bdb-4f73-e93a-238bccb414b4"
      },
      "execution_count": 99,
      "outputs": [
        {
          "output_type": "execute_result",
          "data": {
            "text/plain": [
              "(   common_neighbors  jaccard_coefficient  preferential_attachment\n",
              " 0                 0                  0.0                        8\n",
              " 1                 0                  0.0                        8\n",
              " 2                 0                  0.0                        9\n",
              " 3                 0                  0.0                       80\n",
              " 4                 0                  0.0                       90,\n",
              " 84666,\n",
              " 103740)"
            ]
          },
          "metadata": {},
          "execution_count": 99
        }
      ]
    },
    {
      "cell_type": "code",
      "source": [
        "from sklearn.linear_model import LogisticRegression\n",
        "from sklearn.metrics import roc_auc_score, accuracy_score\n",
        "\n",
        "# Initialize and train the logistic regression model\n",
        "logistic_model = LogisticRegression(random_state=42, max_iter=1000)\n",
        "logistic_model.fit(train_features, train_labels)\n",
        "\n",
        "# Predict on the test set\n",
        "test_predictions = logistic_model.predict(test_features)\n",
        "test_probabilities = logistic_model.predict_proba(test_features)[:, 1]\n",
        "\n",
        "# Calculate metrics\n",
        "roc_auc = roc_auc_score(test_labels, test_probabilities)\n",
        "accuracy = accuracy_score(test_labels, test_predictions)\n",
        "\n",
        "roc_auc, accuracy\n"
      ],
      "metadata": {
        "colab": {
          "base_uri": "https://localhost:8080/"
        },
        "id": "39OXq0kewSN2",
        "outputId": "dac285bc-d029-47c4-e7cd-e6d58f998aaa"
      },
      "execution_count": 100,
      "outputs": [
        {
          "output_type": "execute_result",
          "data": {
            "text/plain": [
              "(0.9774237359991691, 0.9685656448814344)"
            ]
          },
          "metadata": {},
          "execution_count": 100
        }
      ]
    },
    {
      "cell_type": "code",
      "source": [
        "new_test_features, new_test_labels = create_features(g_nx, list(g_nx.edges) + list(nx.non_edges(g_nx)))"
      ],
      "metadata": {
        "id": "UQuB9t8WwmM5"
      },
      "execution_count": 103,
      "outputs": []
    },
    {
      "cell_type": "code",
      "source": [
        "new_test_predictions = logistic_model.predict(new_test_features)"
      ],
      "metadata": {
        "id": "t9_Mmix7yvmp"
      },
      "execution_count": 104,
      "outputs": []
    },
    {
      "cell_type": "code",
      "source": [
        "# Calculate metrics\n",
        "roc_auc = roc_auc_score(new_test_labels, new_test_predictions)\n",
        "accuracy = accuracy_score(new_test_labels, new_test_predictions)\n",
        "\n",
        "roc_auc, accuracy"
      ],
      "metadata": {
        "colab": {
          "base_uri": "https://localhost:8080/"
        },
        "id": "CE2gPQFTyvUZ",
        "outputId": "3f1c1eb4-70aa-445e-cf33-6fa34eee1f26"
      },
      "execution_count": 105,
      "outputs": [
        {
          "output_type": "execute_result",
          "data": {
            "text/plain": [
              "(0.8698473044809911, 0.892507781236105)"
            ]
          },
          "metadata": {},
          "execution_count": 105
        }
      ]
    },
    {
      "cell_type": "code",
      "source": [],
      "metadata": {
        "id": "FjVZms_mB8OD"
      },
      "execution_count": null,
      "outputs": []
    },
    {
      "cell_type": "markdown",
      "source": [
        "ابتدا سری به روش جنگل تصادفی میزنیم چون با استخراج ویژگی های عددی الان یک پیش بینی پیژگی محور محض را داریم"
      ],
      "metadata": {
        "id": "rK8aiMbCB8p6"
      }
    },
    {
      "cell_type": "markdown",
      "source": [
        "باید حلقه ی ویژگی ها ۳ بار تککرار شود"
      ],
      "metadata": {
        "id": "UIrpiv2O_O-n"
      }
    },
    {
      "cell_type": "code",
      "source": [],
      "metadata": {
        "id": "p9JHGPXBzOkr"
      },
      "execution_count": null,
      "outputs": []
    },
    {
      "cell_type": "code",
      "execution_count": 37,
      "metadata": {
        "id": "a5wBOlj9E-7S"
      },
      "outputs": [],
      "source": [
        "# Centrality Measures :\n",
        "import networkx as nx\n",
        "\n",
        "def calculate_centrality_measures(G):\n",
        "    degree_centrality = nx.degree_centrality(G)\n",
        "    betweenness_centrality = nx.betweenness_centrality(G)\n",
        "    closeness_centrality = nx.closeness_centrality(G)\n",
        "    return degree_centrality, betweenness_centrality, closeness_centrality"
      ]
    },
    {
      "cell_type": "code",
      "source": [
        "G = g_nx"
      ],
      "metadata": {
        "id": "mP42BhCfzYOY"
      },
      "execution_count": 112,
      "outputs": []
    },
    {
      "cell_type": "code",
      "execution_count": 113,
      "metadata": {
        "id": "jzx5OD13E-7T"
      },
      "outputs": [],
      "source": [
        "\n",
        "from itertools import combinations\n",
        "\n",
        "# Graph\n",
        "degree_centrality, betweenness_centrality, closeness_centrality = calculate_centrality_measures(G)\n",
        "features = []\n",
        "labels = []\n",
        "\n",
        "# Calculating features for each pair of nodes:\n",
        "for node1, node2 in combinations(G.nodes(), 2):\n",
        "\n",
        "    # Centrality measures for node1 and node2\n",
        "    degree_centrality_1 = degree_centrality[node1]\n",
        "    degree_centrality_2 = degree_centrality[node2]\n",
        "    betweenness_centrality_1 = betweenness_centrality[node1]\n",
        "    betweenness_centrality_2 = betweenness_centrality[node2]\n",
        "    closeness_centrality_1 = closeness_centrality[node1]\n",
        "    closeness_centrality_2 = closeness_centrality[node2]\n",
        "\n",
        "    # Directly compute and append features\n",
        "    features.append((\n",
        "        node1,\n",
        "        node2,\n",
        "        len(list(nx.common_neighbors(G, node1, node2))),  # Common Neighbors\n",
        "        next(nx.preferential_attachment(G, [(node1, node2)]))[2],  # Preferential Attachment\n",
        "        next(nx.resource_allocation_index(G, [(node1, node2)]))[2],  # Resource Allocation\n",
        "        next(nx.adamic_adar_index(G, [(node1, node2)]))[2],  # Adamic Adar\n",
        "        next(nx.jaccard_coefficient(G, [(node1, node2)]))[2] , # Jaccard Coefficient\n",
        "        (degree_centrality_1 + degree_centrality_2) / 2,\n",
        "        (betweenness_centrality_1 + betweenness_centrality_2) / 2,\n",
        "        (closeness_centrality_1 + closeness_centrality_2) / 2\n",
        "    ))\n",
        "\n",
        "    # Existence of links between nodes (1 or 0)\n",
        "    labels.append(1 if G.has_edge(node1, node2) else 0)\n",
        "\n",
        "# Creating a DataFrame from the features and labels\n",
        "features_df = pd.DataFrame(features,\n",
        "                           columns=['node1','node2','Common Neighbors',\n",
        "                                    'Preferential Attachment', 'Resource Allocation',\n",
        "                                    'Adamic Adar', 'Jaccard Coefficient', 'Average Degree Centrality',\n",
        "                                    'Average Betweenness Centrality', 'Average Closeness Centrality'])\n",
        "\n",
        "features_df['Label'] = labels\n",
        "\n",
        "# Now features_df is ready to use in a machine learning model\n"
      ]
    },
    {
      "cell_type": "code",
      "source": [
        "features_df.to_csv('G_nx_df.csv', index=False)"
      ],
      "metadata": {
        "id": "yKQHosczFoFA"
      },
      "execution_count": 114,
      "outputs": []
    },
    {
      "cell_type": "code",
      "execution_count": 115,
      "metadata": {
        "id": "eOquIo31E-7T"
      },
      "outputs": [],
      "source": [
        "data1 = pd.read_csv('/content/mr.Sina/G_train_df.csv')\n",
        "data2 = pd.read_csv('/content/mr.Sina/G_test_df.csv')\n",
        "data3 = pd.read_csv('/content/mr.Sina/G_nx_df.csv')"
      ]
    },
    {
      "cell_type": "code",
      "source": [
        "from sklearn.model_selection import train_test_split"
      ],
      "metadata": {
        "id": "s827H9YX0WLa"
      },
      "execution_count": 119,
      "outputs": []
    },
    {
      "cell_type": "code",
      "source": [
        "X1 = data1.drop(['node1','node2','Label'], axis=1)  # Features\n",
        "y1 = data1['Label']  # Labels"
      ],
      "metadata": {
        "id": "wf6PjYJpGCQQ"
      },
      "execution_count": 116,
      "outputs": []
    },
    {
      "cell_type": "code",
      "source": [
        "X2 = data2.drop(['node1','node2','Label'], axis=1)  # Features\n",
        "y2 = data2['Label']  # Labels"
      ],
      "metadata": {
        "id": "I5Wnj33K0mB-"
      },
      "execution_count": 117,
      "outputs": []
    },
    {
      "cell_type": "code",
      "source": [
        "X3 = data3.drop(['node1','node2','Label'], axis=1)  # Features\n",
        "y3 = data3['Label']  # Labels"
      ],
      "metadata": {
        "id": "nxK5b9tW0l7U"
      },
      "execution_count": 118,
      "outputs": []
    },
    {
      "cell_type": "code",
      "source": [
        "X_train1, X_test1, y_train1, y_test1 = train_test_split(X1, y1, test_size=0.2, random_state=42)"
      ],
      "metadata": {
        "id": "jGOgVm2WGDz3"
      },
      "execution_count": 120,
      "outputs": []
    },
    {
      "cell_type": "code",
      "source": [
        "X_train2, X_test2, y_train2, y_test2 = train_test_split(X2, y2, test_size=0.2, random_state=42)"
      ],
      "metadata": {
        "id": "xGdJofLs0XPr"
      },
      "execution_count": 121,
      "outputs": []
    },
    {
      "cell_type": "code",
      "source": [
        "X_train3, X_test3, y_train3, y_test3 = train_test_split(X3, y3, test_size=0.2, random_state=42)"
      ],
      "metadata": {
        "id": "uiZSNNPG0h6x"
      },
      "execution_count": 122,
      "outputs": []
    },
    {
      "cell_type": "code",
      "source": [
        "X_train1.shape, X_train2.shape, X_train3.shape, y_train1.shape, y_train2.shape, y_test3.shape"
      ],
      "metadata": {
        "colab": {
          "base_uri": "https://localhost:8080/"
        },
        "id": "3pKOF3kGlsem",
        "outputId": "c7e99d83-7afc-4505-ba9b-9e3faaba014c"
      },
      "execution_count": 123,
      "outputs": [
        {
          "output_type": "execute_result",
          "data": {
            "text/plain": [
              "((67732, 8), (82992, 8), (107952, 8), (67732,), (82992,), (26988,))"
            ]
          },
          "metadata": {},
          "execution_count": 123
        }
      ]
    },
    {
      "cell_type": "code",
      "execution_count": 140,
      "metadata": {
        "id": "FFI9skbBE-7Z",
        "colab": {
          "base_uri": "https://localhost:8080/"
        },
        "outputId": "691f8421-03d3-4e87-a9df-6d8f914b1a89"
      },
      "outputs": [
        {
          "output_type": "stream",
          "name": "stderr",
          "text": [
            "[Parallel(n_jobs=1)]: Done  49 tasks      | elapsed:    1.2s\n",
            "[Parallel(n_jobs=1)]: Done  49 tasks      | elapsed:    0.0s\n"
          ]
        },
        {
          "output_type": "stream",
          "name": "stdout",
          "text": [
            "Average Accuracy: 0.9803921568627451\n",
            "Average Precision: 0.8771929824561403\n",
            "Average Recall: 0.9259259259259259\n",
            "Average F1-Score: 0.998819013876587\n"
          ]
        },
        {
          "output_type": "stream",
          "name": "stderr",
          "text": [
            "[Parallel(n_jobs=1)]: Done  49 tasks      | elapsed:    1.0s\n",
            "[Parallel(n_jobs=1)]: Done  49 tasks      | elapsed:    0.0s\n"
          ]
        },
        {
          "output_type": "stream",
          "name": "stdout",
          "text": [
            "Average Accuracy: 0.9824561403508771\n",
            "Average Precision: 0.9824561403508771\n",
            "Average Recall: 0.9824561403508771\n",
            "Average F1-Score: 0.9997047534691468\n"
          ]
        },
        {
          "output_type": "stream",
          "name": "stderr",
          "text": [
            "[Parallel(n_jobs=1)]: Done  49 tasks      | elapsed:    0.8s\n",
            "[Parallel(n_jobs=1)]: Done  49 tasks      | elapsed:    0.0s\n"
          ]
        },
        {
          "output_type": "stream",
          "name": "stdout",
          "text": [
            "Average Accuracy: 0.9814814814814815\n",
            "Average Precision: 0.9464285714285714\n",
            "Average Recall: 0.9636363636363636\n",
            "Average F1-Score: 0.9994094197549092\n"
          ]
        },
        {
          "output_type": "stream",
          "name": "stderr",
          "text": [
            "[Parallel(n_jobs=1)]: Done  49 tasks      | elapsed:    0.8s\n",
            "[Parallel(n_jobs=1)]: Done  49 tasks      | elapsed:    0.0s\n"
          ]
        },
        {
          "output_type": "stream",
          "name": "stdout",
          "text": [
            "Average Accuracy: 0.9642857142857143\n",
            "Average Precision: 0.9642857142857143\n",
            "Average Recall: 0.9642857142857143\n",
            "Average F1-Score: 0.9994094197549092\n"
          ]
        },
        {
          "output_type": "stream",
          "name": "stderr",
          "text": [
            "[Parallel(n_jobs=1)]: Done  49 tasks      | elapsed:    0.8s\n",
            "[Parallel(n_jobs=1)]: Done  49 tasks      | elapsed:    0.0s\n"
          ]
        },
        {
          "output_type": "stream",
          "name": "stdout",
          "text": [
            "Average Accuracy: 0.9629629629629629\n",
            "Average Precision: 0.9285714285714286\n",
            "Average Recall: 0.9454545454545454\n",
            "Average F1-Score: 0.9991141296323638\n"
          ]
        },
        {
          "output_type": "stream",
          "name": "stderr",
          "text": [
            "[Parallel(n_jobs=1)]: Done  49 tasks      | elapsed:    0.8s\n",
            "[Parallel(n_jobs=1)]: Done  49 tasks      | elapsed:    0.0s\n"
          ]
        },
        {
          "output_type": "stream",
          "name": "stdout",
          "text": [
            "Average Accuracy: 1.0\n",
            "Average Precision: 0.8928571428571429\n",
            "Average Recall: 0.9433962264150945\n",
            "Average F1-Score: 0.9991141296323638\n"
          ]
        },
        {
          "output_type": "stream",
          "name": "stderr",
          "text": [
            "[Parallel(n_jobs=1)]: Done  49 tasks      | elapsed:    0.8s\n",
            "[Parallel(n_jobs=1)]: Done  49 tasks      | elapsed:    0.0s\n"
          ]
        },
        {
          "output_type": "stream",
          "name": "stdout",
          "text": [
            "Average Accuracy: 1.0\n",
            "Average Precision: 0.9824561403508771\n",
            "Average Recall: 0.9911504424778761\n",
            "Average F1-Score: 0.9998523549387273\n"
          ]
        },
        {
          "output_type": "stream",
          "name": "stderr",
          "text": [
            "[Parallel(n_jobs=1)]: Done  49 tasks      | elapsed:    1.3s\n",
            "[Parallel(n_jobs=1)]: Done  49 tasks      | elapsed:    0.0s\n"
          ]
        },
        {
          "output_type": "stream",
          "name": "stdout",
          "text": [
            "Average Accuracy: 0.9814814814814815\n",
            "Average Precision: 0.9298245614035088\n",
            "Average Recall: 0.954954954954955\n",
            "Average F1-Score: 0.9992617746936365\n"
          ]
        },
        {
          "output_type": "stream",
          "name": "stderr",
          "text": [
            "[Parallel(n_jobs=1)]: Done  49 tasks      | elapsed:    0.9s\n",
            "[Parallel(n_jobs=1)]: Done  49 tasks      | elapsed:    0.0s\n"
          ]
        },
        {
          "output_type": "stream",
          "name": "stdout",
          "text": [
            "Average Accuracy: 1.0\n",
            "Average Precision: 0.9824561403508771\n",
            "Average Recall: 0.9911504424778761\n",
            "Average F1-Score: 0.9998523549387273\n"
          ]
        },
        {
          "output_type": "stream",
          "name": "stderr",
          "text": [
            "[Parallel(n_jobs=1)]: Done  49 tasks      | elapsed:    1.3s\n"
          ]
        },
        {
          "output_type": "stream",
          "name": "stdout",
          "text": [
            "Average Accuracy: 0.9649122807017544\n",
            "Average Precision: 0.9649122807017544\n",
            "Average Recall: 0.9649122807017544\n",
            "Average F1-Score: 0.9994094197549092\n"
          ]
        },
        {
          "output_type": "stream",
          "name": "stderr",
          "text": [
            "[Parallel(n_jobs=1)]: Done  49 tasks      | elapsed:    0.0s\n"
          ]
        }
      ],
      "source": [
        "import numpy as np\n",
        "from sklearn.model_selection import StratifiedKFold\n",
        "from sklearn.ensemble import RandomForestClassifier\n",
        "from sklearn.metrics import precision_recall_fscore_support, accuracy_score, confusion_matrix\n",
        "\n",
        "\n",
        "# Prepare data\n",
        "X = np.array(X_train1)\n",
        "y = np.array(y_train1)\n",
        "\n",
        "# Stratified K-Fold\n",
        "skf = StratifiedKFold(n_splits=10, shuffle=True, random_state=2)\n",
        "\n",
        "for train_index, test_index in skf.split(X, y):\n",
        "    X_train, X_test = X[train_index], X[test_index]\n",
        "    y_train, y_test = y[train_index], y[test_index]\n",
        "\n",
        "    # Train model\n",
        "    clf = RandomForestClassifier(n_estimators=100, random_state=42, verbose = 1)\n",
        "    clf.fit(X_train, y_train)\n",
        "\n",
        "    # Predict probabilities\n",
        "    probabilities = clf.predict_proba(X_test)[:, 1]\n",
        "\n",
        "    # Adjust threshold here if needed :\n",
        "    threshold = 0.5\n",
        "    predictions = (probabilities >= threshold).astype(int)\n",
        "\n",
        "    # Calculate metrics\n",
        "    precision, recall, fscore, _ = precision_recall_fscore_support(y_test, predictions, average='binary')\n",
        "    accuracy = accuracy_score(y_test, predictions)\n",
        "    print(f\"Average Accuracy: {precision}\")\n",
        "    print(f\"Average Precision: {recall}\")\n",
        "    print(f\"Average Recall: {fscore}\")\n",
        "    print(f\"Average F1-Score: {accuracy}\")"
      ]
    },
    {
      "cell_type": "code",
      "source": [
        "X = np.array(X_train2)\n",
        "y = np.array(y_train2)\n",
        "\n",
        "for train_index, test_index in skf.split(X, y):\n",
        "    X_train, X_test = X[train_index], X[test_index]\n",
        "    y_train, y_test = y[train_index], y[test_index]\n",
        "\n",
        "    # Train model\n",
        "    clf = RandomForestClassifier(n_estimators=100, random_state=42, verbose = 1)\n",
        "    clf.fit(X_train, y_train)\n",
        "\n",
        "    # Predict probabilities\n",
        "    probabilities = clf.predict_proba(X_test)[:, 1]\n",
        "\n",
        "    # Adjust threshold here if needed :\n",
        "    threshold = 0.5\n",
        "    predictions = (probabilities >= threshold).astype(int)\n",
        "\n",
        "    # Calculate metrics\n",
        "    precision, recall, fscore, _ = precision_recall_fscore_support(y_test, predictions, average='binary')\n",
        "    accuracy = accuracy_score(y_test, predictions)\n",
        "    #confuse_matrix.append(confusion_matrix(y_test, predictions))\n",
        "    #all_predictions.extend(predictions)\n",
        "    #all_actuals.extend(y_test)\n",
        "    print(f\"Average Accuracy: {precision}\")\n",
        "    print(f\"Average Precision: {recall}\")\n",
        "    print(f\"Average Recall: {fscore}\")\n",
        "    print(f\"Average F1-Score: {accuracy}\")\n"
      ],
      "metadata": {
        "id": "yhSRXlB512bY",
        "outputId": "babc44c6-aedb-47a4-bbe6-1f2bf994d52c",
        "colab": {
          "base_uri": "https://localhost:8080/"
        }
      },
      "execution_count": 141,
      "outputs": [
        {
          "output_type": "stream",
          "name": "stderr",
          "text": [
            "[Parallel(n_jobs=1)]: Done  49 tasks      | elapsed:    1.6s\n",
            "[Parallel(n_jobs=1)]: Done  49 tasks      | elapsed:    0.0s\n"
          ]
        },
        {
          "output_type": "stream",
          "name": "stdout",
          "text": [
            "Average Accuracy: 0.968421052631579\n",
            "Average Precision: 0.8518518518518519\n",
            "Average Recall: 0.9064039408866994\n",
            "Average F1-Score: 0.997710843373494\n"
          ]
        },
        {
          "output_type": "stream",
          "name": "stderr",
          "text": [
            "[Parallel(n_jobs=1)]: Done  49 tasks      | elapsed:    1.7s\n",
            "[Parallel(n_jobs=1)]: Done  49 tasks      | elapsed:    0.1s\n"
          ]
        },
        {
          "output_type": "stream",
          "name": "stdout",
          "text": [
            "Average Accuracy: 0.9514563106796117\n",
            "Average Precision: 0.9074074074074074\n",
            "Average Recall: 0.9289099526066351\n",
            "Average F1-Score: 0.9981927710843373\n"
          ]
        },
        {
          "output_type": "stream",
          "name": "stderr",
          "text": [
            "[Parallel(n_jobs=1)]: Done  49 tasks      | elapsed:    1.9s\n",
            "[Parallel(n_jobs=1)]: Done  49 tasks      | elapsed:    0.0s\n"
          ]
        },
        {
          "output_type": "stream",
          "name": "stdout",
          "text": [
            "Average Accuracy: 0.9770114942528736\n",
            "Average Precision: 0.794392523364486\n",
            "Average Recall: 0.8762886597938144\n",
            "Average F1-Score: 0.9971080853114833\n"
          ]
        },
        {
          "output_type": "stream",
          "name": "stderr",
          "text": [
            "[Parallel(n_jobs=1)]: Done  49 tasks      | elapsed:    1.8s\n",
            "[Parallel(n_jobs=1)]: Done  49 tasks      | elapsed:    0.0s\n"
          ]
        },
        {
          "output_type": "stream",
          "name": "stdout",
          "text": [
            "Average Accuracy: 0.9795918367346939\n",
            "Average Precision: 0.897196261682243\n",
            "Average Recall: 0.9365853658536586\n",
            "Average F1-Score: 0.9984335462103868\n"
          ]
        },
        {
          "output_type": "stream",
          "name": "stderr",
          "text": [
            "[Parallel(n_jobs=1)]: Done  49 tasks      | elapsed:    1.7s\n",
            "[Parallel(n_jobs=1)]: Done  49 tasks      | elapsed:    0.0s\n"
          ]
        },
        {
          "output_type": "stream",
          "name": "stdout",
          "text": [
            "Average Accuracy: 0.9622641509433962\n",
            "Average Precision: 0.9532710280373832\n",
            "Average Recall: 0.9577464788732395\n",
            "Average F1-Score: 0.9989155319918063\n"
          ]
        },
        {
          "output_type": "stream",
          "name": "stderr",
          "text": [
            "[Parallel(n_jobs=1)]: Done  49 tasks      | elapsed:    2.5s\n",
            "[Parallel(n_jobs=1)]: Done  49 tasks      | elapsed:    0.0s\n"
          ]
        },
        {
          "output_type": "stream",
          "name": "stdout",
          "text": [
            "Average Accuracy: 0.9433962264150944\n",
            "Average Precision: 0.9345794392523364\n",
            "Average Recall: 0.9389671361502347\n",
            "Average F1-Score: 0.9984335462103868\n"
          ]
        },
        {
          "output_type": "stream",
          "name": "stderr",
          "text": [
            "[Parallel(n_jobs=1)]: Done  49 tasks      | elapsed:    1.7s\n",
            "[Parallel(n_jobs=1)]: Done  49 tasks      | elapsed:    0.0s\n"
          ]
        },
        {
          "output_type": "stream",
          "name": "stdout",
          "text": [
            "Average Accuracy: 0.9433962264150944\n",
            "Average Precision: 0.9345794392523364\n",
            "Average Recall: 0.9389671361502347\n",
            "Average F1-Score: 0.9984335462103868\n"
          ]
        },
        {
          "output_type": "stream",
          "name": "stderr",
          "text": [
            "[Parallel(n_jobs=1)]: Done  49 tasks      | elapsed:    1.6s\n",
            "[Parallel(n_jobs=1)]: Done  49 tasks      | elapsed:    0.0s\n"
          ]
        },
        {
          "output_type": "stream",
          "name": "stdout",
          "text": [
            "Average Accuracy: 0.9795918367346939\n",
            "Average Precision: 0.8888888888888888\n",
            "Average Recall: 0.9320388349514563\n",
            "Average F1-Score: 0.9983130497650319\n"
          ]
        },
        {
          "output_type": "stream",
          "name": "stderr",
          "text": [
            "[Parallel(n_jobs=1)]: Done  49 tasks      | elapsed:    2.0s\n",
            "[Parallel(n_jobs=1)]: Done  49 tasks      | elapsed:    0.0s\n"
          ]
        },
        {
          "output_type": "stream",
          "name": "stdout",
          "text": [
            "Average Accuracy: 0.9693877551020408\n",
            "Average Precision: 0.8796296296296297\n",
            "Average Recall: 0.9223300970873787\n",
            "Average F1-Score: 0.9980720568743222\n"
          ]
        },
        {
          "output_type": "stream",
          "name": "stderr",
          "text": [
            "[Parallel(n_jobs=1)]: Done  49 tasks      | elapsed:    1.6s\n"
          ]
        },
        {
          "output_type": "stream",
          "name": "stdout",
          "text": [
            "Average Accuracy: 0.9444444444444444\n",
            "Average Precision: 0.9444444444444444\n",
            "Average Recall: 0.9444444444444444\n",
            "Average F1-Score: 0.9985540426557417\n"
          ]
        },
        {
          "output_type": "stream",
          "name": "stderr",
          "text": [
            "[Parallel(n_jobs=1)]: Done  49 tasks      | elapsed:    0.0s\n"
          ]
        }
      ]
    },
    {
      "cell_type": "code",
      "source": [
        "X = np.array(X_train3)\n",
        "y = np.array(y_train3)\n",
        "\n",
        "for train_index, test_index in skf.split(X, y):\n",
        "    X_train, X_test = X[train_index], X[test_index]\n",
        "    y_train, y_test = y[train_index], y[test_index]\n",
        "\n",
        "    # Train model\n",
        "    clf = RandomForestClassifier(n_estimators=100, random_state=42, verbose = 1)\n",
        "    clf.fit(X_train, y_train)\n",
        "\n",
        "    # Predict probabilities\n",
        "    probabilities = clf.predict_proba(X_test)[:, 1]\n",
        "\n",
        "    # Adjust threshold here if needed :\n",
        "    threshold = 0.5\n",
        "    predictions = (probabilities >= threshold).astype(int)\n",
        "\n",
        "    # Calculate metrics\n",
        "    precision, recall, fscore, _ = precision_recall_fscore_support(y_test, predictions, average='binary')\n",
        "    accuracy = accuracy_score(y_test, predictions)\n",
        "    #confuse_matrix.append(confusion_matrix(y_test, predictions))\n",
        "    #all_predictions.extend(predictions)\n",
        "    #all_actuals.extend(y_test)\n",
        "    print(f\"Average Accuracy: {precision}\")\n",
        "    print(f\"Average Precision: {recall}\")\n",
        "    print(f\"Average Recall: {fscore}\")\n",
        "    print(f\"Average F1-Score: {accuracy}\")"
      ],
      "metadata": {
        "id": "k8VX78uG2deD",
        "outputId": "dfb396fa-83f1-41c3-9aee-2590d247a8ff",
        "colab": {
          "base_uri": "https://localhost:8080/"
        }
      },
      "execution_count": 142,
      "outputs": [
        {
          "output_type": "stream",
          "name": "stderr",
          "text": [
            "[Parallel(n_jobs=1)]: Done  49 tasks      | elapsed:    3.7s\n",
            "[Parallel(n_jobs=1)]: Done  49 tasks      | elapsed:    0.1s\n"
          ]
        },
        {
          "output_type": "stream",
          "name": "stdout",
          "text": [
            "Average Accuracy: 0.9754601226993865\n",
            "Average Precision: 0.9520958083832335\n",
            "Average Recall: 0.9636363636363636\n",
            "Average F1-Score: 0.9977769544275658\n"
          ]
        },
        {
          "output_type": "stream",
          "name": "stderr",
          "text": [
            "[Parallel(n_jobs=1)]: Done  49 tasks      | elapsed:    3.6s\n",
            "[Parallel(n_jobs=1)]: Done  49 tasks      | elapsed:    0.0s\n"
          ]
        },
        {
          "output_type": "stream",
          "name": "stdout",
          "text": [
            "Average Accuracy: 0.9744408945686901\n",
            "Average Precision: 0.9131736526946108\n",
            "Average Recall: 0.9428129829984544\n",
            "Average F1-Score: 0.9965728047424972\n"
          ]
        },
        {
          "output_type": "stream",
          "name": "stderr",
          "text": [
            "[Parallel(n_jobs=1)]: Done  49 tasks      | elapsed:    4.1s\n",
            "[Parallel(n_jobs=1)]: Done  49 tasks      | elapsed:    0.1s\n"
          ]
        },
        {
          "output_type": "stream",
          "name": "stdout",
          "text": [
            "Average Accuracy: 0.9842271293375394\n",
            "Average Precision: 0.9369369369369369\n",
            "Average Recall: 0.9600000000000001\n",
            "Average F1-Score: 0.9975914775358963\n"
          ]
        },
        {
          "output_type": "stream",
          "name": "stderr",
          "text": [
            "[Parallel(n_jobs=1)]: Done  49 tasks      | elapsed:    3.6s\n",
            "[Parallel(n_jobs=1)]: Done  49 tasks      | elapsed:    0.1s\n"
          ]
        },
        {
          "output_type": "stream",
          "name": "stdout",
          "text": [
            "Average Accuracy: 0.9873015873015873\n",
            "Average Precision: 0.9311377245508982\n",
            "Average Recall: 0.9583975346687211\n",
            "Average F1-Score: 0.9974988420565076\n"
          ]
        },
        {
          "output_type": "stream",
          "name": "stderr",
          "text": [
            "[Parallel(n_jobs=1)]: Done  49 tasks      | elapsed:    4.4s\n",
            "[Parallel(n_jobs=1)]: Done  49 tasks      | elapsed:    0.1s\n"
          ]
        },
        {
          "output_type": "stream",
          "name": "stdout",
          "text": [
            "Average Accuracy: 0.9870550161812298\n",
            "Average Precision: 0.9131736526946108\n",
            "Average Recall: 0.9486780715396579\n",
            "Average F1-Score: 0.996943029180176\n"
          ]
        },
        {
          "output_type": "stream",
          "name": "stderr",
          "text": [
            "[Parallel(n_jobs=1)]: Done  49 tasks      | elapsed:    3.8s\n",
            "[Parallel(n_jobs=1)]: Done  49 tasks      | elapsed:    0.1s\n"
          ]
        },
        {
          "output_type": "stream",
          "name": "stdout",
          "text": [
            "Average Accuracy: 0.9842767295597484\n",
            "Average Precision: 0.937125748502994\n",
            "Average Recall: 0.9601226993865032\n",
            "Average F1-Score: 0.9975914775358963\n"
          ]
        },
        {
          "output_type": "stream",
          "name": "stderr",
          "text": [
            "[Parallel(n_jobs=1)]: Done  49 tasks      | elapsed:    4.9s\n",
            "[Parallel(n_jobs=1)]: Done  49 tasks      | elapsed:    0.1s\n"
          ]
        },
        {
          "output_type": "stream",
          "name": "stdout",
          "text": [
            "Average Accuracy: 0.9845201238390093\n",
            "Average Precision: 0.9520958083832335\n",
            "Average Recall: 0.9680365296803654\n",
            "Average F1-Score: 0.9980546549328393\n"
          ]
        },
        {
          "output_type": "stream",
          "name": "stderr",
          "text": [
            "[Parallel(n_jobs=1)]: Done  49 tasks      | elapsed:    3.6s\n",
            "[Parallel(n_jobs=1)]: Done  49 tasks      | elapsed:    0.1s\n"
          ]
        },
        {
          "output_type": "stream",
          "name": "stdout",
          "text": [
            "Average Accuracy: 0.9873817034700315\n",
            "Average Precision: 0.937125748502994\n",
            "Average Recall: 0.9615975422427037\n",
            "Average F1-Score: 0.9976841130152848\n"
          ]
        },
        {
          "output_type": "stream",
          "name": "stderr",
          "text": [
            "[Parallel(n_jobs=1)]: Done  49 tasks      | elapsed:    6.0s\n",
            "[Parallel(n_jobs=1)]: Done  49 tasks      | elapsed:    0.1s\n"
          ]
        },
        {
          "output_type": "stream",
          "name": "stdout",
          "text": [
            "Average Accuracy: 0.9873417721518988\n",
            "Average Precision: 0.9341317365269461\n",
            "Average Recall: 0.96\n",
            "Average F1-Score: 0.9975914775358963\n"
          ]
        },
        {
          "output_type": "stream",
          "name": "stderr",
          "text": [
            "[Parallel(n_jobs=1)]: Done  49 tasks      | elapsed:    3.7s\n"
          ]
        },
        {
          "output_type": "stream",
          "name": "stdout",
          "text": [
            "Average Accuracy: 0.9968051118210862\n",
            "Average Precision: 0.9341317365269461\n",
            "Average Recall: 0.9644513137557961\n",
            "Average F1-Score: 0.9978693839740621\n"
          ]
        },
        {
          "output_type": "stream",
          "name": "stderr",
          "text": [
            "[Parallel(n_jobs=1)]: Done  49 tasks      | elapsed:    0.1s\n"
          ]
        }
      ]
    },
    {
      "cell_type": "code",
      "source": [
        "new_predict_on_unseen1 = clf.predict(X_test1)\n",
        "new_predict_on_unseen2 = clf.predict(X_test2)\n",
        "new_predict_on_unseen3 = clf.predict(X_test3)"
      ],
      "metadata": {
        "colab": {
          "base_uri": "https://localhost:8080/"
        },
        "id": "JkybMuy8oAaA",
        "outputId": "fea8191c-5528-4671-a0a8-0855138f42b5"
      },
      "execution_count": 143,
      "outputs": [
        {
          "output_type": "stream",
          "name": "stderr",
          "text": [
            "/usr/local/lib/python3.10/dist-packages/sklearn/base.py:432: UserWarning: X has feature names, but RandomForestClassifier was fitted without feature names\n",
            "  warnings.warn(\n",
            "[Parallel(n_jobs=1)]: Done  49 tasks      | elapsed:    0.1s\n",
            "/usr/local/lib/python3.10/dist-packages/sklearn/base.py:432: UserWarning: X has feature names, but RandomForestClassifier was fitted without feature names\n",
            "  warnings.warn(\n",
            "[Parallel(n_jobs=1)]: Done  49 tasks      | elapsed:    0.1s\n",
            "/usr/local/lib/python3.10/dist-packages/sklearn/base.py:432: UserWarning: X has feature names, but RandomForestClassifier was fitted without feature names\n",
            "  warnings.warn(\n",
            "[Parallel(n_jobs=1)]: Done  49 tasks      | elapsed:    0.1s\n"
          ]
        }
      ]
    },
    {
      "cell_type": "code",
      "source": [
        "new_predict_on_unseen1 = clf.predict(X_test1)\n",
        "new_predict_on_unseen2 = clf.predict(X_test2)\n",
        "new_predict_on_unseen3 = clf.predict(X_test3)"
      ],
      "metadata": {
        "id": "B9YuBUot5WFn",
        "outputId": "1ce3cb11-9b96-4c94-b382-558f14928a01",
        "colab": {
          "base_uri": "https://localhost:8080/"
        }
      },
      "execution_count": 144,
      "outputs": [
        {
          "output_type": "stream",
          "name": "stderr",
          "text": [
            "/usr/local/lib/python3.10/dist-packages/sklearn/base.py:432: UserWarning: X has feature names, but RandomForestClassifier was fitted without feature names\n",
            "  warnings.warn(\n",
            "[Parallel(n_jobs=1)]: Done  49 tasks      | elapsed:    0.1s\n",
            "/usr/local/lib/python3.10/dist-packages/sklearn/base.py:432: UserWarning: X has feature names, but RandomForestClassifier was fitted without feature names\n",
            "  warnings.warn(\n",
            "[Parallel(n_jobs=1)]: Done  49 tasks      | elapsed:    0.1s\n",
            "/usr/local/lib/python3.10/dist-packages/sklearn/base.py:432: UserWarning: X has feature names, but RandomForestClassifier was fitted without feature names\n",
            "  warnings.warn(\n",
            "[Parallel(n_jobs=1)]: Done  49 tasks      | elapsed:    0.1s\n"
          ]
        }
      ]
    },
    {
      "cell_type": "code",
      "source": [
        "confuse_matrix1 = []\n",
        "confuse_matrix2 = []\n",
        "confuse_matrix3 = []"
      ],
      "metadata": {
        "id": "1G5pzZEq4St1"
      },
      "execution_count": 145,
      "outputs": []
    },
    {
      "cell_type": "code",
      "source": [
        "precision1, recall1, fscore1, _ = precision_recall_fscore_support(y_test1, new_predict_on_unseen1, average='binary')\n",
        "accuracy1 = accuracy_score(y_test1, new_predict_on_unseen1)\n",
        "confuse_matrix1.append(confusion_matrix(y_test1, new_predict_on_unseen1))\n",
        "\n",
        "precision2, recall2, fscore2, _ = precision_recall_fscore_support(y_test2, new_predict_on_unseen2, average='binary')\n",
        "accuracy2 = accuracy_score(y_test2, new_predict_on_unseen2)\n",
        "confuse_matrix2.append(confusion_matrix(y_test2, new_predict_on_unseen2))\n",
        "\n",
        "precision3, recall3, fscore3, _ = precision_recall_fscore_support(y_test3, new_predict_on_unseen3, average='binary')\n",
        "accuracy3 = accuracy_score(y_test3, new_predict_on_unseen3)\n",
        "confuse_matrix3.append(confusion_matrix(y_test3, new_predict_on_unseen3))"
      ],
      "metadata": {
        "id": "dZuX-v0s3g4D"
      },
      "execution_count": 146,
      "outputs": []
    },
    {
      "cell_type": "code",
      "source": [
        "\n",
        "print(f\"X_test1 Accuracy: {accuracy1}\")\n",
        "print(f\"X_test1 Precision: {precision1}\")\n",
        "print(f\"X_test1 Recall: {recall1}\")\n",
        "print(f\"X_test1 F1-Score: {fscore1}\")\n",
        "\n",
        "print(\"\")\n",
        "print(\"\")\n",
        "\n",
        "print(f\"X_test2 Accuracy: {accuracy2}\")\n",
        "print(f\"X_test2 Precision: {precision2}\")\n",
        "print(f\"X_test2 Recall: {recall2}\")\n",
        "print(f\"X_test2 F1-Score: {fscore2}\")\n",
        "\n",
        "print(\"\")\n",
        "print(\"\")\n",
        "\n",
        "print(f\"X_test3 Accuracy: {accuracy3}\")\n",
        "print(f\"X_test3 Precision: {precision3}\")\n",
        "print(f\"X_test3 Recall: {recall3}\")\n",
        "print(f\"X_test3 F1-Score: {fscore3}\")"
      ],
      "metadata": {
        "id": "LL6UPUvJ3BB5",
        "outputId": "279af674-770d-45ff-f113-fd43a2caf159",
        "colab": {
          "base_uri": "https://localhost:8080/"
        }
      },
      "execution_count": 147,
      "outputs": [
        {
          "output_type": "stream",
          "name": "stdout",
          "text": [
            "X_test1 Accuracy: 0.983524270698004\n",
            "X_test1 Precision: 0.10975609756097561\n",
            "X_test1 Recall: 0.11920529801324503\n",
            "X_test1 F1-Score: 0.11428571428571428\n",
            "\n",
            "\n",
            "X_test2 Accuracy: 0.9755157123578176\n",
            "X_test2 Precision: 0.3561046511627907\n",
            "X_test2 Recall: 0.7903225806451613\n",
            "X_test2 F1-Score: 0.4909819639278557\n",
            "\n",
            "\n",
            "X_test3 Accuracy: 0.9978508966948273\n",
            "X_test3 Precision: 0.9933155080213903\n",
            "X_test3 Recall: 0.9334170854271356\n",
            "X_test3 F1-Score: 0.9624352331606217\n"
          ]
        }
      ]
    },
    {
      "cell_type": "code",
      "source": [
        "# Creating DataFrame\n",
        "X_test1_results_df = pd.DataFrame({\n",
        "    'Actual from X_test1': y_test1,\n",
        "    'Predicted from X_test1': new_predict_on_unseen1,\n",
        "\n",
        "\n",
        "})\n",
        "\n",
        "X_test2_results_df = pd.DataFrame({\n",
        "    'Actual from X_test2': y_test2,\n",
        "    'Predicted from X_test2': new_predict_on_unseen2,\n",
        "})\n",
        "\n",
        "X_test3_results_df = pd.DataFrame({\n",
        "    'Actual from X_test3': y_test3,\n",
        "    'Predicted from X_test3': new_predict_on_unseen3\n",
        "})\n",
        "\n",
        "# Saving DataFrame to CSV\n",
        "csv_path = 'new_predictions_and_actuals_from X_test1.csv'\n",
        "X_test1_results_df.to_csv(csv_path, index=False)\n",
        "\n",
        "csv_path = 'new_predictions_and_actuals_from X_test2.csv'\n",
        "X_test2_results_df.to_csv(csv_path, index=False)\n",
        "\n",
        "csv_path = 'new_predictions_and_actuals_from X_test3.csv'\n",
        "X_test3_results_df.to_csv(csv_path, index=False)\n",
        "\n",
        "print(\"Saved predictions and actual labels\")\n",
        "\n"
      ],
      "metadata": {
        "colab": {
          "base_uri": "https://localhost:8080/"
        },
        "id": "1uNyJBeOoaug",
        "outputId": "4d4f3216-df1c-4766-bfd8-e19af39712fa"
      },
      "execution_count": 148,
      "outputs": [
        {
          "output_type": "stream",
          "name": "stdout",
          "text": [
            "Saved predictions and actual labels\n"
          ]
        }
      ]
    },
    {
      "cell_type": "code",
      "execution_count": null,
      "metadata": {
        "id": "x0Tb1p7sE-7Z"
      },
      "outputs": [],
      "source": [
        "# Confusion Matrix Guide :\n",
        "#    [ [TN    FP]\n",
        "#      [FN    TP] ]"
      ]
    },
    {
      "cell_type": "code",
      "execution_count": 139,
      "metadata": {
        "id": "8Yc6iSp7E-7Z",
        "colab": {
          "base_uri": "https://localhost:8080/"
        },
        "outputId": "c1559012-acce-4eb2-d888-407f0224179a"
      },
      "outputs": [
        {
          "output_type": "stream",
          "name": "stdout",
          "text": [
            " The Max True Negatives (TN): 26187 \n",
            " The min False Negatives(FN): 53 \n",
            " The min False Positives(FP): 5 \n",
            " The Max True Positives (TP): 743 \n",
            "\n",
            " The min True Negatives (TN): 16637 \n",
            " The Max False Negatives(FN): 133 \n",
            " The Max False Positives(FP): 443 \n",
            " The min True Positives (TP): 18 \n",
            "\n"
          ]
        }
      ],
      "source": [
        "# Here we look at the Confusion Matrix :\n",
        "\n",
        "tn_fn = []\n",
        "fp_tp = []\n",
        "for TNFP_FNTP in confuse_matrix1:\n",
        "\n",
        "    for TN_and_FN_or_FP_and_TP in TNFP_FNTP :\n",
        "        TN_and_FN = TN_and_FN_or_FP_and_TP[0]\n",
        "        FP_and_TP = TN_and_FN_or_FP_and_TP[1]\n",
        "        tn_fn.append(TN_and_FN)\n",
        "        fp_tp.append(FP_and_TP)\n",
        "tn = []\n",
        "fn = []\n",
        "fp = []\n",
        "tp = []\n",
        "for i in range(0, len(tn_fn), 2) :\n",
        "    tn.append(tn_fn[i])\n",
        "for i in range(1, len(tn_fn), 2) :\n",
        "    fn.append(tn_fn[i])\n",
        "for i in range(0, len(tn_fn), 2) :\n",
        "    fp.append(fp_tp[i])\n",
        "for i in range(1, len(tn_fn), 2) :\n",
        "    tp.append(fp_tp[i])\n",
        "\n",
        "tn_fn = []\n",
        "fp_tp = []\n",
        "for TNFP_FNTP in confuse_matrix2:\n",
        "\n",
        "    for TN_and_FN_or_FP_and_TP in TNFP_FNTP :\n",
        "        TN_and_FN = TN_and_FN_or_FP_and_TP[0]\n",
        "        FP_and_TP = TN_and_FN_or_FP_and_TP[1]\n",
        "        tn_fn.append(TN_and_FN)\n",
        "        fp_tp.append(FP_and_TP)\n",
        "\n",
        "for i in range(0, len(tn_fn), 2) :\n",
        "    tn.append(tn_fn[i])\n",
        "for i in range(1, len(tn_fn), 2) :\n",
        "    fn.append(tn_fn[i])\n",
        "for i in range(0, len(tn_fn), 2) :\n",
        "    fp.append(fp_tp[i])\n",
        "for i in range(1, len(tn_fn), 2) :\n",
        "    tp.append(fp_tp[i])\n",
        "\n",
        "tn_fn = []\n",
        "fp_tp = []\n",
        "for TNFP_FNTP in confuse_matrix3:\n",
        "\n",
        "    for TN_and_FN_or_FP_and_TP in TNFP_FNTP :\n",
        "        TN_and_FN = TN_and_FN_or_FP_and_TP[0]\n",
        "        FP_and_TP = TN_and_FN_or_FP_and_TP[1]\n",
        "        tn_fn.append(TN_and_FN)\n",
        "        fp_tp.append(FP_and_TP)\n",
        "\n",
        "for i in range(0, len(tn_fn), 2) :\n",
        "    tn.append(tn_fn[i])\n",
        "for i in range(1, len(tn_fn), 2) :\n",
        "    fn.append(tn_fn[i])\n",
        "for i in range(0, len(tn_fn), 2) :\n",
        "    fp.append(fp_tp[i])\n",
        "for i in range(1, len(tn_fn), 2) :\n",
        "    tp.append(fp_tp[i])\n",
        "\n",
        "print(f\" The Max True Negatives (TN): {max(tn)} \\n\",\n",
        "      f\"The min False Negatives(FN): {min(fn)} \\n\",\n",
        "      f\"The min False Positives(FP): {min(fp)} \\n\",\n",
        "      f\"The Max True Positives (TP): {max(tp)} \\n\")\n",
        "\n",
        "print(f\" The min True Negatives (TN): {min(tn)} \\n\",\n",
        "      f\"The Max False Negatives(FN): {max(fn)} \\n\",\n",
        "      f\"The Max False Positives(FP): {max(fp)} \\n\",\n",
        "      f\"The min True Positives (TP): {min(tp)} \\n\")"
      ]
    },
    {
      "cell_type": "code",
      "source": [
        "#%pip install torch_geometric"
      ],
      "metadata": {
        "id": "RuBev6uOtEWe"
      },
      "execution_count": null,
      "outputs": []
    },
    {
      "cell_type": "markdown",
      "source": [
        "بگذارید رگرسیون را تست کنیم"
      ],
      "metadata": {
        "id": "1xx9h6Vg8fSH"
      }
    },
    {
      "cell_type": "code",
      "source": [
        "# data1 = train, data2 = train , data3 = test"
      ],
      "metadata": {
        "id": "1s4r7M9u9RX1"
      },
      "execution_count": null,
      "outputs": []
    },
    {
      "cell_type": "code",
      "source": [
        "X_train1 = data1.drop(['node1','node2','Label'], axis=1)  # Features\n",
        "y_train1 = data1['Label']  # Labels\n",
        "\n",
        "X_train2 = data2.drop(['node1','node2','Label'], axis=1)  # Features\n",
        "y_train2 = data2['Label']  # Labels\n",
        "\n",
        "X_test = data3.drop(['node1','node2','Label'], axis=1)  # Features\n",
        "y_test = data3['Label']  # Labels"
      ],
      "metadata": {
        "id": "grd60ns79Cg6"
      },
      "execution_count": 153,
      "outputs": []
    },
    {
      "cell_type": "code",
      "source": [
        "train_features = np.array(X_train1)\n",
        "train_labels = np.array(y_train1)"
      ],
      "metadata": {
        "id": "Gi0XEbN-87MN"
      },
      "execution_count": 154,
      "outputs": []
    },
    {
      "cell_type": "code",
      "source": [
        "from sklearn.linear_model import LogisticRegression\n",
        "from sklearn.metrics import roc_auc_score, accuracy_score\n",
        "\n",
        "# Initialize and train the logistic regression model\n",
        "logistic_model = LogisticRegression(random_state=42, max_iter=1000)\n",
        "logistic_model.fit(train_features, train_labels)"
      ],
      "metadata": {
        "id": "5sCPiToc8jj5",
        "outputId": "8515c433-4d6f-4bc1-d4ec-6e6602921906",
        "colab": {
          "base_uri": "https://localhost:8080/",
          "height": 75
        }
      },
      "execution_count": 155,
      "outputs": [
        {
          "output_type": "execute_result",
          "data": {
            "text/plain": [
              "LogisticRegression(max_iter=1000, random_state=42)"
            ],
            "text/html": [
              "<style>#sk-container-id-2 {color: black;background-color: white;}#sk-container-id-2 pre{padding: 0;}#sk-container-id-2 div.sk-toggleable {background-color: white;}#sk-container-id-2 label.sk-toggleable__label {cursor: pointer;display: block;width: 100%;margin-bottom: 0;padding: 0.3em;box-sizing: border-box;text-align: center;}#sk-container-id-2 label.sk-toggleable__label-arrow:before {content: \"▸\";float: left;margin-right: 0.25em;color: #696969;}#sk-container-id-2 label.sk-toggleable__label-arrow:hover:before {color: black;}#sk-container-id-2 div.sk-estimator:hover label.sk-toggleable__label-arrow:before {color: black;}#sk-container-id-2 div.sk-toggleable__content {max-height: 0;max-width: 0;overflow: hidden;text-align: left;background-color: #f0f8ff;}#sk-container-id-2 div.sk-toggleable__content pre {margin: 0.2em;color: black;border-radius: 0.25em;background-color: #f0f8ff;}#sk-container-id-2 input.sk-toggleable__control:checked~div.sk-toggleable__content {max-height: 200px;max-width: 100%;overflow: auto;}#sk-container-id-2 input.sk-toggleable__control:checked~label.sk-toggleable__label-arrow:before {content: \"▾\";}#sk-container-id-2 div.sk-estimator input.sk-toggleable__control:checked~label.sk-toggleable__label {background-color: #d4ebff;}#sk-container-id-2 div.sk-label input.sk-toggleable__control:checked~label.sk-toggleable__label {background-color: #d4ebff;}#sk-container-id-2 input.sk-hidden--visually {border: 0;clip: rect(1px 1px 1px 1px);clip: rect(1px, 1px, 1px, 1px);height: 1px;margin: -1px;overflow: hidden;padding: 0;position: absolute;width: 1px;}#sk-container-id-2 div.sk-estimator {font-family: monospace;background-color: #f0f8ff;border: 1px dotted black;border-radius: 0.25em;box-sizing: border-box;margin-bottom: 0.5em;}#sk-container-id-2 div.sk-estimator:hover {background-color: #d4ebff;}#sk-container-id-2 div.sk-parallel-item::after {content: \"\";width: 100%;border-bottom: 1px solid gray;flex-grow: 1;}#sk-container-id-2 div.sk-label:hover label.sk-toggleable__label {background-color: #d4ebff;}#sk-container-id-2 div.sk-serial::before {content: \"\";position: absolute;border-left: 1px solid gray;box-sizing: border-box;top: 0;bottom: 0;left: 50%;z-index: 0;}#sk-container-id-2 div.sk-serial {display: flex;flex-direction: column;align-items: center;background-color: white;padding-right: 0.2em;padding-left: 0.2em;position: relative;}#sk-container-id-2 div.sk-item {position: relative;z-index: 1;}#sk-container-id-2 div.sk-parallel {display: flex;align-items: stretch;justify-content: center;background-color: white;position: relative;}#sk-container-id-2 div.sk-item::before, #sk-container-id-2 div.sk-parallel-item::before {content: \"\";position: absolute;border-left: 1px solid gray;box-sizing: border-box;top: 0;bottom: 0;left: 50%;z-index: -1;}#sk-container-id-2 div.sk-parallel-item {display: flex;flex-direction: column;z-index: 1;position: relative;background-color: white;}#sk-container-id-2 div.sk-parallel-item:first-child::after {align-self: flex-end;width: 50%;}#sk-container-id-2 div.sk-parallel-item:last-child::after {align-self: flex-start;width: 50%;}#sk-container-id-2 div.sk-parallel-item:only-child::after {width: 0;}#sk-container-id-2 div.sk-dashed-wrapped {border: 1px dashed gray;margin: 0 0.4em 0.5em 0.4em;box-sizing: border-box;padding-bottom: 0.4em;background-color: white;}#sk-container-id-2 div.sk-label label {font-family: monospace;font-weight: bold;display: inline-block;line-height: 1.2em;}#sk-container-id-2 div.sk-label-container {text-align: center;}#sk-container-id-2 div.sk-container {/* jupyter's `normalize.less` sets `[hidden] { display: none; }` but bootstrap.min.css set `[hidden] { display: none !important; }` so we also need the `!important` here to be able to override the default hidden behavior on the sphinx rendered scikit-learn.org. See: https://github.com/scikit-learn/scikit-learn/issues/21755 */display: inline-block !important;position: relative;}#sk-container-id-2 div.sk-text-repr-fallback {display: none;}</style><div id=\"sk-container-id-2\" class=\"sk-top-container\"><div class=\"sk-text-repr-fallback\"><pre>LogisticRegression(max_iter=1000, random_state=42)</pre><b>In a Jupyter environment, please rerun this cell to show the HTML representation or trust the notebook. <br />On GitHub, the HTML representation is unable to render, please try loading this page with nbviewer.org.</b></div><div class=\"sk-container\" hidden><div class=\"sk-item\"><div class=\"sk-estimator sk-toggleable\"><input class=\"sk-toggleable__control sk-hidden--visually\" id=\"sk-estimator-id-2\" type=\"checkbox\" checked><label for=\"sk-estimator-id-2\" class=\"sk-toggleable__label sk-toggleable__label-arrow\">LogisticRegression</label><div class=\"sk-toggleable__content\"><pre>LogisticRegression(max_iter=1000, random_state=42)</pre></div></div></div></div></div>"
            ]
          },
          "metadata": {},
          "execution_count": 155
        }
      ]
    },
    {
      "cell_type": "code",
      "source": [
        "train_features = np.array(X_train2)\n",
        "train_labels = np.array(y_train2)"
      ],
      "metadata": {
        "id": "WtwMQlbj9xEP"
      },
      "execution_count": 157,
      "outputs": []
    },
    {
      "cell_type": "code",
      "source": [
        "logistic_model.fit(train_features, train_labels)"
      ],
      "metadata": {
        "id": "OoBBKRfW909i",
        "outputId": "ec39c655-bf36-4036-c035-8c11e3582876",
        "colab": {
          "base_uri": "https://localhost:8080/",
          "height": 75
        }
      },
      "execution_count": 158,
      "outputs": [
        {
          "output_type": "execute_result",
          "data": {
            "text/plain": [
              "LogisticRegression(max_iter=1000, random_state=42)"
            ],
            "text/html": [
              "<style>#sk-container-id-4 {color: black;background-color: white;}#sk-container-id-4 pre{padding: 0;}#sk-container-id-4 div.sk-toggleable {background-color: white;}#sk-container-id-4 label.sk-toggleable__label {cursor: pointer;display: block;width: 100%;margin-bottom: 0;padding: 0.3em;box-sizing: border-box;text-align: center;}#sk-container-id-4 label.sk-toggleable__label-arrow:before {content: \"▸\";float: left;margin-right: 0.25em;color: #696969;}#sk-container-id-4 label.sk-toggleable__label-arrow:hover:before {color: black;}#sk-container-id-4 div.sk-estimator:hover label.sk-toggleable__label-arrow:before {color: black;}#sk-container-id-4 div.sk-toggleable__content {max-height: 0;max-width: 0;overflow: hidden;text-align: left;background-color: #f0f8ff;}#sk-container-id-4 div.sk-toggleable__content pre {margin: 0.2em;color: black;border-radius: 0.25em;background-color: #f0f8ff;}#sk-container-id-4 input.sk-toggleable__control:checked~div.sk-toggleable__content {max-height: 200px;max-width: 100%;overflow: auto;}#sk-container-id-4 input.sk-toggleable__control:checked~label.sk-toggleable__label-arrow:before {content: \"▾\";}#sk-container-id-4 div.sk-estimator input.sk-toggleable__control:checked~label.sk-toggleable__label {background-color: #d4ebff;}#sk-container-id-4 div.sk-label input.sk-toggleable__control:checked~label.sk-toggleable__label {background-color: #d4ebff;}#sk-container-id-4 input.sk-hidden--visually {border: 0;clip: rect(1px 1px 1px 1px);clip: rect(1px, 1px, 1px, 1px);height: 1px;margin: -1px;overflow: hidden;padding: 0;position: absolute;width: 1px;}#sk-container-id-4 div.sk-estimator {font-family: monospace;background-color: #f0f8ff;border: 1px dotted black;border-radius: 0.25em;box-sizing: border-box;margin-bottom: 0.5em;}#sk-container-id-4 div.sk-estimator:hover {background-color: #d4ebff;}#sk-container-id-4 div.sk-parallel-item::after {content: \"\";width: 100%;border-bottom: 1px solid gray;flex-grow: 1;}#sk-container-id-4 div.sk-label:hover label.sk-toggleable__label {background-color: #d4ebff;}#sk-container-id-4 div.sk-serial::before {content: \"\";position: absolute;border-left: 1px solid gray;box-sizing: border-box;top: 0;bottom: 0;left: 50%;z-index: 0;}#sk-container-id-4 div.sk-serial {display: flex;flex-direction: column;align-items: center;background-color: white;padding-right: 0.2em;padding-left: 0.2em;position: relative;}#sk-container-id-4 div.sk-item {position: relative;z-index: 1;}#sk-container-id-4 div.sk-parallel {display: flex;align-items: stretch;justify-content: center;background-color: white;position: relative;}#sk-container-id-4 div.sk-item::before, #sk-container-id-4 div.sk-parallel-item::before {content: \"\";position: absolute;border-left: 1px solid gray;box-sizing: border-box;top: 0;bottom: 0;left: 50%;z-index: -1;}#sk-container-id-4 div.sk-parallel-item {display: flex;flex-direction: column;z-index: 1;position: relative;background-color: white;}#sk-container-id-4 div.sk-parallel-item:first-child::after {align-self: flex-end;width: 50%;}#sk-container-id-4 div.sk-parallel-item:last-child::after {align-self: flex-start;width: 50%;}#sk-container-id-4 div.sk-parallel-item:only-child::after {width: 0;}#sk-container-id-4 div.sk-dashed-wrapped {border: 1px dashed gray;margin: 0 0.4em 0.5em 0.4em;box-sizing: border-box;padding-bottom: 0.4em;background-color: white;}#sk-container-id-4 div.sk-label label {font-family: monospace;font-weight: bold;display: inline-block;line-height: 1.2em;}#sk-container-id-4 div.sk-label-container {text-align: center;}#sk-container-id-4 div.sk-container {/* jupyter's `normalize.less` sets `[hidden] { display: none; }` but bootstrap.min.css set `[hidden] { display: none !important; }` so we also need the `!important` here to be able to override the default hidden behavior on the sphinx rendered scikit-learn.org. See: https://github.com/scikit-learn/scikit-learn/issues/21755 */display: inline-block !important;position: relative;}#sk-container-id-4 div.sk-text-repr-fallback {display: none;}</style><div id=\"sk-container-id-4\" class=\"sk-top-container\"><div class=\"sk-text-repr-fallback\"><pre>LogisticRegression(max_iter=1000, random_state=42)</pre><b>In a Jupyter environment, please rerun this cell to show the HTML representation or trust the notebook. <br />On GitHub, the HTML representation is unable to render, please try loading this page with nbviewer.org.</b></div><div class=\"sk-container\" hidden><div class=\"sk-item\"><div class=\"sk-estimator sk-toggleable\"><input class=\"sk-toggleable__control sk-hidden--visually\" id=\"sk-estimator-id-4\" type=\"checkbox\" checked><label for=\"sk-estimator-id-4\" class=\"sk-toggleable__label sk-toggleable__label-arrow\">LogisticRegression</label><div class=\"sk-toggleable__content\"><pre>LogisticRegression(max_iter=1000, random_state=42)</pre></div></div></div></div></div>"
            ]
          },
          "metadata": {},
          "execution_count": 158
        }
      ]
    },
    {
      "cell_type": "code",
      "source": [
        "# Now the completly new and unseen :\n"
      ],
      "metadata": {
        "id": "dQAtX__V92Il"
      },
      "execution_count": null,
      "outputs": []
    },
    {
      "cell_type": "code",
      "source": [
        "test_features = np.array(X_test)\n",
        "test_labels = np.array(y_test)"
      ],
      "metadata": {
        "id": "Pq1lHqUh-D4k"
      },
      "execution_count": 159,
      "outputs": []
    },
    {
      "cell_type": "code",
      "source": [
        "# Predict on the test set\n",
        "test_predictions = logistic_model.predict(test_features)\n",
        "test_probabilities = logistic_model.predict_proba(test_features)[:, 1]\n",
        "\n",
        "# Calculate metrics\n",
        "roc_auc = roc_auc_score(test_labels, test_probabilities)\n",
        "accuracy = accuracy_score(test_labels, test_predictions)\n",
        "\n",
        "roc_auc, accuracy"
      ],
      "metadata": {
        "id": "5A3KTbQp96BF",
        "outputId": "702581d3-d2d2-4b4a-8f5d-108fff494627",
        "colab": {
          "base_uri": "https://localhost:8080/"
        }
      },
      "execution_count": 160,
      "outputs": [
        {
          "output_type": "execute_result",
          "data": {
            "text/plain": [
              "(0.9536496239198189, 0.8888987698236254)"
            ]
          },
          "metadata": {},
          "execution_count": 160
        }
      ]
    }
  ],
  "metadata": {
    "kernelspec": {
      "display_name": ".gragh",
      "language": "python",
      "name": "python3"
    },
    "language_info": {
      "codemirror_mode": {
        "name": "ipython",
        "version": 3
      },
      "file_extension": ".py",
      "mimetype": "text/x-python",
      "name": "python",
      "nbconvert_exporter": "python",
      "pygments_lexer": "ipython3",
      "version": "3.11.5"
    },
    "colab": {
      "provenance": []
    }
  },
  "nbformat": 4,
  "nbformat_minor": 0
}