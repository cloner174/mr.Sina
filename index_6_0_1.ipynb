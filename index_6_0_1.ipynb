{
  "cells": [
    {
      "cell_type": "code",
      "execution_count": 2,
      "metadata": {
        "colab": {
          "base_uri": "https://localhost:8080/"
        },
        "id": "smpF-KqtFDDF",
        "outputId": "584195c6-a238-4e06-c487-5b210a083437"
      },
      "outputs": [
        {
          "name": "stdout",
          "output_type": "stream",
          "text": [
            "Cloning into 'mr.Sina'...\n",
            "remote: Enumerating objects: 229, done.\u001b[K\n",
            "remote: Counting objects: 100% (229/229), done.\u001b[K\n",
            "remote: Compressing objects: 100% (199/199), done.\u001b[K\n",
            "remote: Total 229 (delta 77), reused 121 (delta 22), pack-reused 0\u001b[K\n",
            "Receiving objects: 100% (229/229), 24.34 MiB | 11.06 MiB/s, done.\n",
            "Resolving deltas: 100% (77/77), done.\n"
          ]
        }
      ],
      "source": [
        "!git clone https://github.com/cloner174/mr.Sina.git"
      ]
    },
    {
      "cell_type": "code",
      "execution_count": 3,
      "metadata": {
        "colab": {
          "base_uri": "https://localhost:8080/"
        },
        "id": "_fbKpdt0FFgo",
        "outputId": "079944ea-978d-4ade-8067-68a9fde113fd"
      },
      "outputs": [
        {
          "name": "stdout",
          "output_type": "stream",
          "text": [
            "/content/mr.Sina\n"
          ]
        }
      ],
      "source": [
        "%cd mr.Sina"
      ]
    },
    {
      "cell_type": "code",
      "execution_count": 1,
      "metadata": {
        "id": "QKtN_PC6E-6_"
      },
      "outputs": [],
      "source": [
        "# Import Packages :\n",
        "\n",
        "import pandas as pd\n",
        "from main import DataHandle\n"
      ]
    },
    {
      "cell_type": "code",
      "execution_count": 2,
      "metadata": {
        "colab": {
          "base_uri": "https://localhost:8080/"
        },
        "id": "3zjSDQEpE-7H",
        "outputId": "985954c1-a23d-4579-fce3-ccc5e85b35e0"
      },
      "outputs": [
        {
          "name": "stdout",
          "output_type": "stream",
          "text": [
            "(199981, 4) (8977, 5)\n"
          ]
        },
        {
          "data": {
            "text/plain": [
              "1548"
            ]
          },
          "execution_count": 2,
          "metadata": {},
          "output_type": "execute_result"
        }
      ],
      "source": [
        "# Loading data\n",
        "\n",
        "data = pd.read_csv( 'input/link_dataFinal.csv' , index_col=0)\n",
        "nodes = pd.read_csv( './input/nodes.csv' )\n",
        "\n",
        "print(data.shape, nodes.shape)\n",
        "#((969395, 3), (8977, 5))\n",
        "data = data.sample(frac=0.01)\n",
        "nodes_list = []\n",
        "sors = []\n",
        "advs = []\n",
        "pubs = []\n",
        "for i in data['source'] :\n",
        "  if i in nodes['id'].tolist():\n",
        "    if i not in nodes_list:\n",
        "      sors.append(i)\n",
        "      nodes_list.append(i)\n",
        "      index = nodes.index[nodes['id'] == i].tolist()[0]\n",
        "      if list(nodes.iloc[[index]]['color'] == 'red')[0]:\n",
        "        advs.append(i)\n",
        "      else:\n",
        "        pubs.append(i)\n",
        "tar = []\n",
        "for i in data['target'] :\n",
        "  if i in nodes['id'].tolist():\n",
        "    if i not in nodes_list:\n",
        "      tar.append(i)\n",
        "      nodes_list.append(i)\n",
        "      index = nodes.index[nodes['id'] == i].tolist()[0]\n",
        "      if list(nodes.iloc[[index]]['color'] == 'red')[0]:\n",
        "        advs.append(i)\n",
        "      else:\n",
        "        pubs.append(i)\n",
        "\n",
        "advs_ = list(set(advs))\n",
        "pubs_ = list(set(pubs))\n",
        "len(advs_), len(pubs_) #(4299, 1946)\n",
        "len(nodes_list)# تعداد کل نود ها 6245"
      ]
    },
    {
      "cell_type": "code",
      "execution_count": 3,
      "metadata": {
        "colab": {
          "base_uri": "https://localhost:8080/"
        },
        "id": "KmbvdsCrE-7I",
        "outputId": "e758a367-a173-4af8-cc96-8b48ebb4bc0a"
      },
      "outputs": [
        {
          "data": {
            "text/plain": [
              "Index(['X_igraph_index', 'source', 'target', 'key'], dtype='object')"
            ]
          },
          "execution_count": 3,
          "metadata": {},
          "output_type": "execute_result"
        }
      ],
      "source": [
        "# Finding the nodes from data to pass to the DataHandel class!\n",
        "\n",
        "data.columns"
      ]
    },
    {
      "cell_type": "code",
      "execution_count": 4,
      "metadata": {
        "id": "PVE82K6pE-7I"
      },
      "outputs": [],
      "source": [
        "data = pd.read_csv( 'input/links.csv' , index_col=0)\n",
        "\n",
        "data = data.sample(frac=1, random_state=32)\n",
        "\n",
        "links_ = []\n",
        "sources_ = []\n",
        "targets_ = []\n",
        "for i in range(data.shape[0]) :\n",
        "    sor_ = data.loc[i, 'source']\n",
        "    tar_ = data.loc[i, 'target']\n",
        "    if sor_ in nodes_list and tar_ in nodes_list:\n",
        "        sources_.append(sor_)\n",
        "        targets_.append(tar_)\n",
        "        links_.append( (sor_, tar_) )\n",
        "        if len(links_) == 60000 :\n",
        "            break\n",
        "        else:\n",
        "            continue"
      ]
    },
    {
      "cell_type": "code",
      "execution_count": 5,
      "metadata": {
        "colab": {
          "base_uri": "https://localhost:8080/"
        },
        "id": "Tw2a8sN0IVyN",
        "outputId": "a6d64172-94fe-4ade-f480-af73e5ea974b"
      },
      "outputs": [
        {
          "data": {
            "text/plain": [
              "60000"
            ]
          },
          "execution_count": 5,
          "metadata": {},
          "output_type": "execute_result"
        }
      ],
      "source": [
        "len(links_) # تعداد کل لینک ها 199981"
      ]
    },
    {
      "cell_type": "code",
      "execution_count": null,
      "metadata": {
        "id": "Y8GixwI5U5L2"
      },
      "outputs": [],
      "source": [
        "\"\"\"\n",
        "nodes_list = []\n",
        "sors = []\n",
        "advs = []\n",
        "pubs = []\n",
        "for i in data['source'] :\n",
        "  if i in nodes['id'].tolist():\n",
        "    if i not in nodes_list:\n",
        "      sors.append(i)\n",
        "      nodes_list.append(i)\n",
        "      index = nodes.index[nodes['id'] == i].tolist()[0]\n",
        "      if list(nodes.iloc[[index]]['color'] == 'red')[0]:\n",
        "        advs.append(i)\n",
        "      else:\n",
        "        pubs.append(i)\n",
        "tar = []\n",
        "for i in data['target'] :\n",
        "  if i in nodes['id'].tolist():\n",
        "    if i not in nodes_list:\n",
        "      tar.append(i)\n",
        "      nodes_list.append(i)\n",
        "      index = nodes.index[nodes['id'] == i].tolist()[0]\n",
        "      if list(nodes.iloc[[index]]['color'] == 'red')[0]:\n",
        "        advs.append(i)\n",
        "      else:\n",
        "        pubs.append(i)\n",
        "\"\"\""
      ]
    },
    {
      "cell_type": "code",
      "execution_count": 6,
      "metadata": {
        "colab": {
          "base_uri": "https://localhost:8080/"
        },
        "id": "CigYJ0XMZYzH",
        "outputId": "19eb7faa-ca3c-4cc1-e866-0a87b0f08434"
      },
      "outputs": [
        {
          "data": {
            "text/plain": [
              "(607, 941)"
            ]
          },
          "execution_count": 6,
          "metadata": {},
          "output_type": "execute_result"
        }
      ],
      "source": [
        "advs_ = list(set(advs))\n",
        "pubs_ = list(set(pubs))\n",
        "\n",
        "len(advs_), len(pubs_) #(4299, 1946)"
      ]
    },
    {
      "cell_type": "code",
      "execution_count": 7,
      "metadata": {
        "id": "rrt8lj70Ikxg"
      },
      "outputs": [],
      "source": [
        "name_laybel1 = [ 'a_node' for i in range( len(advs ))]\n",
        "name_laybel2 = [ 'p_node' for i in range( len(pubs ))]\n",
        "name_laybel = name_laybel1.copy()\n",
        "name_laybel.extend(name_laybel2)\n",
        "id_laybel = advs.copy()\n",
        "id_laybel.extend(pubs)\n",
        "nodes = {\n",
        "    'name' : name_laybel,\n",
        "    'id' : id_laybel\n",
        "}"
      ]
    },
    {
      "cell_type": "code",
      "execution_count": 8,
      "metadata": {
        "id": "ZQYGw7EaIZU_"
      },
      "outputs": [],
      "source": [
        "links = {\n",
        "    'source' : sources_,\n",
        "    'target' : targets_\n",
        "}"
      ]
    },
    {
      "cell_type": "code",
      "execution_count": 9,
      "metadata": {
        "colab": {
          "base_uri": "https://localhost:8080/"
        },
        "id": "MQYJgK2lI99o",
        "outputId": "c3c9869d-5473-401b-b299-e5989d5223c3"
      },
      "outputs": [
        {
          "name": "stdout",
          "output_type": "stream",
          "text": [
            "<class 'dict'> <class 'dict'>\n"
          ]
        }
      ],
      "source": [
        "# getting data ready by turnnig to dicts both !\n",
        "print(type(nodes), type(links))"
      ]
    },
    {
      "cell_type": "code",
      "execution_count": 10,
      "metadata": {
        "id": "MnCvO8VOSZcx"
      },
      "outputs": [],
      "source": [
        "# This will prepare and preprocess the data :\n",
        "\n",
        "Start = DataHandle( data_links= links, data_nodes= nodes)"
      ]
    },
    {
      "cell_type": "code",
      "execution_count": 11,
      "metadata": {
        "colab": {
          "base_uri": "https://localhost:8080/"
        },
        "id": "Fou4nmcBKtwG",
        "outputId": "cb742a28-55d4-485a-8fe3-d4afe0464e86"
      },
      "outputs": [
        {
          "name": "stdout",
          "output_type": "stream",
          "text": [
            "name\n"
          ]
        }
      ],
      "source": [
        "Start.initial_keys()"
      ]
    },
    {
      "cell_type": "code",
      "execution_count": 12,
      "metadata": {
        "colab": {
          "base_uri": "https://localhost:8080/"
        },
        "id": "G7gdIhs8R376",
        "outputId": "306bd680-3c9b-489d-b0bc-068cac0ea512"
      },
      "outputs": [
        {
          "name": "stdout",
          "output_type": "stream",
          "text": [
            "Getting things Ready...\n"
          ]
        }
      ],
      "source": [
        "layer_one_links, layer_two_links, interconnected_links = Start.modify_links()"
      ]
    },
    {
      "cell_type": "code",
      "execution_count": 13,
      "metadata": {
        "colab": {
          "base_uri": "https://localhost:8080/"
        },
        "id": "aOvpSN6yU5L9",
        "outputId": "0de88e1f-695d-4a10-eca5-e03d91739cca"
      },
      "outputs": [
        {
          "name": "stdout",
          "output_type": "stream",
          "text": [
            "داده استفاده شده برای ترین وتست - لایه اول لینک ها 16633\n",
            "داده استفاده شده برای ترین وتست - لایه دوم لینک ها 28604\n",
            "داده استفاده شده برای ترین وتست -بین لایه ای لینک ها 14763\n"
          ]
        }
      ],
      "source": [
        "print( 'داده استفاده شده برای ترین وتست - لایه اول لینک ها', len(layer_one_links))\n",
        "print( 'داده استفاده شده برای ترین وتست - لایه دوم لینک ها', len(layer_two_links))\n",
        "print( 'داده استفاده شده برای ترین وتست -بین لایه ای لینک ها', len(interconnected_links))"
      ]
    },
    {
      "cell_type": "markdown",
      "metadata": {
        "id": "sgBXvilQU5L9"
      },
      "source": [
        "\n",
        "\n",
        "داده ی اولیه !!\n",
        "\n",
        "داده استفاده شده برای ترین وتست - لایه اول لینک ها 31570\n",
        "\n",
        "داده استفاده شده برای ترین وتست - لایه دوم لینک ها 137300\n",
        "\n",
        "داده استفاده شده برای ترین وتست -بین لایه ای لینک ها 31111\n"
      ]
    },
    {
      "cell_type": "code",
      "execution_count": 14,
      "metadata": {
        "colab": {
          "base_uri": "https://localhost:8080/"
        },
        "id": "NdJaz0pTE-7N",
        "outputId": "f4890d40-4c04-47be-f440-ad03edf9d6da"
      },
      "outputs": [
        {
          "name": "stdout",
          "output_type": "stream",
          "text": [
            "داده استفاده شده برای ترین وتست - نود ها ادورتایزرز 607\n",
            "داده استفاده شده برای ترین وتست - نود ها پابلیشرز 941\n"
          ]
        }
      ],
      "source": [
        "print( 'داده استفاده شده برای ترین وتست - نود ها ادورتایزرز', len(advs))\n",
        "print( 'داده استفاده شده برای ترین وتست - نود ها پابلیشرز', len(pubs))"
      ]
    },
    {
      "cell_type": "code",
      "execution_count": 15,
      "metadata": {
        "id": "6lfjVZYwE-7P"
      },
      "outputs": [],
      "source": [
        "from main import Graph"
      ]
    },
    {
      "cell_type": "code",
      "execution_count": 16,
      "metadata": {
        "id": "ZScEWQJ8E-7P"
      },
      "outputs": [],
      "source": [
        "G = Graph(layer_one_name= 'Advertisers', layer_two_name= 'Publishers', nx_use = True )"
      ]
    },
    {
      "cell_type": "code",
      "execution_count": 17,
      "metadata": {
        "id": "nSbbJPiSE-7Q"
      },
      "outputs": [],
      "source": [
        "# This is another use of add_links method for simple data :\n",
        "G_layer1, G_layer2 , G_interconnected = G.add_links( layer_one_links = layer_one_links ,\n",
        "                                            layer_two_links = layer_two_links ,\n",
        "                                            Interconnected_links = interconnected_links,\n",
        "                                            layer_one_nodes = advs,\n",
        "                                            layer_two_nodes = pubs)"
      ]
    },
    {
      "cell_type": "code",
      "execution_count": 18,
      "metadata": {
        "colab": {
          "base_uri": "https://localhost:8080/"
        },
        "id": "tQqSdKT9Wivu",
        "outputId": "d8709fdc-0531-4ab1-8358-ca3121491876"
      },
      "outputs": [
        {
          "name": "stdout",
          "output_type": "stream",
          "text": [
            " گراف برای لایه ی اول  Graph with 607 nodes and 16633 edges\n",
            " گراف برای لایه ی دوم Graph with 941 nodes and 28604 edges\n",
            " گراف برای لایه بینابینی   Graph with 1548 nodes and 45237 edges\n"
          ]
        }
      ],
      "source": [
        "print(' گراف برای لایه ی اول ', G_layer1)\n",
        "print(' گراف برای لایه ی دوم' , G_layer2)\n",
        "print( ' گراف برای لایه بینابینی  ', G_interconnected)"
      ]
    },
    {
      "cell_type": "code",
      "execution_count": null,
      "metadata": {
        "id": "i-K2-MsnbPhT"
      },
      "outputs": [],
      "source": [
        "# گراف برای تست  Graph with 3723 nodes and 14987 edges\n",
        " #گراف برای ترین Graph with 1740 nodes and 67272 edges\n",
        " # گراف برای ارزیابی نهایی  Graph with 5463 nodes and 95553 edges"
      ]
    },
    {
      "cell_type": "code",
      "execution_count": 19,
      "metadata": {},
      "outputs": [],
      "source": [
        "# Another one, This time with another approach :\n",
        "\n",
        "G_combined = G.add_links( layer_one_links = layer_one_links ,\n",
        "                            layer_two_links = layer_two_links ,\n",
        "                            Interconnected_links = interconnected_links,\n",
        "                            layer_one_nodes = advs,\n",
        "                            layer_two_nodes = pubs,\n",
        "                            combine_layers_no_self_layer = True)"
      ]
    },
    {
      "cell_type": "code",
      "execution_count": 20,
      "metadata": {},
      "outputs": [
        {
          "name": "stdout",
          "output_type": "stream",
          "text": [
            " گراف برای لایه همه ی نود ها به جزلینک های هم خانواده   Graph with 1548 nodes and 9944 edges\n"
          ]
        }
      ],
      "source": [
        "print( ' گراف برای لایه همه ی نود ها به جزلینک های هم خانواده  ', G_combined)"
      ]
    },
    {
      "cell_type": "code",
      "execution_count": 77,
      "metadata": {
        "id": "FGd_jQhhClkE"
      },
      "outputs": [],
      "source": [
        "import networkx as nx\n",
        "import matplotlib.pyplot as plt\n",
        "import seaborn as sns\n",
        "import numpy as np\n",
        "from sklearn.model_selection import train_test_split"
      ]
    },
    {
      "cell_type": "code",
      "execution_count": 22,
      "metadata": {
        "id": "mEhZiHfxClJ_"
      },
      "outputs": [],
      "source": [
        "# Centrality Measures :\n",
        "\n",
        "def calculate_centrality_measures(G):\n",
        "    degree_centrality = nx.degree_centrality(G)\n",
        "    betweenness_centrality = nx.betweenness_centrality(G)\n",
        "    closeness_centrality = nx.closeness_centrality(G)\n",
        "    return degree_centrality, betweenness_centrality, closeness_centrality"
      ]
    },
    {
      "cell_type": "code",
      "execution_count": 59,
      "metadata": {},
      "outputs": [
        {
          "data": {
            "image/png": "[encoded data removed]",
            "text/plain": [
              "<Figure size 640x480 with 1 Axes>"
            ]
          },
          "metadata": {},
          "output_type": "display_data"
        }
      ],
      "source": [
        "degrees = [G_layer1.degree(node) for node in G_layer1.nodes()]\n",
        "\n",
        "# Plot degree distribution\n",
        "plt.hist(degrees, bins=range(max(degrees)+1), density=True)\n",
        "plt.title(\"Degree Distribution of G_layer1\")\n",
        "plt.xlabel(\"Degree\")\n",
        "plt.ylabel(\"Probability\")\n",
        "plt.show()"
      ]
    },
    {
      "cell_type": "code",
      "execution_count": null,
      "metadata": {},
      "outputs": [],
      "source": [
        "degree_centrality = nx.degree_centrality(G_layer1)\n",
        "\n",
        "degree_values = list(degree_centrality.values())\n",
        "plt.figure(figsize=(10, 6))\n",
        "sns.histplot(degree_values, bins = 20, kde=True, color='blue')\n",
        "plt.title('Degree Centrality Distribution G_layer1')\n",
        "plt.xlabel('Centrality')\n",
        "plt.ylabel('Frequency')\n",
        "plt.ylim(0,100)\n",
        "plt.show()"
      ]
    },
    {
      "cell_type": "code",
      "execution_count": 61,
      "metadata": {
        "colab": {
          "base_uri": "https://localhost:8080/",
          "height": 1000
        },
        "id": "_Z_XgebxXPMh",
        "outputId": "1ae1a23e-afe4-46ec-d608-8d465830e5a5"
      },
      "outputs": [
        {
          "data": {
            "image/png": "[encoded data removed]",
            "text/plain": [
              "<Figure size 1000x600 with 1 Axes>"
            ]
          },
          "metadata": {},
          "output_type": "display_data"
        }
      ],
      "source": [
        "closeness_centrality = nx.closeness_centrality(G_layer1)\n",
        "\n",
        "closeness_values = list(closeness_centrality.values())\n",
        "plt.figure(figsize=(10, 6))\n",
        "sns.histplot(closeness_values,  bins = 200, kde=True, color='red')\n",
        "plt.title('Closeness Centrality Distribution G_layer1')\n",
        "plt.xlabel('Centrality')\n",
        "plt.ylabel('Frequency')\n",
        "plt.xlim(0.01, 0.5)\n",
        "plt.ylim(0,80)\n",
        "plt.show()\n"
      ]
    },
    {
      "cell_type": "code",
      "execution_count": 57,
      "metadata": {},
      "outputs": [
        {
          "data": {
            "image/png": "[encoded data removed]",
            "text/plain": [
              "<Figure size 640x480 with 1 Axes>"
            ]
          },
          "metadata": {},
          "output_type": "display_data"
        }
      ],
      "source": [
        "degrees = [G_layer2.degree(node) for node in G_layer2.nodes()]\n",
        "\n",
        "# Plot degree distribution\n",
        "sns.histplot(degrees, bins = 20, kde=True, color='purple')\n",
        "plt.title(\"Degree Distribution of G_layer2\")\n",
        "plt.xlabel(\"Degree\")\n",
        "plt.ylabel(\"Probability\")\n",
        "plt.ylim(0,10)\n",
        "plt.show()"
      ]
    },
    {
      "cell_type": "code",
      "execution_count": null,
      "metadata": {
        "colab": {
          "base_uri": "https://localhost:8080/",
          "height": 1000
        },
        "id": "uQxpDgqiCulv",
        "outputId": "adceb153-ddd8-4705-d998-3b36d3c50a67"
      },
      "outputs": [],
      "source": [
        "degree_centrality = nx.degree_centrality(G_layer2)\n",
        "closeness_centrality = nx.closeness_centrality(G_layer2)\n",
        "\n",
        "degree_values = list(degree_centrality.values())\n",
        "plt.figure(figsize=(10, 6))\n",
        "sns.histplot(degree_values, bins = 20, kde=True, color='red')\n",
        "plt.title('Degree Centrality Distribution G_layer2')\n",
        "plt.xlabel('Centrality')\n",
        "plt.ylabel('Frequency')\n",
        "plt.ylim(0,25)\n",
        "plt.show()\n",
        "\n",
        "closeness_values = list(closeness_centrality.values())\n",
        "plt.figure(figsize=(10, 6))\n",
        "sns.histplot(closeness_values, kde=True, color='blue')\n",
        "plt.title('Closeness Centrality Distribution G_layer2')\n",
        "plt.xlabel('Centrality')\n",
        "plt.ylabel('Frequency')\n",
        "plt.ylim(0,150)\n",
        "plt.show()\n"
      ]
    },
    {
      "cell_type": "code",
      "execution_count": 72,
      "metadata": {},
      "outputs": [
        {
          "data": {
            "image/png": "[encoded data removed]",
            "text/plain": [
              "<Figure size 640x480 with 1 Axes>"
            ]
          },
          "metadata": {},
          "output_type": "display_data"
        }
      ],
      "source": [
        "\n",
        "degrees = [G_interconnected.degree(node) for node in G_interconnected.nodes()]\n",
        "\n",
        "# Plot degree distribution\n",
        "plt.hist(degrees, bins=range(max(degrees)+1), density=True)\n",
        "plt.title(\"Degree Distribution of G_interconnected\")\n",
        "plt.xlabel(\"Degree\")\n",
        "plt.ylabel(\"Probability\")\n",
        "plt.ylim(0,0.2)\n",
        "plt.show()"
      ]
    },
    {
      "cell_type": "code",
      "execution_count": null,
      "metadata": {
        "colab": {
          "base_uri": "https://localhost:8080/",
          "height": 1000
        },
        "id": "D7wzkfajCzoy",
        "outputId": "7a53d0cb-b9ce-40a7-c902-5e0ced633af5"
      },
      "outputs": [],
      "source": [
        "\n",
        "degree_centrality = nx.degree_centrality(G_interconnected)\n",
        "closeness_centrality = nx.closeness_centrality(G_interconnected)\n",
        "\n",
        "degree_values = list(degree_centrality.values())\n",
        "plt.figure(figsize=(10, 6))\n",
        "sns.histplot(degree_values, bins = 20, kde=True, color='blue')\n",
        "plt.title('Degree Centrality Distribution G_interconnected')\n",
        "plt.xlabel('Centrality')\n",
        "plt.ylabel('Frequency')\n",
        "plt.show()\n",
        "\n",
        "closeness_values = list(closeness_centrality.values())\n",
        "plt.figure(figsize=(10, 6))\n",
        "sns.histplot(closeness_values, kde=True, color='red')\n",
        "plt.title('Closeness Centrality Distribution G_interconnected')\n",
        "plt.xlabel('Centrality')\n",
        "plt.ylabel('Frequency')\n",
        "plt.show()\n"
      ]
    },
    {
      "cell_type": "code",
      "execution_count": 73,
      "metadata": {},
      "outputs": [],
      "source": [
        "degree_centrality = nx.degree_centrality(G_combined)\n",
        "closeness_centrality = nx.closeness_centrality(G_combined)\n",
        "degrees = [G_combined.degree(node) for node in G_combined.nodes()]"
      ]
    },
    {
      "cell_type": "code",
      "execution_count": 74,
      "metadata": {},
      "outputs": [
        {
          "data": {
            "image/png": "[encoded data removed]",
            "text/plain": [
              "<Figure size 640x480 with 1 Axes>"
            ]
          },
          "metadata": {},
          "output_type": "display_data"
        },
        {
          "data": {
            "image/png": "[encoded data removed]",
            "text/plain": [
              "<Figure size 1000x600 with 1 Axes>"
            ]
          },
          "metadata": {},
          "output_type": "display_data"
        },
        {
          "data": {
            "image/png": "[encoded data removed]",
            "text/plain": [
              "<Figure size 1000x600 with 1 Axes>"
            ]
          },
          "metadata": {},
          "output_type": "display_data"
        }
      ],
      "source": [
        "# Plot degree distribution\n",
        "plt.hist(degrees, bins=range(max(degrees)+1), density=True, alpha=0.75)\n",
        "plt.title(\"Degree Distribution of G_combined\")\n",
        "plt.xlabel(\"Degree\")\n",
        "plt.ylabel(\"Probability\")\n",
        "plt.show()\n",
        "\n",
        "degree_values = list(degree_centrality.values())\n",
        "plt.figure(figsize=(10, 6))\n",
        "sns.histplot(degree_values, bins = 20, kde=True, color='blue')\n",
        "plt.title('Degree Centrality Distribution G_interconnected')\n",
        "plt.xlabel('Centrality')\n",
        "plt.ylabel('Frequency')\n",
        "plt.show()\n",
        "\n",
        "closeness_values = list(closeness_centrality.values())\n",
        "plt.figure(figsize=(10, 6))\n",
        "sns.histplot(closeness_values, kde=True, color='red')\n",
        "plt.title('Closeness Centrality Distribution G_combined')\n",
        "plt.xlabel('Centrality')\n",
        "plt.ylabel('Frequency')\n",
        "plt.show()"
      ]
    },
    {
      "cell_type": "code",
      "execution_count": 41,
      "metadata": {},
      "outputs": [
        {
          "data": {
            "image/png": "[encoded data removed]",
            "text/plain": [
              "<Figure size 640x480 with 1 Axes>"
            ]
          },
          "metadata": {},
          "output_type": "display_data"
        }
      ],
      "source": [
        "import networkx as nx\n",
        "import matplotlib.pyplot as plt\n",
        "\n",
        "# Get the degree of each node\n",
        "degrees = [G_combined.degree(node) for node in G_combined.nodes()]\n",
        "\n",
        "# Plot degree distribution\n",
        "plt.hist(degrees, bins=range(max(degrees)+1), density=True, alpha=0.75)\n",
        "plt.title(\"Degree Distribution of G_combined\")\n",
        "plt.xlabel(\"Degree\")\n",
        "plt.ylabel(\"Probability\")\n",
        "plt.show()\n"
      ]
    },
    {
      "cell_type": "code",
      "execution_count": null,
      "metadata": {
        "id": "KrJjHNkjDQ4c"
      },
      "outputs": [],
      "source": [
        "# حال می خواهیم ببینیم با استخراج یک سری ویژگی های ابتدایی از گراف های مان آیا مدل رگرسیون لاجستیک میتواند پیش بینی کننده خوبی باشد یا نه"
      ]
    },
    {
      "cell_type": "code",
      "execution_count": 80,
      "metadata": {},
      "outputs": [],
      "source": [
        "import networkx as nx\n",
        "import matplotlib.pyplot as plt\n",
        "import seaborn as sns\n",
        "import numpy as np\n",
        "from sklearn.model_selection import train_test_split"
      ]
    },
    {
      "cell_type": "code",
      "execution_count": 78,
      "metadata": {
        "colab": {
          "base_uri": "https://localhost:8080/"
        },
        "id": "gAsF7kuLvhgF",
        "outputId": "d6e7b668-a474-4896-ef8d-303f86dd2ace"
      },
      "outputs": [],
      "source": [
        "# Helper function to create feature set for Logistic Regression\n",
        "def create_features(graph, edge_list):\n",
        "    # Feature dictionary\n",
        "    features = {\n",
        "        'common_neighbors': [],\n",
        "        'jaccard_coefficient': [],\n",
        "        'preferential_attachment': []\n",
        "    }\n",
        "    labels = []\n",
        "\n",
        "    for u, v in edge_list:\n",
        "        # Common Neighbors\n",
        "        common_neighbors = list(nx.common_neighbors(graph, u, v))\n",
        "        features['common_neighbors'].append(len(common_neighbors))\n",
        "\n",
        "        # Jaccard Coefficient\n",
        "        jaccard_coeff = list(nx.jaccard_coefficient(graph, [(u, v)]))[0][2]\n",
        "        features['jaccard_coefficient'].append(jaccard_coeff)\n",
        "\n",
        "        # Preferential Attachment\n",
        "        pref_attach = graph.degree(u) * graph.degree(v)\n",
        "        features['preferential_attachment'].append(pref_attach)\n",
        "\n",
        "        # Label (1 if edge exists, 0 otherwise)\n",
        "        labels.append(1 if graph.has_edge(u, v) else 0)\n",
        "\n",
        "    # Create Array\n",
        "    feature_df = pd.DataFrame(features)\n",
        "    feature_arr = np.array(feature_df)\n",
        "    labels_arr =  np.array(labels)\n",
        "    return feature_arr, labels_arr\n"
      ]
    },
    {
      "cell_type": "code",
      "execution_count": null,
      "metadata": {},
      "outputs": [],
      "source": [
        "# Create features and labels for training and test data\n",
        "features1, labels1 = create_features(G_layer1, list(G_layer1.edges) + list(nx.non_edges(G_layer1)))\n",
        "features2, labels2 = create_features(G_layer2, list(G_layer2.edges) + list(nx.non_edges(G_layer2)))\n",
        "features3, labels3 = create_features(G_interconnected, list(G_interconnected.edges) + list(nx.non_edges(G_interconnected)))\n",
        "\n",
        "#Just a look!\n",
        "features1.shape, labels1.shape"
      ]
    },
    {
      "cell_type": "code",
      "execution_count": 79,
      "metadata": {},
      "outputs": [
        {
          "data": {
            "text/plain": [
              "((1197378, 3), (1197378,))"
            ]
          },
          "execution_count": 79,
          "metadata": {},
          "output_type": "execute_result"
        }
      ],
      "source": [
        "features_combine, labels_combine = create_features(G_combined, list(G_combined.edges) + list(nx.non_edges(G_combined)))\n",
        "\n",
        "#Just a look!\n",
        "features_combine.shape, labels_combine.shape"
      ]
    },
    {
      "cell_type": "code",
      "execution_count": 82,
      "metadata": {},
      "outputs": [],
      "source": [
        "X_train_combine, X_test_combine, y_train_combine, y_test_combine = train_test_split(features_combine, labels_combine, test_size=0.2, random_state=16)"
      ]
    },
    {
      "cell_type": "code",
      "execution_count": 83,
      "metadata": {},
      "outputs": [
        {
          "name": "stdout",
          "output_type": "stream",
          "text": [
            "دیتای تمرین -تعداد نمونه ها و تعداد ویژگی ها  (957902, 3)\n",
            "دیتای تمرین - تعداد لیبل ها (گویای اینکه آیا کانکت اند آن دو نود یا خیر)  (957902,)\n",
            " دیتای تست -  تعداد نمونه ها و تعداد ویژگی ها (239476, 3)\n",
            "دیتای تست - تعداد لیبل ها (گویای اینکه آیا کانکت اند آن دو نود یا خیر)  (239476,)\n"
          ]
        }
      ],
      "source": [
        "print( 'دیتای تمرین -تعداد نمونه ها و تعداد ویژگی ها ' ,X_train_combine.shape )\n",
        "print('دیتای تمرین - تعداد لیبل ها (گویای اینکه آیا کانکت اند آن دو نود یا خیر) ' ,y_train_combine.shape)\n",
        "\n",
        "print( ' دیتای تست -  تعداد نمونه ها و تعداد ویژگی ها', X_test_combine.shape )\n",
        "print('دیتای تست - تعداد لیبل ها (گویای اینکه آیا کانکت اند آن دو نود یا خیر) ' ,y_test_combine.shape)\n"
      ]
    },
    {
      "cell_type": "code",
      "execution_count": 137,
      "metadata": {
        "id": "qxnbigHmAfl2"
      },
      "outputs": [],
      "source": [
        "# ترکیب همه ی ویژگی ها برای اینکه دیتای ما شامل هر سه لایه شود\n",
        "\n",
        "features = np.concatenate((features1, features2, features3))\n",
        "laybels = np.concatenate((labels1, labels2, labels3))"
      ]
    },
    {
      "cell_type": "code",
      "execution_count": 138,
      "metadata": {
        "id": "nm1il9SFBOhf"
      },
      "outputs": [],
      "source": [
        "# مقدار دیتای خود را به وسیله ی تابع زیر از ماژول اسیکیت لرن با ضریب ۸۰ به ۲۰ به دو گروه ترین و تست تقسیم میکنیم\n",
        "\n",
        "train_features, test_features, train_labels, test_labels = train_test_split(features, laybels, test_size=0.2, random_state=16)"
      ]
    },
    {
      "cell_type": "code",
      "execution_count": 139,
      "metadata": {
        "colab": {
          "base_uri": "https://localhost:8080/"
        },
        "id": "dBSB08XuAZsx",
        "outputId": "0d7ba1b4-c60d-4229-c051-233be9b62588"
      },
      "outputs": [
        {
          "name": "stdout",
          "output_type": "stream",
          "text": [
            "دیتای تمرین -تعداد نمونه ها و تعداد ویژگی ها  (1385825, 3)\n",
            "دیتای تمرین - تعداد لیبل ها (گویای اینکه آیا کانکت اند آن دو نود یا خیر)  (1385825,)\n",
            " دیتای تست -  تعداد نمونه ها و تعداد ویژگی ها (346457, 3)\n",
            "دیتای تست - تعداد لیبل ها (گویای اینکه آیا کانکت اند آن دو نود یا خیر)  (346457,)\n"
          ]
        }
      ],
      "source": [
        "print( 'دیتای تمرین -تعداد نمونه ها و تعداد ویژگی ها ' ,train_features.shape )\n",
        "print('دیتای تمرین - تعداد لیبل ها (گویای اینکه آیا کانکت اند آن دو نود یا خیر) ' ,train_labels.shape)\n",
        "\n",
        "print( ' دیتای تست -  تعداد نمونه ها و تعداد ویژگی ها', test_features.shape )\n",
        "print('دیتای تست - تعداد لیبل ها (گویای اینکه آیا کانکت اند آن دو نود یا خیر) ' ,test_labels.shape)\n"
      ]
    },
    {
      "cell_type": "code",
      "execution_count": 84,
      "metadata": {
        "id": "oTiRvN3cCd8-"
      },
      "outputs": [],
      "source": [
        "from sklearn.linear_model import LogisticRegression\n",
        "from sklearn.metrics import accuracy_score, precision_score, recall_score, f1_score, roc_auc_score, confusion_matrix"
      ]
    },
    {
      "cell_type": "code",
      "execution_count": 141,
      "metadata": {
        "colab": {
          "base_uri": "https://localhost:8080/"
        },
        "id": "39OXq0kewSN2",
        "outputId": "0a11c711-722f-47b3-f8da-72350dcb0af1"
      },
      "outputs": [
        {
          "name": "stdout",
          "output_type": "stream",
          "text": [
            "Accuracy: 0.9862407167411829\n",
            "Precision: 0.918308163711972\n",
            "Recall: 0.8367652191254924\n",
            "F1 Score: 0.8756423968904078\n",
            "ROC AUC Score: 0.9160955384843149\n",
            "Confusion Matrix:\n",
            " [[324907   1493]\n",
            " [  3274  16783]]\n"
          ]
        }
      ],
      "source": [
        "\n",
        "# Initialize and train the logistic regression model\n",
        "logistic_model = LogisticRegression(random_state=42, max_iter=1000)\n",
        "logistic_model.fit(train_features, train_labels)\n",
        "\n",
        "# Predict on the test set\n",
        "test_predictions = logistic_model.predict(test_features)\n",
        "test_probabilities = logistic_model.predict_proba(test_features)[:, 1]\n",
        "\n",
        "#\n",
        "accuracy = accuracy_score(test_labels, test_predictions)\n",
        "\n",
        "# Precision\n",
        "precision = precision_score(test_labels, test_predictions)\n",
        "\n",
        "# sensitivity\n",
        "recall = recall_score(test_labels, test_predictions)\n",
        "\n",
        "#\n",
        "f1 = f1_score(test_labels, test_predictions)\n",
        "\n",
        "#\n",
        "roc_auc = roc_auc_score(test_labels, test_predictions)\n",
        "\n",
        "#\n",
        "conf_matrix = confusion_matrix(test_labels, test_predictions)\n",
        "\n",
        "print(\"Accuracy:\", accuracy)\n",
        "print(\"Precision:\", precision)\n",
        "print(\"Recall:\", recall)\n",
        "print(\"F1 Score:\", f1)\n",
        "print(\"ROC AUC Score:\", roc_auc)\n",
        "print(\"Confusion Matrix:\\n\", conf_matrix)\n"
      ]
    },
    {
      "cell_type": "code",
      "execution_count": 85,
      "metadata": {},
      "outputs": [
        {
          "name": "stdout",
          "output_type": "stream",
          "text": [
            "Accuracy: 0.9916567839783528\n",
            "Precision: 0.42777777777777776\n",
            "Recall: 0.07913669064748201\n",
            "F1 Score: 0.13356461405030357\n",
            "ROC AUC Score: 0.5391347158874592\n",
            "Confusion Matrix:\n",
            " [[237324    206]\n",
            " [  1792    154]]\n"
          ]
        }
      ],
      "source": [
        "\n",
        "# Initialize and train the logistic regression model\n",
        "logistic_model = LogisticRegression(random_state=42, max_iter=1000)\n",
        "logistic_model.fit(X_train_combine, y_train_combine)\n",
        "\n",
        "# Predict on the test set\n",
        "test_predictions = logistic_model.predict(X_test_combine)\n",
        "#test_probabilities = logistic_model.predict_proba(X_test_combine)[:, 1]\n",
        "\n",
        "#\n",
        "accuracy = accuracy_score(y_test_combine, test_predictions)\n",
        "\n",
        "# Precision\n",
        "precision = precision_score(y_test_combine, test_predictions)\n",
        "\n",
        "# sensitivity\n",
        "recall = recall_score(y_test_combine, test_predictions)\n",
        "\n",
        "#\n",
        "f1 = f1_score(y_test_combine, test_predictions)\n",
        "\n",
        "#\n",
        "roc_auc = roc_auc_score(y_test_combine, test_predictions)\n",
        "\n",
        "#\n",
        "conf_matrix = confusion_matrix(y_test_combine, test_predictions)\n",
        "\n",
        "print(\"Accuracy:\", accuracy)\n",
        "print(\"Precision:\", precision)\n",
        "print(\"Recall:\", recall)\n",
        "print(\"F1 Score:\", f1)\n",
        "print(\"ROC AUC Score:\", roc_auc)\n",
        "print(\"Confusion Matrix:\\n\", conf_matrix)\n"
      ]
    },
    {
      "cell_type": "markdown",
      "metadata": {
        "id": "WDNLEmreU5MH"
      },
      "source": [
        "ابتدا سری به روش جنگل تصادفی میزنیم چون با استخراج ویژگی های عددی الان یک پیش بینی پیژگی محور محض را داریم\\\\\n",
        "\n",
        "باید حلقه ی ویژگی ها ۳ بار تککرار شود\n"
      ]
    },
    {
      "cell_type": "code",
      "execution_count": null,
      "metadata": {
        "id": "NBBRQqrUENVB"
      },
      "outputs": [],
      "source": [
        "# اما این بار با یک سری اطلاعات کامل تر از هر گراف\n",
        "# در نهایت دیتای حاصل را تجمیع میکنیم"
      ]
    },
    {
      "cell_type": "code",
      "execution_count": 142,
      "metadata": {
        "id": "mP42BhCfzYOY"
      },
      "outputs": [],
      "source": [
        "G = G_layer1"
      ]
    },
    {
      "cell_type": "code",
      "execution_count": 143,
      "metadata": {
        "id": "qj3HcuvbZLAh"
      },
      "outputs": [],
      "source": [
        "G = G_layer2"
      ]
    },
    {
      "cell_type": "code",
      "execution_count": 144,
      "metadata": {
        "id": "SOSy2VdZZMZv"
      },
      "outputs": [],
      "source": [
        "G = G_interconnected"
      ]
    },
    {
      "cell_type": "code",
      "execution_count": 86,
      "metadata": {},
      "outputs": [],
      "source": [
        "G = G_combined"
      ]
    },
    {
      "cell_type": "code",
      "execution_count": 87,
      "metadata": {
        "id": "jzx5OD13E-7T"
      },
      "outputs": [],
      "source": [
        "\n",
        "from itertools import combinations\n",
        "\n",
        "# Graph\n",
        "degree_centrality, betweenness_centrality, closeness_centrality = calculate_centrality_measures(G)\n",
        "features = []\n",
        "labels = []\n",
        "\n",
        "# Calculating features for each pair of nodes:\n",
        "for node1, node2 in combinations(G.nodes(), 2):\n",
        "\n",
        "    # Centrality measures for node1 and node2\n",
        "    degree_centrality_1 = degree_centrality[node1]\n",
        "    degree_centrality_2 = degree_centrality[node2]\n",
        "    betweenness_centrality_1 = betweenness_centrality[node1]\n",
        "    betweenness_centrality_2 = betweenness_centrality[node2]\n",
        "    closeness_centrality_1 = closeness_centrality[node1]\n",
        "    closeness_centrality_2 = closeness_centrality[node2]\n",
        "\n",
        "    # Directly compute and append features\n",
        "    features.append((\n",
        "        node1,\n",
        "        node2,\n",
        "        len(list(nx.common_neighbors(G, node1, node2))),  # Common Neighbors\n",
        "        next(nx.preferential_attachment(G, [(node1, node2)]))[2],  # Preferential Attachment\n",
        "        next(nx.resource_allocation_index(G, [(node1, node2)]))[2],  # Resource Allocation\n",
        "        next(nx.adamic_adar_index(G, [(node1, node2)]))[2],  # Adamic Adar\n",
        "        next(nx.jaccard_coefficient(G, [(node1, node2)]))[2] , # Jaccard Coefficient\n",
        "        (degree_centrality_1 + degree_centrality_2) / 2,\n",
        "        (betweenness_centrality_1 + betweenness_centrality_2) / 2,\n",
        "        (closeness_centrality_1 + closeness_centrality_2) / 2\n",
        "    ))\n",
        "\n",
        "    # Existence of links between nodes (1 or 0)\n",
        "    labels.append(1 if G.has_edge(node1, node2) else 0)\n",
        "\n",
        "# Creating a DataFrame from the features and labels\n",
        "features_df = pd.DataFrame(features,\n",
        "                            columns=['node1','node2','Common Neighbors',\n",
        "                                    'Preferential Attachment', 'Resource Allocation',\n",
        "                                    'Adamic Adar', 'Jaccard Coefficient', 'Average Degree Centrality',\n",
        "                                    'Average Betweenness Centrality', 'Average Closeness Centrality'])\n",
        "\n",
        "features_df['Label'] = labels\n",
        "\n",
        "# Now features_df is ready to use in a machine learning model\n"
      ]
    },
    {
      "cell_type": "code",
      "execution_count": null,
      "metadata": {
        "id": "5YHHStpnZHmI"
      },
      "outputs": [],
      "source": [
        "features_df.to_csv('G-Layer1-dataframe.csv', index=False,\n",
        "                   compression = {'method': 'zip', 'compresslevel': 1 } )\n",
        "\n",
        "# This furtehr can be loaded using compression='zip' !"
      ]
    },
    {
      "cell_type": "code",
      "execution_count": null,
      "metadata": {
        "id": "qP9rwMyaZOxv"
      },
      "outputs": [],
      "source": [
        "features_df.to_csv('G-Layer2-dataframe.csv', index=False,\n",
        "                   compression = {'method': 'zip', 'compresslevel': 1 } )\n",
        "# This furtehr can be loaded using compression='zip' !"
      ]
    },
    {
      "cell_type": "code",
      "execution_count": null,
      "metadata": {},
      "outputs": [],
      "source": [
        "features_df.to_csv('G-interconnected-dataframe.csv', index=False,\n",
        "                    compression = {'method': 'zip', 'compresslevel': 8 } )\n",
        "# This furtehr can be loaded using compression='zip' !"
      ]
    },
    {
      "cell_type": "code",
      "execution_count": 88,
      "metadata": {},
      "outputs": [],
      "source": [
        "features_df.to_csv('output/G-combined-dataframe.csv', index=False,\n",
        "                    compression = {'method': 'zip', 'compresslevel': 8 } )\n",
        "# This furtehr can be loaded using compression='zip' !"
      ]
    },
    {
      "cell_type": "code",
      "execution_count": 1,
      "metadata": {
        "id": "LkkGd02liVGA"
      },
      "outputs": [],
      "source": [
        "import numpy as np\n",
        "import pandas as pd\n",
        "from sklearn.model_selection import train_test_split"
      ]
    },
    {
      "cell_type": "code",
      "execution_count": null,
      "metadata": {
        "colab": {
          "base_uri": "https://localhost:8080/"
        },
        "id": "iBuYXE70VkGL",
        "outputId": "8e6d4276-bc79-48f4-d620-bb41b6d978f3"
      },
      "outputs": [
        {
          "name": "stdout",
          "output_type": "stream",
          "text": [
            "/content\n"
          ]
        }
      ],
      "source": [
        "%cd .."
      ]
    },
    {
      "cell_type": "code",
      "execution_count": 2,
      "metadata": {
        "colab": {
          "base_uri": "https://localhost:8080/"
        },
        "id": "UE76UeXLQofN",
        "outputId": "d1e1efb4-308d-4fb1-99af-85328834c257"
      },
      "outputs": [
        {
          "name": "stdout",
          "output_type": "stream",
          "text": [
            "/content/mr.Sina\n"
          ]
        }
      ],
      "source": [
        "%cd ./mr.Sina"
      ]
    },
    {
      "cell_type": "code",
      "execution_count": 4,
      "metadata": {
        "id": "eOquIo31E-7T"
      },
      "outputs": [],
      "source": [
        "data1 = pd.read_csv('/content/mr.Sina/Archive/csv/G-Layer1-dataframe.csv', compression='zip')\n",
        "data2 = pd.read_csv('/content/mr.Sina/Archive/csv/G-Layer2-dataframe.csv', compression='zip')\n",
        "data3 = pd.read_csv('/content/mr.Sina/Archive/csv/G-inBetweenLayers-dataframe.csv', compression='zip')"
      ]
    },
    {
      "cell_type": "code",
      "execution_count": 5,
      "metadata": {
        "id": "wf6PjYJpGCQQ"
      },
      "outputs": [],
      "source": [
        "y1 = data1['Label']  # Labels\n",
        "X1 = data1.drop(['node1','node2','Label'], axis=1)  # Features"
      ]
    },
    {
      "cell_type": "code",
      "execution_count": 6,
      "metadata": {
        "id": "I5Wnj33K0mB-"
      },
      "outputs": [],
      "source": [
        "y2 = data2['Label']  # Labels\n",
        "X2 = data2.drop(['node1','node2','Label'], axis=1)  # Features"
      ]
    },
    {
      "cell_type": "code",
      "execution_count": 7,
      "metadata": {
        "id": "nxK5b9tW0l7U"
      },
      "outputs": [],
      "source": [
        "X3 = data3.drop(['node1','node2','Label'], axis=1)  # Features\n",
        "y3 = data3['Label']  # Labels"
      ]
    },
    {
      "cell_type": "code",
      "execution_count": 89,
      "metadata": {},
      "outputs": [],
      "source": [
        "#X = features_df.drop(['node1','node2','Label'], axis=1)  # Features\n",
        "#y = features_df['Label']  # Labels"
      ]
    },
    {
      "cell_type": "code",
      "execution_count": 8,
      "metadata": {
        "id": "Q20oJH4P6isU"
      },
      "outputs": [],
      "source": [
        "X = np.concatenate((X1, X2, X3))\n",
        "y = np.concatenate((y1, y2, y3))"
      ]
    },
    {
      "cell_type": "code",
      "execution_count": 90,
      "metadata": {
        "id": "iemeRb_n6b54"
      },
      "outputs": [],
      "source": [
        "X_train, X_test, y_train, y_test = train_test_split(X, y, test_size=0.2, random_state=16)"
      ]
    },
    {
      "cell_type": "code",
      "execution_count": 11,
      "metadata": {
        "colab": {
          "base_uri": "https://localhost:8080/"
        },
        "id": "3pKOF3kGlsem",
        "outputId": "9b78c46c-fc5a-447b-ecc6-6fa59768a13d"
      },
      "outputs": [
        {
          "name": "stdout",
          "output_type": "stream",
          "text": [
            "\n",
            " تجمیع هر سه لایه برای تمرین مدل - اندازه ی ایکس ترین (1411560, 8)\n",
            "\n",
            " تجمیع هر سه لایه برای تمرین مدل - اندازه ی ایکس تست (352890, 8)\n",
            "\n",
            " تجمیع هر سه لایه برای تمرین مدل - اندازه ی وای ترین (1411560,)\n",
            "\n",
            " تجمیع هر سه لایه برای تمرین مدل - اندازه ی وای تست  (352890,)\n"
          ]
        }
      ],
      "source": [
        "print( '\\n تجمیع هر سه لایه برای تمرین مدل - اندازه ی ایکس ترین', X_train.shape)\n",
        "print( '\\n تجمیع هر سه لایه برای تمرین مدل - اندازه ی ایکس تست', X_test.shape)\n",
        "\n",
        "print( '\\n تجمیع هر سه لایه برای تمرین مدل - اندازه ی وای ترین', y_train.shape)\n",
        "print('\\n تجمیع هر سه لایه برای تمرین مدل - اندازه ی وای تست ', y_test.shape)"
      ]
    },
    {
      "cell_type": "markdown",
      "metadata": {
        "id": "mdDBZq9r7Sr9"
      },
      "source": [
        "\n",
        "\n",
        "\n",
        " تجمیع هر سه لایه برای تمرین مدل - اندازه ی ایکس ترین (1411560, 8)\n",
        "\n",
        " تجمیع هر سه لایه برای تمرین مدل - اندازه ی ایکس تست (352890, 8)\n",
        "\n",
        " تجمیع هر سه لایه برای تمرین مدل - اندازه ی وای ترین (1411560,)\n",
        "\n",
        " تجمیع هر سه لایه برای تمرین مدل - اندازه ی وای تست  (352890,)\n"
      ]
    },
    {
      "cell_type": "code",
      "execution_count": 92,
      "metadata": {},
      "outputs": [],
      "source": [
        "import numpy as np\n",
        "from sklearn.model_selection import StratifiedKFold\n",
        "from sklearn.ensemble import RandomForestClassifier\n",
        "from sklearn.metrics import precision_recall_fscore_support, accuracy_score, confusion_matrix"
      ]
    },
    {
      "cell_type": "code",
      "execution_count": null,
      "metadata": {
        "colab": {
          "base_uri": "https://localhost:8080/"
        },
        "id": "FyplGdtg7nLP",
        "outputId": "b69490b5-07ca-47a5-982b-cc434441399c"
      },
      "outputs": [],
      "source": [
        "import numpy as np\n",
        "from sklearn.model_selection import StratifiedKFold\n",
        "from sklearn.ensemble import RandomForestClassifier\n",
        "from sklearn.metrics import precision_recall_fscore_support, accuracy_score, confusion_matrix\n",
        "\n",
        "i = 1\n",
        "\n",
        "# Prepare data\n",
        "x = X_train\n",
        "Y = y_train\n",
        "\n",
        "\n",
        "# model :\n",
        "clf = RandomForestClassifier(n_estimators=100, random_state=64, verbose = 2, max_depth=100, min_samples_split= 50)\n",
        "\n",
        "\n",
        "# Stratified K-Fold\n",
        "skf = StratifiedKFold(n_splits=10, shuffle=True, random_state = 64)\n",
        "\n",
        "for train_index, test_index in skf.split(x, Y):\n",
        "    print( ' Epcho Number : ', i)\n",
        "    i += 1\n",
        "    x_train, x_val = X[train_index], X[test_index]\n",
        "    Y_train, Y_val = y[train_index], y[test_index]\n",
        "\n",
        "    # Train model\n",
        "    clf.fit(x_train, Y_train)\n",
        "\n",
        "    # Predict probabilities\n",
        "    predict = clf.predict(x_val)\n",
        "\n",
        "    # Calculate precision, recall, F1 score, and support\n",
        "    precision, recall, f1_score, support = precision_recall_fscore_support(Y_val, predict)\n",
        "\n",
        "    if i == 2 or i == 100 :\n",
        "\n",
        "      # Print the evaluation metrics for the positive class (class 1)\n",
        "      print(\"Precision for class 1:\", precision[1])\n",
        "      print(\"Recall for class 1:\", recall[1])\n",
        "      print(\"F1 Score for class 1:\", f1_score[1])\n",
        "      print(\"Support for class 1:\", support[1])\n",
        "    else:\n",
        "      continue"
      ]
    },
    {
      "cell_type": "code",
      "execution_count": 11,
      "metadata": {
        "id": "EOrv_I1l9YCZ"
      },
      "outputs": [],
      "source": []
    },
    {
      "cell_type": "code",
      "execution_count": 93,
      "metadata": {
        "id": "_IpYvOKRil8m"
      },
      "outputs": [],
      "source": [
        "clf = RandomForestClassifier(n_estimators=100, random_state=64, verbose = 2, max_depth=100, min_samples_split= 50)"
      ]
    },
    {
      "cell_type": "code",
      "execution_count": 94,
      "metadata": {
        "colab": {
          "base_uri": "https://localhost:8080/"
        },
        "id": "KubTymStjJcU",
        "outputId": "1cd2ace6-f763-4d23-af37-053cdbb2ef71"
      },
      "outputs": [
        {
          "name": "stdout",
          "output_type": "stream",
          "text": [
            "building tree 1 of 100\n",
            "building tree 2 of 100\n",
            "building tree 3 of 100\n",
            "building tree 4 of 100\n",
            "building tree 5 of 100\n",
            "building tree 6 of 100\n",
            "building tree 7 of 100\n",
            "building tree 8 of 100\n",
            "building tree 9 of 100\n",
            "building tree 10 of 100\n",
            "building tree 11 of 100\n",
            "building tree 12 of 100\n",
            "building tree 13 of 100\n",
            "building tree 14 of 100\n",
            "building tree 15 of 100\n",
            "building tree 16 of 100\n",
            "building tree 17 of 100\n",
            "building tree 18 of 100\n",
            "building tree 19 of 100\n",
            "building tree 20 of 100\n",
            "building tree 21 of 100\n",
            "building tree 22 of 100\n",
            "building tree 23 of 100\n",
            "building tree 24 of 100\n",
            "building tree 25 of 100\n",
            "building tree 26 of 100\n",
            "building tree 27 of 100\n",
            "building tree 28 of 100\n",
            "building tree 29 of 100\n",
            "building tree 30 of 100\n",
            "building tree 31 of 100\n",
            "building tree 32 of 100\n",
            "building tree 33 of 100\n",
            "building tree 34 of 100\n",
            "building tree 35 of 100\n",
            "building tree 36 of 100\n",
            "building tree 37 of 100\n",
            "building tree 38 of 100\n",
            "building tree 39 of 100\n",
            "building tree 40 of 100\n"
          ]
        },
        {
          "name": "stderr",
          "output_type": "stream",
          "text": [
            "[Parallel(n_jobs=1)]: Done  40 tasks      | elapsed:   60.0s\n"
          ]
        },
        {
          "name": "stdout",
          "output_type": "stream",
          "text": [
            "building tree 41 of 100\n",
            "building tree 42 of 100\n",
            "building tree 43 of 100\n",
            "building tree 44 of 100\n",
            "building tree 45 of 100\n",
            "building tree 46 of 100\n",
            "building tree 47 of 100\n",
            "building tree 48 of 100\n",
            "building tree 49 of 100\n",
            "building tree 50 of 100\n",
            "building tree 51 of 100\n",
            "building tree 52 of 100\n",
            "building tree 53 of 100\n",
            "building tree 54 of 100\n",
            "building tree 55 of 100\n",
            "building tree 56 of 100\n",
            "building tree 57 of 100\n",
            "building tree 58 of 100\n",
            "building tree 59 of 100\n",
            "building tree 60 of 100\n",
            "building tree 61 of 100\n",
            "building tree 62 of 100\n",
            "building tree 63 of 100\n",
            "building tree 64 of 100\n",
            "building tree 65 of 100\n",
            "building tree 66 of 100\n",
            "building tree 67 of 100\n",
            "building tree 68 of 100\n",
            "building tree 69 of 100\n",
            "building tree 70 of 100\n",
            "building tree 71 of 100\n",
            "building tree 72 of 100\n",
            "building tree 73 of 100\n",
            "building tree 74 of 100\n",
            "building tree 75 of 100\n",
            "building tree 76 of 100\n",
            "building tree 77 of 100\n",
            "building tree 78 of 100\n",
            "building tree 79 of 100\n",
            "building tree 80 of 100\n",
            "building tree 81 of 100\n",
            "building tree 82 of 100\n",
            "building tree 83 of 100\n",
            "building tree 84 of 100\n",
            "building tree 85 of 100\n",
            "building tree 86 of 100\n",
            "building tree 87 of 100\n",
            "building tree 88 of 100\n",
            "building tree 89 of 100\n",
            "building tree 90 of 100\n",
            "building tree 91 of 100\n",
            "building tree 92 of 100\n",
            "building tree 93 of 100\n",
            "building tree 94 of 100\n",
            "building tree 95 of 100\n",
            "building tree 96 of 100\n",
            "building tree 97 of 100\n",
            "building tree 98 of 100\n",
            "building tree 99 of 100\n",
            "building tree 100 of 100\n"
          ]
        },
        {
          "data": {
            "text/html": [
              "<style>#sk-container-id-1 {\n",
              "  /* Definition of color scheme common for light and dark mode */\n",
              "  --sklearn-color-text: black;\n",
              "  --sklearn-color-line: gray;\n",
              "  /* Definition of color scheme for unfitted estimators */\n",
              "  --sklearn-color-unfitted-level-0: #fff5e6;\n",
              "  --sklearn-color-unfitted-level-1: #f6e4d2;\n",
              "  --sklearn-color-unfitted-level-2: #ffe0b3;\n",
              "  --sklearn-color-unfitted-level-3: chocolate;\n",
              "  /* Definition of color scheme for fitted estimators */\n",
              "  --sklearn-color-fitted-level-0: #f0f8ff;\n",
              "  --sklearn-color-fitted-level-1: #d4ebff;\n",
              "  --sklearn-color-fitted-level-2: #b3dbfd;\n",
              "  --sklearn-color-fitted-level-3: cornflowerblue;\n",
              "\n",
              "  /* Specific color for light theme */\n",
              "  --sklearn-color-text-on-default-background: var(--sg-text-color, var(--theme-code-foreground, var(--jp-content-font-color1, black)));\n",
              "  --sklearn-color-background: var(--sg-background-color, var(--theme-background, var(--jp-layout-color0, white)));\n",
              "  --sklearn-color-border-box: var(--sg-text-color, var(--theme-code-foreground, var(--jp-content-font-color1, black)));\n",
              "  --sklearn-color-icon: #696969;\n",
              "\n",
              "  @media (prefers-color-scheme: dark) {\n",
              "    /* Redefinition of color scheme for dark theme */\n",
              "    --sklearn-color-text-on-default-background: var(--sg-text-color, var(--theme-code-foreground, var(--jp-content-font-color1, white)));\n",
              "    --sklearn-color-background: var(--sg-background-color, var(--theme-background, var(--jp-layout-color0, #111)));\n",
              "    --sklearn-color-border-box: var(--sg-text-color, var(--theme-code-foreground, var(--jp-content-font-color1, white)));\n",
              "    --sklearn-color-icon: #878787;\n",
              "  }\n",
              "}\n",
              "\n",
              "#sk-container-id-1 {\n",
              "  color: var(--sklearn-color-text);\n",
              "}\n",
              "\n",
              "#sk-container-id-1 pre {\n",
              "  padding: 0;\n",
              "}\n",
              "\n",
              "#sk-container-id-1 input.sk-hidden--visually {\n",
              "  border: 0;\n",
              "  clip: rect(1px 1px 1px 1px);\n",
              "  clip: rect(1px, 1px, 1px, 1px);\n",
              "  height: 1px;\n",
              "  margin: -1px;\n",
              "  overflow: hidden;\n",
              "  padding: 0;\n",
              "  position: absolute;\n",
              "  width: 1px;\n",
              "}\n",
              "\n",
              "#sk-container-id-1 div.sk-dashed-wrapped {\n",
              "  border: 1px dashed var(--sklearn-color-line);\n",
              "  margin: 0 0.4em 0.5em 0.4em;\n",
              "  box-sizing: border-box;\n",
              "  padding-bottom: 0.4em;\n",
              "  background-color: var(--sklearn-color-background);\n",
              "}\n",
              "\n",
              "#sk-container-id-1 div.sk-container {\n",
              "  /* jupyter's `normalize.less` sets `[hidden] { display: none; }`\n",
              "     but bootstrap.min.css set `[hidden] { display: none !important; }`\n",
              "     so we also need the `!important` here to be able to override the\n",
              "     default hidden behavior on the sphinx rendered scikit-learn.org.\n",
              "     See: https://github.com/scikit-learn/scikit-learn/issues/21755 */\n",
              "  display: inline-block !important;\n",
              "  position: relative;\n",
              "}\n",
              "\n",
              "#sk-container-id-1 div.sk-text-repr-fallback {\n",
              "  display: none;\n",
              "}\n",
              "\n",
              "div.sk-parallel-item,\n",
              "div.sk-serial,\n",
              "div.sk-item {\n",
              "  /* draw centered vertical line to link estimators */\n",
              "  background-image: linear-gradient(var(--sklearn-color-text-on-default-background), var(--sklearn-color-text-on-default-background));\n",
              "  background-size: 2px 100%;\n",
              "  background-repeat: no-repeat;\n",
              "  background-position: center center;\n",
              "}\n",
              "\n",
              "/* Parallel-specific style estimator block */\n",
              "\n",
              "#sk-container-id-1 div.sk-parallel-item::after {\n",
              "  content: \"\";\n",
              "  width: 100%;\n",
              "  border-bottom: 2px solid var(--sklearn-color-text-on-default-background);\n",
              "  flex-grow: 1;\n",
              "}\n",
              "\n",
              "#sk-container-id-1 div.sk-parallel {\n",
              "  display: flex;\n",
              "  align-items: stretch;\n",
              "  justify-content: center;\n",
              "  background-color: var(--sklearn-color-background);\n",
              "  position: relative;\n",
              "}\n",
              "\n",
              "#sk-container-id-1 div.sk-parallel-item {\n",
              "  display: flex;\n",
              "  flex-direction: column;\n",
              "}\n",
              "\n",
              "#sk-container-id-1 div.sk-parallel-item:first-child::after {\n",
              "  align-self: flex-end;\n",
              "  width: 50%;\n",
              "}\n",
              "\n",
              "#sk-container-id-1 div.sk-parallel-item:last-child::after {\n",
              "  align-self: flex-start;\n",
              "  width: 50%;\n",
              "}\n",
              "\n",
              "#sk-container-id-1 div.sk-parallel-item:only-child::after {\n",
              "  width: 0;\n",
              "}\n",
              "\n",
              "/* Serial-specific style estimator block */\n",
              "\n",
              "#sk-container-id-1 div.sk-serial {\n",
              "  display: flex;\n",
              "  flex-direction: column;\n",
              "  align-items: center;\n",
              "  background-color: var(--sklearn-color-background);\n",
              "  padding-right: 1em;\n",
              "  padding-left: 1em;\n",
              "}\n",
              "\n",
              "\n",
              "/* Toggleable style: style used for estimator/Pipeline/ColumnTransformer box that is\n",
              "clickable and can be expanded/collapsed.\n",
              "- Pipeline and ColumnTransformer use this feature and define the default style\n",
              "- Estimators will overwrite some part of the style using the `sk-estimator` class\n",
              "*/\n",
              "\n",
              "/* Pipeline and ColumnTransformer style (default) */\n",
              "\n",
              "#sk-container-id-1 div.sk-toggleable {\n",
              "  /* Default theme specific background. It is overwritten whether we have a\n",
              "  specific estimator or a Pipeline/ColumnTransformer */\n",
              "  background-color: var(--sklearn-color-background);\n",
              "}\n",
              "\n",
              "/* Toggleable label */\n",
              "#sk-container-id-1 label.sk-toggleable__label {\n",
              "  cursor: pointer;\n",
              "  display: block;\n",
              "  width: 100%;\n",
              "  margin-bottom: 0;\n",
              "  padding: 0.5em;\n",
              "  box-sizing: border-box;\n",
              "  text-align: center;\n",
              "}\n",
              "\n",
              "#sk-container-id-1 label.sk-toggleable__label-arrow:before {\n",
              "  /* Arrow on the left of the label */\n",
              "  content: \"▸\";\n",
              "  float: left;\n",
              "  margin-right: 0.25em;\n",
              "  color: var(--sklearn-color-icon);\n",
              "}\n",
              "\n",
              "#sk-container-id-1 label.sk-toggleable__label-arrow:hover:before {\n",
              "  color: var(--sklearn-color-text);\n",
              "}\n",
              "\n",
              "/* Toggleable content - dropdown */\n",
              "\n",
              "#sk-container-id-1 div.sk-toggleable__content {\n",
              "  max-height: 0;\n",
              "  max-width: 0;\n",
              "  overflow: hidden;\n",
              "  text-align: left;\n",
              "  /* unfitted */\n",
              "  background-color: var(--sklearn-color-unfitted-level-0);\n",
              "}\n",
              "\n",
              "#sk-container-id-1 div.sk-toggleable__content.fitted {\n",
              "  /* fitted */\n",
              "  background-color: var(--sklearn-color-fitted-level-0);\n",
              "}\n",
              "\n",
              "#sk-container-id-1 div.sk-toggleable__content pre {\n",
              "  margin: 0.2em;\n",
              "  border-radius: 0.25em;\n",
              "  color: var(--sklearn-color-text);\n",
              "  /* unfitted */\n",
              "  background-color: var(--sklearn-color-unfitted-level-0);\n",
              "}\n",
              "\n",
              "#sk-container-id-1 div.sk-toggleable__content.fitted pre {\n",
              "  /* unfitted */\n",
              "  background-color: var(--sklearn-color-fitted-level-0);\n",
              "}\n",
              "\n",
              "#sk-container-id-1 input.sk-toggleable__control:checked~div.sk-toggleable__content {\n",
              "  /* Expand drop-down */\n",
              "  max-height: 200px;\n",
              "  max-width: 100%;\n",
              "  overflow: auto;\n",
              "}\n",
              "\n",
              "#sk-container-id-1 input.sk-toggleable__control:checked~label.sk-toggleable__label-arrow:before {\n",
              "  content: \"▾\";\n",
              "}\n",
              "\n",
              "/* Pipeline/ColumnTransformer-specific style */\n",
              "\n",
              "#sk-container-id-1 div.sk-label input.sk-toggleable__control:checked~label.sk-toggleable__label {\n",
              "  color: var(--sklearn-color-text);\n",
              "  background-color: var(--sklearn-color-unfitted-level-2);\n",
              "}\n",
              "\n",
              "#sk-container-id-1 div.sk-label.fitted input.sk-toggleable__control:checked~label.sk-toggleable__label {\n",
              "  background-color: var(--sklearn-color-fitted-level-2);\n",
              "}\n",
              "\n",
              "/* Estimator-specific style */\n",
              "\n",
              "/* Colorize estimator box */\n",
              "#sk-container-id-1 div.sk-estimator input.sk-toggleable__control:checked~label.sk-toggleable__label {\n",
              "  /* unfitted */\n",
              "  background-color: var(--sklearn-color-unfitted-level-2);\n",
              "}\n",
              "\n",
              "#sk-container-id-1 div.sk-estimator.fitted input.sk-toggleable__control:checked~label.sk-toggleable__label {\n",
              "  /* fitted */\n",
              "  background-color: var(--sklearn-color-fitted-level-2);\n",
              "}\n",
              "\n",
              "#sk-container-id-1 div.sk-label label.sk-toggleable__label,\n",
              "#sk-container-id-1 div.sk-label label {\n",
              "  /* The background is the default theme color */\n",
              "  color: var(--sklearn-color-text-on-default-background);\n",
              "}\n",
              "\n",
              "/* On hover, darken the color of the background */\n",
              "#sk-container-id-1 div.sk-label:hover label.sk-toggleable__label {\n",
              "  color: var(--sklearn-color-text);\n",
              "  background-color: var(--sklearn-color-unfitted-level-2);\n",
              "}\n",
              "\n",
              "/* Label box, darken color on hover, fitted */\n",
              "#sk-container-id-1 div.sk-label.fitted:hover label.sk-toggleable__label.fitted {\n",
              "  color: var(--sklearn-color-text);\n",
              "  background-color: var(--sklearn-color-fitted-level-2);\n",
              "}\n",
              "\n",
              "/* Estimator label */\n",
              "\n",
              "#sk-container-id-1 div.sk-label label {\n",
              "  font-family: monospace;\n",
              "  font-weight: bold;\n",
              "  display: inline-block;\n",
              "  line-height: 1.2em;\n",
              "}\n",
              "\n",
              "#sk-container-id-1 div.sk-label-container {\n",
              "  text-align: center;\n",
              "}\n",
              "\n",
              "/* Estimator-specific */\n",
              "#sk-container-id-1 div.sk-estimator {\n",
              "  font-family: monospace;\n",
              "  border: 1px dotted var(--sklearn-color-border-box);\n",
              "  border-radius: 0.25em;\n",
              "  box-sizing: border-box;\n",
              "  margin-bottom: 0.5em;\n",
              "  /* unfitted */\n",
              "  background-color: var(--sklearn-color-unfitted-level-0);\n",
              "}\n",
              "\n",
              "#sk-container-id-1 div.sk-estimator.fitted {\n",
              "  /* fitted */\n",
              "  background-color: var(--sklearn-color-fitted-level-0);\n",
              "}\n",
              "\n",
              "/* on hover */\n",
              "#sk-container-id-1 div.sk-estimator:hover {\n",
              "  /* unfitted */\n",
              "  background-color: var(--sklearn-color-unfitted-level-2);\n",
              "}\n",
              "\n",
              "#sk-container-id-1 div.sk-estimator.fitted:hover {\n",
              "  /* fitted */\n",
              "  background-color: var(--sklearn-color-fitted-level-2);\n",
              "}\n",
              "\n",
              "/* Specification for estimator info (e.g. \"i\" and \"?\") */\n",
              "\n",
              "/* Common style for \"i\" and \"?\" */\n",
              "\n",
              ".sk-estimator-doc-link,\n",
              "a:link.sk-estimator-doc-link,\n",
              "a:visited.sk-estimator-doc-link {\n",
              "  float: right;\n",
              "  font-size: smaller;\n",
              "  line-height: 1em;\n",
              "  font-family: monospace;\n",
              "  background-color: var(--sklearn-color-background);\n",
              "  border-radius: 1em;\n",
              "  height: 1em;\n",
              "  width: 1em;\n",
              "  text-decoration: none !important;\n",
              "  margin-left: 1ex;\n",
              "  /* unfitted */\n",
              "  border: var(--sklearn-color-unfitted-level-1) 1pt solid;\n",
              "  color: var(--sklearn-color-unfitted-level-1);\n",
              "}\n",
              "\n",
              ".sk-estimator-doc-link.fitted,\n",
              "a:link.sk-estimator-doc-link.fitted,\n",
              "a:visited.sk-estimator-doc-link.fitted {\n",
              "  /* fitted */\n",
              "  border: var(--sklearn-color-fitted-level-1) 1pt solid;\n",
              "  color: var(--sklearn-color-fitted-level-1);\n",
              "}\n",
              "\n",
              "/* On hover */\n",
              "div.sk-estimator:hover .sk-estimator-doc-link:hover,\n",
              ".sk-estimator-doc-link:hover,\n",
              "div.sk-label-container:hover .sk-estimator-doc-link:hover,\n",
              ".sk-estimator-doc-link:hover {\n",
              "  /* unfitted */\n",
              "  background-color: var(--sklearn-color-unfitted-level-3);\n",
              "  color: var(--sklearn-color-background);\n",
              "  text-decoration: none;\n",
              "}\n",
              "\n",
              "div.sk-estimator.fitted:hover .sk-estimator-doc-link.fitted:hover,\n",
              ".sk-estimator-doc-link.fitted:hover,\n",
              "div.sk-label-container:hover .sk-estimator-doc-link.fitted:hover,\n",
              ".sk-estimator-doc-link.fitted:hover {\n",
              "  /* fitted */\n",
              "  background-color: var(--sklearn-color-fitted-level-3);\n",
              "  color: var(--sklearn-color-background);\n",
              "  text-decoration: none;\n",
              "}\n",
              "\n",
              "/* Span, style for the box shown on hovering the info icon */\n",
              ".sk-estimator-doc-link span {\n",
              "  display: none;\n",
              "  z-index: 9999;\n",
              "  position: relative;\n",
              "  font-weight: normal;\n",
              "  right: .2ex;\n",
              "  padding: .5ex;\n",
              "  margin: .5ex;\n",
              "  width: min-content;\n",
              "  min-width: 20ex;\n",
              "  max-width: 50ex;\n",
              "  color: var(--sklearn-color-text);\n",
              "  box-shadow: 2pt 2pt 4pt #999;\n",
              "  /* unfitted */\n",
              "  background: var(--sklearn-color-unfitted-level-0);\n",
              "  border: .5pt solid var(--sklearn-color-unfitted-level-3);\n",
              "}\n",
              "\n",
              ".sk-estimator-doc-link.fitted span {\n",
              "  /* fitted */\n",
              "  background: var(--sklearn-color-fitted-level-0);\n",
              "  border: var(--sklearn-color-fitted-level-3);\n",
              "}\n",
              "\n",
              ".sk-estimator-doc-link:hover span {\n",
              "  display: block;\n",
              "}\n",
              "\n",
              "/* \"?\"-specific style due to the `<a>` HTML tag */\n",
              "\n",
              "#sk-container-id-1 a.estimator_doc_link {\n",
              "  float: right;\n",
              "  font-size: 1rem;\n",
              "  line-height: 1em;\n",
              "  font-family: monospace;\n",
              "  background-color: var(--sklearn-color-background);\n",
              "  border-radius: 1rem;\n",
              "  height: 1rem;\n",
              "  width: 1rem;\n",
              "  text-decoration: none;\n",
              "  /* unfitted */\n",
              "  color: var(--sklearn-color-unfitted-level-1);\n",
              "  border: var(--sklearn-color-unfitted-level-1) 1pt solid;\n",
              "}\n",
              "\n",
              "#sk-container-id-1 a.estimator_doc_link.fitted {\n",
              "  /* fitted */\n",
              "  border: var(--sklearn-color-fitted-level-1) 1pt solid;\n",
              "  color: var(--sklearn-color-fitted-level-1);\n",
              "}\n",
              "\n",
              "/* On hover */\n",
              "#sk-container-id-1 a.estimator_doc_link:hover {\n",
              "  /* unfitted */\n",
              "  background-color: var(--sklearn-color-unfitted-level-3);\n",
              "  color: var(--sklearn-color-background);\n",
              "  text-decoration: none;\n",
              "}\n",
              "\n",
              "#sk-container-id-1 a.estimator_doc_link.fitted:hover {\n",
              "  /* fitted */\n",
              "  background-color: var(--sklearn-color-fitted-level-3);\n",
              "}\n",
              "</style><div id=\"sk-container-id-1\" class=\"sk-top-container\"><div class=\"sk-text-repr-fallback\"><pre>RandomForestClassifier(max_depth=100, min_samples_split=50, random_state=64,\n",
              "                       verbose=2)</pre><b>In a Jupyter environment, please rerun this cell to show the HTML representation or trust the notebook. <br />On GitHub, the HTML representation is unable to render, please try loading this page with nbviewer.org.</b></div><div class=\"sk-container\" hidden><div class=\"sk-item\"><div class=\"sk-estimator fitted sk-toggleable\"><input class=\"sk-toggleable__control sk-hidden--visually\" id=\"sk-estimator-id-1\" type=\"checkbox\" checked><label for=\"sk-estimator-id-1\" class=\"sk-toggleable__label fitted sk-toggleable__label-arrow fitted\">&nbsp;&nbsp;RandomForestClassifier<a class=\"sk-estimator-doc-link fitted\" rel=\"noreferrer\" target=\"_blank\" href=\"https://scikit-learn.org/1.4/modules/generated/sklearn.ensemble.RandomForestClassifier.html\">?<span>Documentation for RandomForestClassifier</span></a><span class=\"sk-estimator-doc-link fitted\">i<span>Fitted</span></span></label><div class=\"sk-toggleable__content fitted\"><pre>RandomForestClassifier(max_depth=100, min_samples_split=50, random_state=64,\n",
              "                       verbose=2)</pre></div> </div></div></div></div>"
            ],
            "text/plain": [
              "RandomForestClassifier(max_depth=100, min_samples_split=50, random_state=64,\n",
              "                       verbose=2)"
            ]
          },
          "execution_count": 94,
          "metadata": {},
          "output_type": "execute_result"
        }
      ],
      "source": [
        "clf.fit(X_train, y_train)"
      ]
    },
    {
      "cell_type": "code",
      "execution_count": 12,
      "metadata": {
        "id": "HlzWT2GNFvFk"
      },
      "outputs": [],
      "source": [
        "#from google.colab import drive\n",
        "#drive.mount('/content/driv')"
      ]
    },
    {
      "cell_type": "code",
      "execution_count": 95,
      "metadata": {
        "colab": {
          "base_uri": "https://localhost:8080/"
        },
        "id": "nz1BKRLxkrxk",
        "outputId": "bd7e8391-bcec-4d0c-9d94-dc615cb7ef71"
      },
      "outputs": [
        {
          "name": "stderr",
          "output_type": "stream",
          "text": [
            "[Parallel(n_jobs=1)]: Done  40 tasks      | elapsed:    1.0s\n"
          ]
        },
        {
          "name": "stdout",
          "output_type": "stream",
          "text": [
            "Average Accuracy: 0.9923791945748217\n",
            "Average Precision: 0.7964601769911505\n",
            "Average Recall: 0.09188361408882083\n",
            "Average F1-Score: 0.16475972540045766\n"
          ]
        }
      ],
      "source": [
        "predict = clf.predict(X_test)\n",
        "\n",
        "# Calculate metrics\n",
        "precision, recall, fscore, _ = precision_recall_fscore_support(y_test, predict, average='binary')\n",
        "accuracy = accuracy_score(y_test, predict)\n",
        "print(f\"Average Accuracy: {accuracy}\")\n",
        "print(f\"Average Precision: {precision}\")\n",
        "print(f\"Average Recall: {recall}\")\n",
        "print(f\"Average F1-Score: {fscore}\")"
      ]
    },
    {
      "cell_type": "markdown",
      "metadata": {
        "id": "M6r_hVaLtS4_"
      },
      "source": [
        "**Start:**\n",
        "\n",
        "Average Accuracy: 0.9856966760180226\n",
        "\n",
        "Average Precision: 0.9558359621451105\n",
        "\n",
        "Average Recall: 0.7770226952173356\n",
        "\n",
        "Average F1-Score: 0.8572034797368979\n",
        "\n",
        "**End :**\n",
        "\n",
        "Average Accuracy: 0.9863909433534529\n",
        "\n",
        "Average Precision: 0.9573518090839107\n",
        "\n",
        "Average Recall: 0.7908929025693208\n",
        "\n",
        "Average F1-Score: 0.8661976736086925"
      ]
    },
    {
      "cell_type": "code",
      "execution_count": 99,
      "metadata": {
        "colab": {
          "base_uri": "https://localhost:8080/"
        },
        "id": "KtFYrYYRm8Ll",
        "outputId": "8353186e-9e1b-4200-ed69-6e8494d4c62c"
      },
      "outputs": [
        {
          "name": "stderr",
          "output_type": "stream",
          "text": [
            "[Parallel(n_jobs=1)]: Done  40 tasks      | elapsed:    1.0s\n"
          ]
        },
        {
          "name": "stdout",
          "output_type": "stream",
          "text": [
            "Average Accuracy: 0.9923791945748217\n",
            "Average Precision: 0.7964601769911505\n",
            "Average Recall: 0.09188361408882083\n",
            "Average F1-Score: 0.16475972540045766\n"
          ]
        }
      ],
      "source": [
        "# unseen Data :\n",
        "\n",
        "predict = clf.predict(X_test)\n",
        "\n",
        "accuracy_ = accuracy_score(y_test, predict)\n",
        "precision, recall, fscore, _ = precision_recall_fscore_support(y_test, predict, average='binary')\n",
        "\n",
        "print(f\"Average Accuracy: {accuracy_}\")\n",
        "print(f\"Average Precision: {precision}\")\n",
        "print(f\"Average Recall: {recall}\")\n",
        "print(f\"Average F1-Score: {fscore}\")\n"
      ]
    },
    {
      "cell_type": "code",
      "execution_count": 100,
      "metadata": {
        "colab": {
          "base_uri": "https://localhost:8080/",
          "height": 647
        },
        "id": "WPBgviQjU5MQ",
        "outputId": "f25d4285-8528-4833-ef67-497855df9a3b"
      },
      "outputs": [
        {
          "data": {
            "image/png": "[encoded data removed]",
            "text/plain": [
              "<Figure size 640x480 with 2 Axes>"
            ]
          },
          "metadata": {},
          "output_type": "display_data"
        },
        {
          "name": "stdout",
          "output_type": "stream",
          "text": [
            "Accuracy: 0.9923791945748217\n",
            "Precision: 0.7964601769911505\n",
            "Recall: 0.09188361408882083\n",
            "F1 Score: 0.16475972540045766\n"
          ]
        }
      ],
      "source": [
        "from sklearn.metrics import ConfusionMatrixDisplay\n",
        "ConfusionMatrixDisplay.from_predictions(y_test, predict)\n",
        "plt.title(\"Confusion Matrix for Model's Predictions\")\n",
        "plt.show()\n",
        "\n",
        "print(\"Accuracy:\", accuracy_)\n",
        "print(\"Precision:\", precision)\n",
        "print(\"Recall:\", recall)\n",
        "print(\"F1 Score:\", fscore)"
      ]
    },
    {
      "cell_type": "code",
      "execution_count": 101,
      "metadata": {
        "colab": {
          "base_uri": "https://localhost:8080/",
          "height": 718
        },
        "id": "387z57qFU5MQ",
        "outputId": "69aad674-1188-4a8a-9ca8-cdddf0b563fc"
      },
      "outputs": [
        {
          "data": {
            "image/png": "[encoded data removed]",
            "text/plain": [
              "<Figure size 800x800 with 1 Axes>"
            ]
          },
          "metadata": {},
          "output_type": "display_data"
        }
      ],
      "source": [
        "from sklearn.metrics import roc_curve, auc\n",
        "import matplotlib.pyplot as plt\n",
        "\n",
        "fpr, tpr, _ = roc_curve(y_test, predict)\n",
        "roc_auc = auc(fpr, tpr)\n",
        "\n",
        "plt.figure(figsize=(8, 8))\n",
        "plt.plot(fpr, tpr, color='darkorange', lw=2, label='ROC curve (area = %0.2f)' % roc_auc)\n",
        "plt.plot([0, 1], [0, 1], color='navy', lw=2, linestyle='--')\n",
        "plt.xlim([-0.01, 1.0])\n",
        "plt.ylim([0.0, 1.05])\n",
        "plt.xlabel('False Positive Rate')\n",
        "plt.ylabel('True Positive Rate')\n",
        "plt.title('Receiver Operating Characteristic Curve')\n",
        "plt.legend(loc=\"lower right\")\n",
        "plt.show()\n"
      ]
    },
    {
      "cell_type": "code",
      "execution_count": 21,
      "metadata": {
        "id": "LqIFzazmX1up"
      },
      "outputs": [],
      "source": [
        "from sklearn.metrics import precision_score, recall_score, f1_score, roc_auc_score"
      ]
    },
    {
      "cell_type": "code",
      "execution_count": 22,
      "metadata": {
        "id": "EKovsgWIU5MR"
      },
      "outputs": [],
      "source": [
        "# Accuracy\n",
        "accuracy = accuracy_score(y_test, predict)\n",
        "\n",
        "# Precision\n",
        "precision = precision_score(y_test, predict)\n",
        "\n",
        "# Recall (Sensitivity)\n",
        "recall = recall_score(y_test, predict)\n",
        "\n",
        "# F1 Score\n",
        "f1 = f1_score(y_test, predict)\n",
        "\n",
        "# ROC AUC Score (if y_pred contains probabilities)\n",
        "roc_auc = roc_auc_score(y_test, predict)\n",
        "\n",
        "# Confusion Matrix\n",
        "conf_matrix = confusion_matrix(y_test, predict)"
      ]
    },
    {
      "cell_type": "code",
      "execution_count": 23,
      "metadata": {
        "colab": {
          "base_uri": "https://localhost:8080/"
        },
        "id": "JLGs_S9UU5MR",
        "outputId": "d1de7223-49b4-4f35-8496-909a30e3fa06"
      },
      "outputs": [
        {
          "name": "stdout",
          "output_type": "stream",
          "text": [
            "Accuracy: 0.9939074499135708\n",
            "Precision: 0.9930085451115304\n",
            "Recall: 0.8983935742971888\n",
            "F1 Score: 0.943334563280797\n",
            "ROC AUC Score: 0.9490075809137986\n",
            "Confusion Matrix:\n",
            " [[332844    126]\n",
            " [  2024  17896]]\n"
          ]
        }
      ],
      "source": [
        "print(\"Accuracy:\", accuracy)\n",
        "print(\"Precision:\", precision)\n",
        "print(\"Recall:\", recall)\n",
        "print(\"F1 Score:\", f1)\n",
        "print(\"ROC AUC Score:\", roc_auc)\n",
        "print(\"Confusion Matrix:\\n\", conf_matrix)"
      ]
    },
    {
      "cell_type": "code",
      "execution_count": 102,
      "metadata": {
        "colab": {
          "base_uri": "https://localhost:8080/"
        },
        "id": "4fIy80zWJFXB",
        "outputId": "57fd6278-4d27-483a-8c6c-5390f54acc1a"
      },
      "outputs": [
        {
          "name": "stderr",
          "output_type": "stream",
          "text": [
            "[Parallel(n_jobs=1)]: Done  40 tasks      | elapsed:    1.0s\n"
          ]
        }
      ],
      "source": [
        "predict_prob = clf.predict_proba(X_test)[:,1]"
      ]
    },
    {
      "cell_type": "code",
      "execution_count": 25,
      "metadata": {
        "colab": {
          "base_uri": "https://localhost:8080/"
        },
        "id": "yhSRXlB512bY",
        "outputId": "847f33be-bf74-4a36-c871-8b02da049bf8"
      },
      "outputs": [
        {
          "name": "stdout",
          "output_type": "stream",
          "text": [
            "Saved predictions and actual labels\n"
          ]
        }
      ],
      "source": [
        "# Creating DataFrame\n",
        "X_test_results_df = pd.DataFrame({\n",
        "    'Actual from X_test': y_test,\n",
        "    'Predicted from X_test': predict,\n",
        "\n",
        "\n",
        "})\n",
        "\n",
        "X_test_results_df_prob = pd.DataFrame({\n",
        "    'Actual from X_test': y_test,\n",
        "    'Predicted Prob from X_test': predict_prob,\n",
        "})\n",
        "\n",
        "# Saving DataFrame to CSV\n",
        "csv_path = 'output/X_test_results_df.csv'\n",
        "X_test_results_df.to_csv(csv_path, index=False)\n",
        "\n",
        "csv_path = 'output/X_test_results_df_prob.csv'\n",
        "X_test_results_df_prob.to_csv(csv_path, index=False)\n",
        "\n",
        "print(\"Saved predictions and actual labels\")\n",
        "\n"
      ]
    },
    {
      "cell_type": "code",
      "execution_count": null,
      "metadata": {
        "id": "x0Tb1p7sE-7Z"
      },
      "outputs": [],
      "source": [
        "# Confusion Matrix Guide :\n",
        "#    [ [TN    FP]\n",
        "#      [FN    TP] ]"
      ]
    },
    {
      "cell_type": "code",
      "execution_count": null,
      "metadata": {
        "id": "RuBev6uOtEWe"
      },
      "outputs": [],
      "source": [
        "#%pip install torch_geometric"
      ]
    },
    {
      "cell_type": "markdown",
      "metadata": {
        "id": "1xx9h6Vg8fSH"
      },
      "source": [
        "بگذارید رگرسیون را تست کنیم"
      ]
    },
    {
      "cell_type": "code",
      "execution_count": null,
      "metadata": {
        "id": "1s4r7M9u9RX1"
      },
      "outputs": [],
      "source": [
        "# data1 = train, data2 = train , data3 = test"
      ]
    },
    {
      "cell_type": "code",
      "execution_count": 1,
      "metadata": {
        "colab": {
          "base_uri": "https://localhost:8080/",
          "height": 215
        },
        "id": "grd60ns79Cg6",
        "outputId": "42080efc-47b3-4c92-80bb-0a074a9fb7d5"
      },
      "outputs": [
        {
          "ename": "NameError",
          "evalue": "name 'data1' is not defined",
          "output_type": "error",
          "traceback": [
            "\u001b[0;31m---------------------------------------------------------------------------\u001b[0m",
            "\u001b[0;31mNameError\u001b[0m                                 Traceback (most recent call last)",
            "\u001b[0;32m<ipython-input-1-bb5f7a25a99a>\u001b[0m in \u001b[0;36m<cell line: 1>\u001b[0;34m()\u001b[0m\n\u001b[0;32m----> 1\u001b[0;31m \u001b[0mX1\u001b[0m \u001b[0;34m=\u001b[0m \u001b[0mdata1\u001b[0m\u001b[0;34m.\u001b[0m\u001b[0mdrop\u001b[0m\u001b[0;34m(\u001b[0m\u001b[0;34m[\u001b[0m\u001b[0;34m'node1'\u001b[0m\u001b[0;34m,\u001b[0m\u001b[0;34m'node2'\u001b[0m\u001b[0;34m,\u001b[0m\u001b[0;34m'Label'\u001b[0m\u001b[0;34m]\u001b[0m\u001b[0;34m,\u001b[0m \u001b[0maxis\u001b[0m\u001b[0;34m=\u001b[0m\u001b[0;36m1\u001b[0m\u001b[0;34m)\u001b[0m  \u001b[0;31m# Features\u001b[0m\u001b[0;34m\u001b[0m\u001b[0;34m\u001b[0m\u001b[0m\n\u001b[0m\u001b[1;32m      2\u001b[0m \u001b[0my1\u001b[0m \u001b[0;34m=\u001b[0m \u001b[0mdata1\u001b[0m\u001b[0;34m[\u001b[0m\u001b[0;34m'Label'\u001b[0m\u001b[0;34m]\u001b[0m  \u001b[0;31m# Labels\u001b[0m\u001b[0;34m\u001b[0m\u001b[0;34m\u001b[0m\u001b[0m\n\u001b[1;32m      3\u001b[0m \u001b[0;34m\u001b[0m\u001b[0m\n\u001b[1;32m      4\u001b[0m \u001b[0mX2\u001b[0m \u001b[0;34m=\u001b[0m \u001b[0mdata2\u001b[0m\u001b[0;34m.\u001b[0m\u001b[0mdrop\u001b[0m\u001b[0;34m(\u001b[0m\u001b[0;34m[\u001b[0m\u001b[0;34m'node1'\u001b[0m\u001b[0;34m,\u001b[0m\u001b[0;34m'node2'\u001b[0m\u001b[0;34m,\u001b[0m\u001b[0;34m'Label'\u001b[0m\u001b[0;34m]\u001b[0m\u001b[0;34m,\u001b[0m \u001b[0maxis\u001b[0m\u001b[0;34m=\u001b[0m\u001b[0;36m1\u001b[0m\u001b[0;34m)\u001b[0m  \u001b[0;31m# Features\u001b[0m\u001b[0;34m\u001b[0m\u001b[0;34m\u001b[0m\u001b[0m\n\u001b[1;32m      5\u001b[0m \u001b[0my2\u001b[0m \u001b[0;34m=\u001b[0m \u001b[0mdata2\u001b[0m\u001b[0;34m[\u001b[0m\u001b[0;34m'Label'\u001b[0m\u001b[0;34m]\u001b[0m  \u001b[0;31m# Labels\u001b[0m\u001b[0;34m\u001b[0m\u001b[0;34m\u001b[0m\u001b[0m\n",
            "\u001b[0;31mNameError\u001b[0m: name 'data1' is not defined"
          ]
        }
      ],
      "source": [
        "X1 = data1.drop(['node1','node2','Label'], axis=1)  # Features\n",
        "y1 = data1['Label']  # Labels\n",
        "\n",
        "X2 = data2.drop(['node1','node2','Label'], axis=1)  # Features\n",
        "y2 = data2['Label']  # Labels\n",
        "\n",
        "X3 = data3.drop(['node1','node2','Label'], axis=1)  # Features\n",
        "y3 = data3['Label']  # Labels"
      ]
    },
    {
      "cell_type": "code",
      "execution_count": 202,
      "metadata": {
        "id": "BL-3QynKU5MT"
      },
      "outputs": [],
      "source": [
        "X = np.concatenate((X1, X2, X3))\n",
        "y = np.concatenate((y1, y2, y3))"
      ]
    },
    {
      "cell_type": "code",
      "execution_count": 203,
      "metadata": {
        "id": "WGrZA3IH848x"
      },
      "outputs": [],
      "source": [
        "X_train, X_test, y_train, y_test = train_test_split(X, y, test_size=0.2, random_state=16)"
      ]
    },
    {
      "cell_type": "code",
      "execution_count": 9,
      "metadata": {
        "id": "Gi0XEbN-87MN"
      },
      "outputs": [],
      "source": [
        "import numpy as np\n",
        "from sklearn.model_selection import StratifiedKFold\n",
        "from sklearn.ensemble import RandomForestClassifier\n",
        "from sklearn.metrics import precision_recall_fscore_support, accuracy_score, confusion_matrix"
      ]
    },
    {
      "cell_type": "code",
      "execution_count": 10,
      "metadata": {
        "id": "Vwl0MT6Fv1Hy"
      },
      "outputs": [],
      "source": [
        "from sklearn.svm import SVC\n",
        "from sklearn.model_selection import train_test_split\n",
        "from sklearn.metrics import accuracy_score, classification_report, precision_recall_fscore_support"
      ]
    },
    {
      "cell_type": "code",
      "execution_count": null,
      "metadata": {
        "id": "Mm2WpVjvt8Cg"
      },
      "outputs": [],
      "source": [
        "# (RBF) kernel\n",
        "#svc_model = SVC(kernel='rbf', C=1.0, gamma='scale')\n",
        "#svc_model.fit(X_train, y_train)\n",
        "\n",
        "# Train a Support Vector Machine (SVM) model\n",
        "svm_model = SVC(kernel='linear')\n",
        "svm_model.fit(X_train, y_train)\n",
        "\n",
        "# Make predictions on the test set\n",
        "y_pred = svm_model.predict(X_test)\n",
        "\n",
        "# Calculate precision, recall, F1 score, and support\n",
        "precision, recall, f1_score, support = precision_recall_fscore_support(y_test, y_pred)\n",
        "\n",
        "# Print the evaluation metrics for the positive class (class 1)\n",
        "print(\"Precision for class 1:\", precision[1])\n",
        "print(\"Recall for class 1:\", recall[1])\n",
        "print(\"F1 Score for class 1:\", f1_score[1])\n",
        "print(\"Support for class 1:\", support[1])\n"
      ]
    },
    {
      "cell_type": "code",
      "execution_count": null,
      "metadata": {
        "colab": {
          "base_uri": "https://localhost:8080/"
        },
        "id": "bG5B626swnY9",
        "outputId": "b82b07a1-82fb-4939-98b0-5355622f6f77"
      },
      "outputs": [
        {
          "name": "stdout",
          "output_type": "stream",
          "text": [
            " Epcho Number :  1\n"
          ]
        }
      ],
      "source": [
        "epchoes = 1000\n",
        "i = 1\n",
        "# Prepare data\n",
        "x = np.array(X_train)\n",
        "Y = np.array(y_train)\n",
        "\n",
        "\n",
        "# model :\n",
        "svm_model = SVC(kernel='linear')\n",
        "\n",
        "# Stratified K-Fold\n",
        "skf = StratifiedKFold(n_splits = epchoes, shuffle=True, random_state=42)\n",
        "\n",
        "for train_index, test_index in skf.split(x, Y):\n",
        "    print( ' Epcho Number : ', i)\n",
        "    i += 1\n",
        "    x_train, x_val = X[train_index], X[test_index]\n",
        "    Y_train, Y_val = y[train_index], y[test_index]\n",
        "\n",
        "    # Train model\n",
        "    svm_model.fit(x_train, Y_train)\n",
        "\n",
        "    # Predict probabilities\n",
        "    predict = svm_model.predict(x_val)\n",
        "\n",
        "    # Calculate precision, recall, F1 score, and support\n",
        "    precision, recall, f1_score, support = precision_recall_fscore_support(Y_val, predict)\n",
        "\n",
        "    # Print the evaluation metrics for the positive class (class 1)\n",
        "    print(\"Precision for class 1:\", precision[1])\n",
        "    print(\"Recall for class 1:\", recall[1])\n",
        "    print(\"F1 Score for class 1:\", f1_score[1])\n",
        "    print(\"Support for class 1:\", support[1])\n"
      ]
    },
    {
      "cell_type": "code",
      "execution_count": 16,
      "metadata": {
        "id": "xxzf6WZhzMfp"
      },
      "outputs": [],
      "source": [
        "import numpy as np\n",
        "from sklearn.model_selection import StratifiedKFold\n",
        "from sklearn.ensemble import RandomForestClassifier\n",
        "from sklearn.metrics import precision_recall_fscore_support, accuracy_score, confusion_matrix"
      ]
    },
    {
      "cell_type": "code",
      "execution_count": null,
      "metadata": {
        "id": "Jkp_l6TpvzFd"
      },
      "outputs": [],
      "source": [
        "#\n",
        "predict = svm_model.predict(X_test)\n",
        "\n",
        "accuracy = accuracy_score(y_test, y_pred)\n",
        "print(\"Accuracy:\", accuracy)\n",
        "#Generate and print classification report\n",
        "report = classification_report(y_test, y_pred)\n",
        "print(\"Classification Report:\\n\", report)\n"
      ]
    },
    {
      "cell_type": "code",
      "execution_count": null,
      "metadata": {
        "id": "S9RCfBS_vy-K"
      },
      "outputs": [],
      "source": [
        "# Example: Perform grid search to find the best hyperparameters\n",
        "from sklearn.model_selection import GridSearchCV\n",
        "\n",
        "param_grid = {\n",
        "    'C': [0.1, 1, 10],\n",
        "    'gamma': ['scale', 'auto'],\n",
        "    'kernel': ['rbf', 'linear', 'sigmoid', 'polynomial']\n",
        "}\n",
        "\n",
        "grid_search = GridSearchCV(SVC(), param_grid, cv=5)\n",
        "grid_search.fit(X_train, y_train)\n",
        "\n",
        "print(\"Best Parameters:\", grid_search.best_params_)\n",
        "\n"
      ]
    },
    {
      "cell_type": "code",
      "execution_count": null,
      "metadata": {
        "id": "BquUv8LAvy3R"
      },
      "outputs": [],
      "source": []
    },
    {
      "cell_type": "code",
      "execution_count": null,
      "metadata": {
        "id": "xIEbaqCWv835"
      },
      "outputs": [],
      "source": []
    },
    {
      "cell_type": "code",
      "execution_count": 19,
      "metadata": {
        "id": "Y_zWUK1qv8vO"
      },
      "outputs": [],
      "source": [
        "from sklearn.linear_model import LogisticRegression\n",
        "from sklearn.metrics import roc_auc_score, accuracy_score"
      ]
    },
    {
      "cell_type": "code",
      "execution_count": null,
      "metadata": {
        "id": "-EwCOL0At_7Z"
      },
      "outputs": [],
      "source": [
        "train_features = X_train\n",
        "train_labels = y_train"
      ]
    },
    {
      "cell_type": "code",
      "execution_count": 13,
      "metadata": {
        "colab": {
          "base_uri": "https://localhost:8080/",
          "height": 75
        },
        "id": "5sCPiToc8jj5",
        "outputId": "31fd77db-2f93-46c5-ca18-9b90e56328f7"
      },
      "outputs": [
        {
          "data": {
            "text/html": [
              "<style>#sk-container-id-1 {color: black;background-color: white;}#sk-container-id-1 pre{padding: 0;}#sk-container-id-1 div.sk-toggleable {background-color: white;}#sk-container-id-1 label.sk-toggleable__label {cursor: pointer;display: block;width: 100%;margin-bottom: 0;padding: 0.3em;box-sizing: border-box;text-align: center;}#sk-container-id-1 label.sk-toggleable__label-arrow:before {content: \"▸\";float: left;margin-right: 0.25em;color: #696969;}#sk-container-id-1 label.sk-toggleable__label-arrow:hover:before {color: black;}#sk-container-id-1 div.sk-estimator:hover label.sk-toggleable__label-arrow:before {color: black;}#sk-container-id-1 div.sk-toggleable__content {max-height: 0;max-width: 0;overflow: hidden;text-align: left;background-color: #f0f8ff;}#sk-container-id-1 div.sk-toggleable__content pre {margin: 0.2em;color: black;border-radius: 0.25em;background-color: #f0f8ff;}#sk-container-id-1 input.sk-toggleable__control:checked~div.sk-toggleable__content {max-height: 200px;max-width: 100%;overflow: auto;}#sk-container-id-1 input.sk-toggleable__control:checked~label.sk-toggleable__label-arrow:before {content: \"▾\";}#sk-container-id-1 div.sk-estimator input.sk-toggleable__control:checked~label.sk-toggleable__label {background-color: #d4ebff;}#sk-container-id-1 div.sk-label input.sk-toggleable__control:checked~label.sk-toggleable__label {background-color: #d4ebff;}#sk-container-id-1 input.sk-hidden--visually {border: 0;clip: rect(1px 1px 1px 1px);clip: rect(1px, 1px, 1px, 1px);height: 1px;margin: -1px;overflow: hidden;padding: 0;position: absolute;width: 1px;}#sk-container-id-1 div.sk-estimator {font-family: monospace;background-color: #f0f8ff;border: 1px dotted black;border-radius: 0.25em;box-sizing: border-box;margin-bottom: 0.5em;}#sk-container-id-1 div.sk-estimator:hover {background-color: #d4ebff;}#sk-container-id-1 div.sk-parallel-item::after {content: \"\";width: 100%;border-bottom: 1px solid gray;flex-grow: 1;}#sk-container-id-1 div.sk-label:hover label.sk-toggleable__label {background-color: #d4ebff;}#sk-container-id-1 div.sk-serial::before {content: \"\";position: absolute;border-left: 1px solid gray;box-sizing: border-box;top: 0;bottom: 0;left: 50%;z-index: 0;}#sk-container-id-1 div.sk-serial {display: flex;flex-direction: column;align-items: center;background-color: white;padding-right: 0.2em;padding-left: 0.2em;position: relative;}#sk-container-id-1 div.sk-item {position: relative;z-index: 1;}#sk-container-id-1 div.sk-parallel {display: flex;align-items: stretch;justify-content: center;background-color: white;position: relative;}#sk-container-id-1 div.sk-item::before, #sk-container-id-1 div.sk-parallel-item::before {content: \"\";position: absolute;border-left: 1px solid gray;box-sizing: border-box;top: 0;bottom: 0;left: 50%;z-index: -1;}#sk-container-id-1 div.sk-parallel-item {display: flex;flex-direction: column;z-index: 1;position: relative;background-color: white;}#sk-container-id-1 div.sk-parallel-item:first-child::after {align-self: flex-end;width: 50%;}#sk-container-id-1 div.sk-parallel-item:last-child::after {align-self: flex-start;width: 50%;}#sk-container-id-1 div.sk-parallel-item:only-child::after {width: 0;}#sk-container-id-1 div.sk-dashed-wrapped {border: 1px dashed gray;margin: 0 0.4em 0.5em 0.4em;box-sizing: border-box;padding-bottom: 0.4em;background-color: white;}#sk-container-id-1 div.sk-label label {font-family: monospace;font-weight: bold;display: inline-block;line-height: 1.2em;}#sk-container-id-1 div.sk-label-container {text-align: center;}#sk-container-id-1 div.sk-container {/* jupyter's `normalize.less` sets `[hidden] { display: none; }` but bootstrap.min.css set `[hidden] { display: none !important; }` so we also need the `!important` here to be able to override the default hidden behavior on the sphinx rendered scikit-learn.org. See: https://github.com/scikit-learn/scikit-learn/issues/21755 */display: inline-block !important;position: relative;}#sk-container-id-1 div.sk-text-repr-fallback {display: none;}</style><div id=\"sk-container-id-1\" class=\"sk-top-container\"><div class=\"sk-text-repr-fallback\"><pre>LogisticRegression(max_iter=1000, random_state=64, solver=&#x27;newton-cholesky&#x27;)</pre><b>In a Jupyter environment, please rerun this cell to show the HTML representation or trust the notebook. <br />On GitHub, the HTML representation is unable to render, please try loading this page with nbviewer.org.</b></div><div class=\"sk-container\" hidden><div class=\"sk-item\"><div class=\"sk-estimator sk-toggleable\"><input class=\"sk-toggleable__control sk-hidden--visually\" id=\"sk-estimator-id-1\" type=\"checkbox\" checked><label for=\"sk-estimator-id-1\" class=\"sk-toggleable__label sk-toggleable__label-arrow\">LogisticRegression</label><div class=\"sk-toggleable__content\"><pre>LogisticRegression(max_iter=1000, random_state=64, solver=&#x27;newton-cholesky&#x27;)</pre></div></div></div></div></div>"
            ],
            "text/plain": [
              "LogisticRegression(max_iter=1000, random_state=64, solver='newton-cholesky')"
            ]
          },
          "execution_count": 13,
          "metadata": {},
          "output_type": "execute_result"
        }
      ],
      "source": [
        "from sklearn.linear_model import LogisticRegression\n",
        "from sklearn.metrics import roc_auc_score, accuracy_score\n",
        "\n",
        "# Initialize and train the logistic regression model\n",
        "logistic_model = LogisticRegression(\n",
        "    random_state=64,  # reproducibility\n",
        "    max_iter=1000,    # iterations for optimization\n",
        "    solver='newton-cg',  # Optimization algorithm ('newton-cg' is a good choice for small to medium datasets)\n",
        "    penalty='l2',     # Regularization type ('l2' regularization is commonly used)\n",
        "    C=1.0,            # Inverse of regularization strength (smaller values indicate stronger regularization)\n",
        "    class_weight=None  # Weights associated with classes (can be 'balanced' for handling class imbalance)\n",
        ")\n"
      ]
    },
    {
      "cell_type": "code",
      "execution_count": 20,
      "metadata": {
        "colab": {
          "base_uri": "https://localhost:8080/",
          "height": 453
        },
        "id": "O23mMbm24PAK",
        "outputId": "789fae1e-ac2d-4ad9-cb2b-e46025fed84a"
      },
      "outputs": [
        {
          "name": "stdout",
          "output_type": "stream",
          "text": [
            " Epcho Number :  1\n"
          ]
        },
        {
          "name": "stderr",
          "output_type": "stream",
          "text": [
            "/usr/local/lib/python3.10/dist-packages/scipy/optimize/_linesearch.py:466: LineSearchWarning: The line search algorithm did not converge\n",
            "  warn('The line search algorithm did not converge', LineSearchWarning)\n",
            "/usr/local/lib/python3.10/dist-packages/scipy/optimize/_linesearch.py:314: LineSearchWarning: The line search algorithm did not converge\n",
            "  warn('The line search algorithm did not converge', LineSearchWarning)\n"
          ]
        },
        {
          "ename": "KeyboardInterrupt",
          "evalue": "",
          "output_type": "error",
          "traceback": [
            "\u001b[0;31m---------------------------------------------------------------------------\u001b[0m",
            "\u001b[0;31mKeyboardInterrupt\u001b[0m                         Traceback (most recent call last)",
            "\u001b[0;32m<ipython-input-20-58a5694813a8>\u001b[0m in \u001b[0;36m<cell line: 22>\u001b[0;34m()\u001b[0m\n\u001b[1;32m     27\u001b[0m \u001b[0;34m\u001b[0m\u001b[0m\n\u001b[1;32m     28\u001b[0m     \u001b[0;31m# Train model\u001b[0m\u001b[0;34m\u001b[0m\u001b[0;34m\u001b[0m\u001b[0m\n\u001b[0;32m---> 29\u001b[0;31m     \u001b[0mlogistic_model\u001b[0m\u001b[0;34m.\u001b[0m\u001b[0mfit\u001b[0m\u001b[0;34m(\u001b[0m\u001b[0mx_train\u001b[0m\u001b[0;34m,\u001b[0m \u001b[0mY_train\u001b[0m\u001b[0;34m)\u001b[0m\u001b[0;34m\u001b[0m\u001b[0;34m\u001b[0m\u001b[0m\n\u001b[0m\u001b[1;32m     30\u001b[0m \u001b[0;34m\u001b[0m\u001b[0m\n\u001b[1;32m     31\u001b[0m     \u001b[0;31m# Predict probabilities\u001b[0m\u001b[0;34m\u001b[0m\u001b[0;34m\u001b[0m\u001b[0m\n",
            "\u001b[0;32m/usr/local/lib/python3.10/dist-packages/sklearn/linear_model/_logistic.py\u001b[0m in \u001b[0;36mfit\u001b[0;34m(self, X, y, sample_weight)\u001b[0m\n\u001b[1;32m   1289\u001b[0m             \u001b[0mn_threads\u001b[0m \u001b[0;34m=\u001b[0m \u001b[0;36m1\u001b[0m\u001b[0;34m\u001b[0m\u001b[0;34m\u001b[0m\u001b[0m\n\u001b[1;32m   1290\u001b[0m \u001b[0;34m\u001b[0m\u001b[0m\n\u001b[0;32m-> 1291\u001b[0;31m         fold_coefs_ = Parallel(n_jobs=self.n_jobs, verbose=self.verbose, prefer=prefer)(\n\u001b[0m\u001b[1;32m   1292\u001b[0m             path_func(\n\u001b[1;32m   1293\u001b[0m                 \u001b[0mX\u001b[0m\u001b[0;34m,\u001b[0m\u001b[0;34m\u001b[0m\u001b[0;34m\u001b[0m\u001b[0m\n",
            "\u001b[0;32m/usr/local/lib/python3.10/dist-packages/sklearn/utils/parallel.py\u001b[0m in \u001b[0;36m__call__\u001b[0;34m(self, iterable)\u001b[0m\n\u001b[1;32m     61\u001b[0m             \u001b[0;32mfor\u001b[0m \u001b[0mdelayed_func\u001b[0m\u001b[0;34m,\u001b[0m \u001b[0margs\u001b[0m\u001b[0;34m,\u001b[0m \u001b[0mkwargs\u001b[0m \u001b[0;32min\u001b[0m \u001b[0miterable\u001b[0m\u001b[0;34m\u001b[0m\u001b[0;34m\u001b[0m\u001b[0m\n\u001b[1;32m     62\u001b[0m         )\n\u001b[0;32m---> 63\u001b[0;31m         \u001b[0;32mreturn\u001b[0m \u001b[0msuper\u001b[0m\u001b[0;34m(\u001b[0m\u001b[0;34m)\u001b[0m\u001b[0;34m.\u001b[0m\u001b[0m__call__\u001b[0m\u001b[0;34m(\u001b[0m\u001b[0miterable_with_config\u001b[0m\u001b[0;34m)\u001b[0m\u001b[0;34m\u001b[0m\u001b[0;34m\u001b[0m\u001b[0m\n\u001b[0m\u001b[1;32m     64\u001b[0m \u001b[0;34m\u001b[0m\u001b[0m\n\u001b[1;32m     65\u001b[0m \u001b[0;34m\u001b[0m\u001b[0m\n",
            "\u001b[0;32m/usr/local/lib/python3.10/dist-packages/joblib/parallel.py\u001b[0m in \u001b[0;36m__call__\u001b[0;34m(self, iterable)\u001b[0m\n\u001b[1;32m   1916\u001b[0m             \u001b[0moutput\u001b[0m \u001b[0;34m=\u001b[0m \u001b[0mself\u001b[0m\u001b[0;34m.\u001b[0m\u001b[0m_get_sequential_output\u001b[0m\u001b[0;34m(\u001b[0m\u001b[0miterable\u001b[0m\u001b[0;34m)\u001b[0m\u001b[0;34m\u001b[0m\u001b[0;34m\u001b[0m\u001b[0m\n\u001b[1;32m   1917\u001b[0m             \u001b[0mnext\u001b[0m\u001b[0;34m(\u001b[0m\u001b[0moutput\u001b[0m\u001b[0;34m)\u001b[0m\u001b[0;34m\u001b[0m\u001b[0;34m\u001b[0m\u001b[0m\n\u001b[0;32m-> 1918\u001b[0;31m             \u001b[0;32mreturn\u001b[0m \u001b[0moutput\u001b[0m \u001b[0;32mif\u001b[0m \u001b[0mself\u001b[0m\u001b[0;34m.\u001b[0m\u001b[0mreturn_generator\u001b[0m \u001b[0;32melse\u001b[0m \u001b[0mlist\u001b[0m\u001b[0;34m(\u001b[0m\u001b[0moutput\u001b[0m\u001b[0;34m)\u001b[0m\u001b[0;34m\u001b[0m\u001b[0;34m\u001b[0m\u001b[0m\n\u001b[0m\u001b[1;32m   1919\u001b[0m \u001b[0;34m\u001b[0m\u001b[0m\n\u001b[1;32m   1920\u001b[0m         \u001b[0;31m# Let's create an ID that uniquely identifies the current call. If the\u001b[0m\u001b[0;34m\u001b[0m\u001b[0;34m\u001b[0m\u001b[0m\n",
            "\u001b[0;32m/usr/local/lib/python3.10/dist-packages/joblib/parallel.py\u001b[0m in \u001b[0;36m_get_sequential_output\u001b[0;34m(self, iterable)\u001b[0m\n\u001b[1;32m   1845\u001b[0m                 \u001b[0mself\u001b[0m\u001b[0;34m.\u001b[0m\u001b[0mn_dispatched_batches\u001b[0m \u001b[0;34m+=\u001b[0m \u001b[0;36m1\u001b[0m\u001b[0;34m\u001b[0m\u001b[0;34m\u001b[0m\u001b[0m\n\u001b[1;32m   1846\u001b[0m                 \u001b[0mself\u001b[0m\u001b[0;34m.\u001b[0m\u001b[0mn_dispatched_tasks\u001b[0m \u001b[0;34m+=\u001b[0m \u001b[0;36m1\u001b[0m\u001b[0;34m\u001b[0m\u001b[0;34m\u001b[0m\u001b[0m\n\u001b[0;32m-> 1847\u001b[0;31m                 \u001b[0mres\u001b[0m \u001b[0;34m=\u001b[0m \u001b[0mfunc\u001b[0m\u001b[0;34m(\u001b[0m\u001b[0;34m*\u001b[0m\u001b[0margs\u001b[0m\u001b[0;34m,\u001b[0m \u001b[0;34m**\u001b[0m\u001b[0mkwargs\u001b[0m\u001b[0;34m)\u001b[0m\u001b[0;34m\u001b[0m\u001b[0;34m\u001b[0m\u001b[0m\n\u001b[0m\u001b[1;32m   1848\u001b[0m                 \u001b[0mself\u001b[0m\u001b[0;34m.\u001b[0m\u001b[0mn_completed_tasks\u001b[0m \u001b[0;34m+=\u001b[0m \u001b[0;36m1\u001b[0m\u001b[0;34m\u001b[0m\u001b[0;34m\u001b[0m\u001b[0m\n\u001b[1;32m   1849\u001b[0m                 \u001b[0mself\u001b[0m\u001b[0;34m.\u001b[0m\u001b[0mprint_progress\u001b[0m\u001b[0;34m(\u001b[0m\u001b[0;34m)\u001b[0m\u001b[0;34m\u001b[0m\u001b[0;34m\u001b[0m\u001b[0m\n",
            "\u001b[0;32m/usr/local/lib/python3.10/dist-packages/sklearn/utils/parallel.py\u001b[0m in \u001b[0;36m__call__\u001b[0;34m(self, *args, **kwargs)\u001b[0m\n\u001b[1;32m    121\u001b[0m             \u001b[0mconfig\u001b[0m \u001b[0;34m=\u001b[0m \u001b[0;34m{\u001b[0m\u001b[0;34m}\u001b[0m\u001b[0;34m\u001b[0m\u001b[0;34m\u001b[0m\u001b[0m\n\u001b[1;32m    122\u001b[0m         \u001b[0;32mwith\u001b[0m \u001b[0mconfig_context\u001b[0m\u001b[0;34m(\u001b[0m\u001b[0;34m**\u001b[0m\u001b[0mconfig\u001b[0m\u001b[0;34m)\u001b[0m\u001b[0;34m:\u001b[0m\u001b[0;34m\u001b[0m\u001b[0;34m\u001b[0m\u001b[0m\n\u001b[0;32m--> 123\u001b[0;31m             \u001b[0;32mreturn\u001b[0m \u001b[0mself\u001b[0m\u001b[0;34m.\u001b[0m\u001b[0mfunction\u001b[0m\u001b[0;34m(\u001b[0m\u001b[0;34m*\u001b[0m\u001b[0margs\u001b[0m\u001b[0;34m,\u001b[0m \u001b[0;34m**\u001b[0m\u001b[0mkwargs\u001b[0m\u001b[0;34m)\u001b[0m\u001b[0;34m\u001b[0m\u001b[0;34m\u001b[0m\u001b[0m\n\u001b[0m",
            "\u001b[0;32m/usr/local/lib/python3.10/dist-packages/sklearn/linear_model/_logistic.py\u001b[0m in \u001b[0;36m_logistic_regression_path\u001b[0;34m(X, y, pos_class, Cs, fit_intercept, max_iter, tol, verbose, solver, coef, class_weight, dual, penalty, intercept_scaling, multi_class, random_state, check_input, max_squared_sum, sample_weight, l1_ratio, n_threads)\u001b[0m\n\u001b[1;32m    466\u001b[0m             \u001b[0ml2_reg_strength\u001b[0m \u001b[0;34m=\u001b[0m \u001b[0;36m1.0\u001b[0m \u001b[0;34m/\u001b[0m \u001b[0mC\u001b[0m\u001b[0;34m\u001b[0m\u001b[0;34m\u001b[0m\u001b[0m\n\u001b[1;32m    467\u001b[0m             \u001b[0margs\u001b[0m \u001b[0;34m=\u001b[0m \u001b[0;34m(\u001b[0m\u001b[0mX\u001b[0m\u001b[0;34m,\u001b[0m \u001b[0mtarget\u001b[0m\u001b[0;34m,\u001b[0m \u001b[0msample_weight\u001b[0m\u001b[0;34m,\u001b[0m \u001b[0ml2_reg_strength\u001b[0m\u001b[0;34m,\u001b[0m \u001b[0mn_threads\u001b[0m\u001b[0;34m)\u001b[0m\u001b[0;34m\u001b[0m\u001b[0;34m\u001b[0m\u001b[0m\n\u001b[0;32m--> 468\u001b[0;31m             w0, n_iter_i = _newton_cg(\n\u001b[0m\u001b[1;32m    469\u001b[0m                 \u001b[0mhess\u001b[0m\u001b[0;34m,\u001b[0m \u001b[0mfunc\u001b[0m\u001b[0;34m,\u001b[0m \u001b[0mgrad\u001b[0m\u001b[0;34m,\u001b[0m \u001b[0mw0\u001b[0m\u001b[0;34m,\u001b[0m \u001b[0margs\u001b[0m\u001b[0;34m=\u001b[0m\u001b[0margs\u001b[0m\u001b[0;34m,\u001b[0m \u001b[0mmaxiter\u001b[0m\u001b[0;34m=\u001b[0m\u001b[0mmax_iter\u001b[0m\u001b[0;34m,\u001b[0m \u001b[0mtol\u001b[0m\u001b[0;34m=\u001b[0m\u001b[0mtol\u001b[0m\u001b[0;34m\u001b[0m\u001b[0;34m\u001b[0m\u001b[0m\n\u001b[1;32m    470\u001b[0m             )\n",
            "\u001b[0;32m/usr/local/lib/python3.10/dist-packages/sklearn/utils/optimize.py\u001b[0m in \u001b[0;36m_newton_cg\u001b[0;34m(grad_hess, func, grad, x0, args, tol, maxiter, maxinner, line_search, warn)\u001b[0m\n\u001b[1;32m    197\u001b[0m         \u001b[0;32mif\u001b[0m \u001b[0mline_search\u001b[0m\u001b[0;34m:\u001b[0m\u001b[0;34m\u001b[0m\u001b[0;34m\u001b[0m\u001b[0m\n\u001b[1;32m    198\u001b[0m             \u001b[0;32mtry\u001b[0m\u001b[0;34m:\u001b[0m\u001b[0;34m\u001b[0m\u001b[0;34m\u001b[0m\u001b[0m\n\u001b[0;32m--> 199\u001b[0;31m                 alphak, fc, gc, old_fval, old_old_fval, gfkp1 = _line_search_wolfe12(\n\u001b[0m\u001b[1;32m    200\u001b[0m                     \u001b[0mfunc\u001b[0m\u001b[0;34m,\u001b[0m \u001b[0mgrad\u001b[0m\u001b[0;34m,\u001b[0m \u001b[0mxk\u001b[0m\u001b[0;34m,\u001b[0m \u001b[0mxsupi\u001b[0m\u001b[0;34m,\u001b[0m \u001b[0mfgrad\u001b[0m\u001b[0;34m,\u001b[0m \u001b[0mold_fval\u001b[0m\u001b[0;34m,\u001b[0m \u001b[0mold_old_fval\u001b[0m\u001b[0;34m,\u001b[0m \u001b[0margs\u001b[0m\u001b[0;34m=\u001b[0m\u001b[0margs\u001b[0m\u001b[0;34m\u001b[0m\u001b[0;34m\u001b[0m\u001b[0m\n\u001b[1;32m    201\u001b[0m                 )\n",
            "\u001b[0;32m/usr/local/lib/python3.10/dist-packages/sklearn/utils/optimize.py\u001b[0m in \u001b[0;36m_line_search_wolfe12\u001b[0;34m(f, fprime, xk, pk, gfk, old_fval, old_old_fval, **kwargs)\u001b[0m\n\u001b[1;32m     37\u001b[0m \u001b[0;34m\u001b[0m\u001b[0m\n\u001b[1;32m     38\u001b[0m     \"\"\"\n\u001b[0;32m---> 39\u001b[0;31m     \u001b[0mret\u001b[0m \u001b[0;34m=\u001b[0m \u001b[0mline_search_wolfe1\u001b[0m\u001b[0;34m(\u001b[0m\u001b[0mf\u001b[0m\u001b[0;34m,\u001b[0m \u001b[0mfprime\u001b[0m\u001b[0;34m,\u001b[0m \u001b[0mxk\u001b[0m\u001b[0;34m,\u001b[0m \u001b[0mpk\u001b[0m\u001b[0;34m,\u001b[0m \u001b[0mgfk\u001b[0m\u001b[0;34m,\u001b[0m \u001b[0mold_fval\u001b[0m\u001b[0;34m,\u001b[0m \u001b[0mold_old_fval\u001b[0m\u001b[0;34m,\u001b[0m \u001b[0;34m**\u001b[0m\u001b[0mkwargs\u001b[0m\u001b[0;34m)\u001b[0m\u001b[0;34m\u001b[0m\u001b[0;34m\u001b[0m\u001b[0m\n\u001b[0m\u001b[1;32m     40\u001b[0m \u001b[0;34m\u001b[0m\u001b[0m\n\u001b[1;32m     41\u001b[0m     \u001b[0;32mif\u001b[0m \u001b[0mret\u001b[0m\u001b[0;34m[\u001b[0m\u001b[0;36m0\u001b[0m\u001b[0;34m]\u001b[0m \u001b[0;32mis\u001b[0m \u001b[0;32mNone\u001b[0m\u001b[0;34m:\u001b[0m\u001b[0;34m\u001b[0m\u001b[0;34m\u001b[0m\u001b[0m\n",
            "\u001b[0;32m/usr/local/lib/python3.10/dist-packages/scipy/optimize/_linesearch.py\u001b[0m in \u001b[0;36mline_search_wolfe1\u001b[0;34m(f, fprime, xk, pk, gfk, old_fval, old_old_fval, args, c1, c2, amax, amin, xtol)\u001b[0m\n\u001b[1;32m     82\u001b[0m     \u001b[0mderphi0\u001b[0m \u001b[0;34m=\u001b[0m \u001b[0mnp\u001b[0m\u001b[0;34m.\u001b[0m\u001b[0mdot\u001b[0m\u001b[0;34m(\u001b[0m\u001b[0mgfk\u001b[0m\u001b[0;34m,\u001b[0m \u001b[0mpk\u001b[0m\u001b[0;34m)\u001b[0m\u001b[0;34m\u001b[0m\u001b[0;34m\u001b[0m\u001b[0m\n\u001b[1;32m     83\u001b[0m \u001b[0;34m\u001b[0m\u001b[0m\n\u001b[0;32m---> 84\u001b[0;31m     stp, fval, old_fval = scalar_search_wolfe1(\n\u001b[0m\u001b[1;32m     85\u001b[0m             \u001b[0mphi\u001b[0m\u001b[0;34m,\u001b[0m \u001b[0mderphi\u001b[0m\u001b[0;34m,\u001b[0m \u001b[0mold_fval\u001b[0m\u001b[0;34m,\u001b[0m \u001b[0mold_old_fval\u001b[0m\u001b[0;34m,\u001b[0m \u001b[0mderphi0\u001b[0m\u001b[0;34m,\u001b[0m\u001b[0;34m\u001b[0m\u001b[0;34m\u001b[0m\u001b[0m\n\u001b[1;32m     86\u001b[0m             c1=c1, c2=c2, amax=amax, amin=amin, xtol=xtol)\n",
            "\u001b[0;32m/usr/local/lib/python3.10/dist-packages/scipy/optimize/_linesearch.py\u001b[0m in \u001b[0;36mscalar_search_wolfe1\u001b[0;34m(phi, derphi, phi0, old_phi0, derphi0, c1, c2, amax, amin, xtol)\u001b[0m\n\u001b[1;32m    158\u001b[0m         \u001b[0;32mif\u001b[0m \u001b[0mtask\u001b[0m\u001b[0;34m[\u001b[0m\u001b[0;34m:\u001b[0m\u001b[0;36m2\u001b[0m\u001b[0;34m]\u001b[0m \u001b[0;34m==\u001b[0m \u001b[0;34mb'FG'\u001b[0m\u001b[0;34m:\u001b[0m\u001b[0;34m\u001b[0m\u001b[0;34m\u001b[0m\u001b[0m\n\u001b[1;32m    159\u001b[0m             \u001b[0malpha1\u001b[0m \u001b[0;34m=\u001b[0m \u001b[0mstp\u001b[0m\u001b[0;34m\u001b[0m\u001b[0;34m\u001b[0m\u001b[0m\n\u001b[0;32m--> 160\u001b[0;31m             \u001b[0mphi1\u001b[0m \u001b[0;34m=\u001b[0m \u001b[0mphi\u001b[0m\u001b[0;34m(\u001b[0m\u001b[0mstp\u001b[0m\u001b[0;34m)\u001b[0m\u001b[0;34m\u001b[0m\u001b[0;34m\u001b[0m\u001b[0m\n\u001b[0m\u001b[1;32m    161\u001b[0m             \u001b[0mderphi1\u001b[0m \u001b[0;34m=\u001b[0m \u001b[0mderphi\u001b[0m\u001b[0;34m(\u001b[0m\u001b[0mstp\u001b[0m\u001b[0;34m)\u001b[0m\u001b[0;34m\u001b[0m\u001b[0;34m\u001b[0m\u001b[0m\n\u001b[1;32m    162\u001b[0m         \u001b[0;32melse\u001b[0m\u001b[0;34m:\u001b[0m\u001b[0;34m\u001b[0m\u001b[0;34m\u001b[0m\u001b[0m\n",
            "\u001b[0;32m/usr/local/lib/python3.10/dist-packages/scipy/optimize/_linesearch.py\u001b[0m in \u001b[0;36mphi\u001b[0;34m(s)\u001b[0m\n\u001b[1;32m     73\u001b[0m     \u001b[0;32mdef\u001b[0m \u001b[0mphi\u001b[0m\u001b[0;34m(\u001b[0m\u001b[0ms\u001b[0m\u001b[0;34m)\u001b[0m\u001b[0;34m:\u001b[0m\u001b[0;34m\u001b[0m\u001b[0;34m\u001b[0m\u001b[0m\n\u001b[1;32m     74\u001b[0m         \u001b[0mfc\u001b[0m\u001b[0;34m[\u001b[0m\u001b[0;36m0\u001b[0m\u001b[0;34m]\u001b[0m \u001b[0;34m+=\u001b[0m \u001b[0;36m1\u001b[0m\u001b[0;34m\u001b[0m\u001b[0;34m\u001b[0m\u001b[0m\n\u001b[0;32m---> 75\u001b[0;31m         \u001b[0;32mreturn\u001b[0m \u001b[0mf\u001b[0m\u001b[0;34m(\u001b[0m\u001b[0mxk\u001b[0m \u001b[0;34m+\u001b[0m \u001b[0ms\u001b[0m\u001b[0;34m*\u001b[0m\u001b[0mpk\u001b[0m\u001b[0;34m,\u001b[0m \u001b[0;34m*\u001b[0m\u001b[0margs\u001b[0m\u001b[0;34m)\u001b[0m\u001b[0;34m\u001b[0m\u001b[0;34m\u001b[0m\u001b[0m\n\u001b[0m\u001b[1;32m     76\u001b[0m \u001b[0;34m\u001b[0m\u001b[0m\n\u001b[1;32m     77\u001b[0m     \u001b[0;32mdef\u001b[0m \u001b[0mderphi\u001b[0m\u001b[0;34m(\u001b[0m\u001b[0ms\u001b[0m\u001b[0;34m)\u001b[0m\u001b[0;34m:\u001b[0m\u001b[0;34m\u001b[0m\u001b[0;34m\u001b[0m\u001b[0m\n",
            "\u001b[0;32m/usr/local/lib/python3.10/dist-packages/sklearn/linear_model/_linear_loss.py\u001b[0m in \u001b[0;36mloss\u001b[0;34m(self, coef, X, y, sample_weight, l2_reg_strength, n_threads, raw_prediction)\u001b[0m\n\u001b[1;32m    216\u001b[0m             \u001b[0mweights\u001b[0m\u001b[0;34m,\u001b[0m \u001b[0mintercept\u001b[0m \u001b[0;34m=\u001b[0m \u001b[0mself\u001b[0m\u001b[0;34m.\u001b[0m\u001b[0mweight_intercept\u001b[0m\u001b[0;34m(\u001b[0m\u001b[0mcoef\u001b[0m\u001b[0;34m)\u001b[0m\u001b[0;34m\u001b[0m\u001b[0;34m\u001b[0m\u001b[0m\n\u001b[1;32m    217\u001b[0m \u001b[0;34m\u001b[0m\u001b[0m\n\u001b[0;32m--> 218\u001b[0;31m         loss = self.base_loss.loss(\n\u001b[0m\u001b[1;32m    219\u001b[0m             \u001b[0my_true\u001b[0m\u001b[0;34m=\u001b[0m\u001b[0my\u001b[0m\u001b[0;34m,\u001b[0m\u001b[0;34m\u001b[0m\u001b[0;34m\u001b[0m\u001b[0m\n\u001b[1;32m    220\u001b[0m             \u001b[0mraw_prediction\u001b[0m\u001b[0;34m=\u001b[0m\u001b[0mraw_prediction\u001b[0m\u001b[0;34m,\u001b[0m\u001b[0;34m\u001b[0m\u001b[0;34m\u001b[0m\u001b[0m\n",
            "\u001b[0;32m/usr/local/lib/python3.10/dist-packages/sklearn/_loss/loss.py\u001b[0m in \u001b[0;36mloss\u001b[0;34m(self, y_true, raw_prediction, sample_weight, loss_out, n_threads)\u001b[0m\n\u001b[1;32m    190\u001b[0m         \u001b[0;32mif\u001b[0m \u001b[0msample_weight\u001b[0m \u001b[0;32mis\u001b[0m \u001b[0;32mnot\u001b[0m \u001b[0;32mNone\u001b[0m\u001b[0;34m:\u001b[0m\u001b[0;34m\u001b[0m\u001b[0;34m\u001b[0m\u001b[0m\n\u001b[1;32m    191\u001b[0m             \u001b[0msample_weight\u001b[0m \u001b[0;34m=\u001b[0m \u001b[0mReadonlyArrayWrapper\u001b[0m\u001b[0;34m(\u001b[0m\u001b[0msample_weight\u001b[0m\u001b[0;34m)\u001b[0m\u001b[0;34m\u001b[0m\u001b[0;34m\u001b[0m\u001b[0m\n\u001b[0;32m--> 192\u001b[0;31m         return self.closs.loss(\n\u001b[0m\u001b[1;32m    193\u001b[0m             \u001b[0my_true\u001b[0m\u001b[0;34m=\u001b[0m\u001b[0my_true\u001b[0m\u001b[0;34m,\u001b[0m\u001b[0;34m\u001b[0m\u001b[0;34m\u001b[0m\u001b[0m\n\u001b[1;32m    194\u001b[0m             \u001b[0mraw_prediction\u001b[0m\u001b[0;34m=\u001b[0m\u001b[0mraw_prediction\u001b[0m\u001b[0;34m,\u001b[0m\u001b[0;34m\u001b[0m\u001b[0;34m\u001b[0m\u001b[0m\n",
            "\u001b[0;31mKeyboardInterrupt\u001b[0m: "
          ]
        }
      ],
      "source": [
        "epchoes = 1000\n",
        "i = 1\n",
        "# Prepare data\n",
        "x = np.array(X_train)\n",
        "Y = np.array(y_train)\n",
        "\n",
        "\n",
        "# model :\n",
        "logistic_model = LogisticRegression(\n",
        "    random_state=64,  # reproducibility\n",
        "    max_iter=1000,    # iterations for optimization\n",
        "    solver='newton-cg',  # Optimization algorithm ('newton-cg' is a good choice for small to medium datasets)\n",
        "    penalty='l2',     # Regularization type ('l2' regularization is commonly used)\n",
        "    C=1.0,            # Inverse of regularization strength (smaller values indicate stronger regularization)\n",
        "    class_weight=None  # Weights associated with classes (can be 'balanced' for handling class imbalance)\n",
        ")\n",
        "\n",
        "\n",
        "# Stratified K-Fold\n",
        "skf = StratifiedKFold(n_splits = epchoes, shuffle=True, random_state=42)\n",
        "\n",
        "for train_index, test_index in skf.split(x, Y):\n",
        "    print( ' Epcho Number : ', i)\n",
        "    i += 1\n",
        "    x_train, x_val = X[train_index], X[test_index]\n",
        "    Y_train, Y_val = y[train_index], y[test_index]\n",
        "\n",
        "    # Train model\n",
        "    logistic_model.fit(x_train, Y_train)\n",
        "\n",
        "    # Predict probabilities\n",
        "    predict = logistic_model.predict(x_val)\n",
        "\n",
        "    # Calculate precision, recall, F1 score, and support\n",
        "    precision, recall, f1_score, support = precision_recall_fscore_support(Y_val, predict)\n",
        "\n",
        "    # Print the evaluation metrics for the positive class (class 1)\n",
        "    print(\"Precision for class 1:\", precision[1])\n",
        "    print(\"Recall for class 1:\", recall[1])\n",
        "    print(\"F1 Score for class 1:\", f1_score[1])\n",
        "    print(\"Support for class 1:\", support[1])\n"
      ]
    },
    {
      "cell_type": "code",
      "execution_count": 107,
      "metadata": {
        "id": "xda4UxiHU5MV"
      },
      "outputs": [
        {
          "name": "stderr",
          "output_type": "stream",
          "text": [
            "[Parallel(n_jobs=1)]: Done  40 tasks      | elapsed:    1.1s\n",
            "[Parallel(n_jobs=1)]: Done  40 tasks      | elapsed:    1.0s\n"
          ]
        }
      ],
      "source": [
        "# Predict on the test set\n",
        "test_predictions = clf.predict(X_test)\n",
        "test_probabilities = clf.predict_proba(X_test)[:, 1]"
      ]
    },
    {
      "cell_type": "code",
      "execution_count": 109,
      "metadata": {
        "colab": {
          "base_uri": "https://localhost:8080/"
        },
        "id": "5A3KTbQp96BF",
        "outputId": "2672c047-8308-4852-a972-4cd4b191c013"
      },
      "outputs": [
        {
          "data": {
            "text/plain": [
              "(0.5, 0.9918196395463429)"
            ]
          },
          "execution_count": 109,
          "metadata": {},
          "output_type": "execute_result"
        }
      ],
      "source": [
        "# Calculate metrics\n",
        "roc_auc = roc_auc_score(y_test, test_probabilities.astype(int))\n",
        "accuracy = accuracy_score(y_test, test_probabilities.astype(int))\n",
        "\n",
        "roc_auc, accuracy"
      ]
    },
    {
      "cell_type": "code",
      "execution_count": 110,
      "metadata": {
        "colab": {
          "base_uri": "https://localhost:8080/"
        },
        "id": "spcilQpjU5MV",
        "outputId": "8162b750-b3f4-404a-d7a4-90bcfe6a6f94"
      },
      "outputs": [
        {
          "name": "stdout",
          "output_type": "stream",
          "text": [
            "Accuracy: 0.9923791945748217\n",
            "Precision: 0.7964601769911505\n",
            "Recall: 0.09188361408882083\n",
            "F1 Score: 0.16475972540045766\n",
            "ROC AUC Score: 0.5458449718705071\n",
            "Confusion Matrix:\n",
            " [[237471     46]\n",
            " [  1779    180]]\n"
          ]
        }
      ],
      "source": [
        "#\n",
        "accuracy = accuracy_score(y_test, test_predictions)\n",
        "\n",
        "#\n",
        "precision = precision_score(y_test, test_predictions)\n",
        "\n",
        "# (sensitivity)\n",
        "recall = recall_score(y_test, test_predictions)\n",
        "\n",
        "#\n",
        "f1 = f1_score(y_test, test_predictions)\n",
        "\n",
        "#\n",
        "roc_auc = roc_auc_score(y_test, test_predictions)\n",
        "\n",
        "#\n",
        "conf_matrix = confusion_matrix(y_test, test_predictions)\n",
        "\n",
        "print(\"Accuracy:\", accuracy)\n",
        "print(\"Precision:\", precision)\n",
        "print(\"Recall:\", recall)\n",
        "print(\"F1 Score:\", f1)\n",
        "print(\"ROC AUC Score:\", roc_auc)\n",
        "print(\"Confusion Matrix:\\n\", conf_matrix)"
      ]
    },
    {
      "cell_type": "markdown",
      "metadata": {
        "id": "7MoP6LdiKsG3"
      },
      "source": [
        "مقادیر F1 Score و Recall میزان پایینی از موفقیت را در تشخیص مدل در موارد مرزی نشان میدهند.\n",
        "این بدان معناست که مدل مواردی که تارگت ۰ بوده را با تقریب مرزی بین ۰ تا ۵ درصد ، ۱ پیش بینی کرده است"
      ]
    },
    {
      "cell_type": "code",
      "execution_count": 113,
      "metadata": {
        "id": "Unf6JjBp2eie"
      },
      "outputs": [],
      "source": [
        "from sklearn.linear_model import SGDClassifier\n",
        "from sklearn.preprocessing import StandardScaler\n",
        "from sklearn.pipeline import make_pipeline\n",
        "\n",
        "\n",
        "# feature scaling and logistic regression with SGD\n",
        "#logistic_model = make_pipeline(StandardScaler(), SGDClassifier(loss='hinge', max_iter=1000, random_state=42))\n",
        "\n",
        "# Train the model\n",
        "#logistic_model.fit(X_train, y_train)\n"
      ]
    },
    {
      "cell_type": "code",
      "execution_count": 115,
      "metadata": {
        "colab": {
          "base_uri": "https://localhost:8080/"
        },
        "id": "JY-Vdtnq4Qvw",
        "outputId": "48f44ae7-ff9c-4609-b94a-33d972be70fa"
      },
      "outputs": [
        {
          "name": "stdout",
          "output_type": "stream",
          "text": [
            " Epcho Number :  1\n"
          ]
        },
        {
          "name": "stderr",
          "output_type": "stream",
          "text": [
            "/home/user/.local/lib/python3.11/site-packages/sklearn/metrics/_classification.py:1509: UndefinedMetricWarning: Precision is ill-defined and being set to 0.0 in labels with no predicted samples. Use `zero_division` parameter to control this behavior.\n",
            "  _warn_prf(average, modifier, f\"{metric.capitalize()} is\", len(result))\n"
          ]
        },
        {
          "name": "stdout",
          "output_type": "stream",
          "text": [
            "Precision for class 1: 0.0\n",
            "Recall for class 1: 0.0\n",
            "F1 Score for class 1: 0.0\n",
            "Support for class 1: 88\n",
            " Epcho Number :  2\n"
          ]
        },
        {
          "name": "stderr",
          "output_type": "stream",
          "text": [
            "/home/user/.local/lib/python3.11/site-packages/sklearn/metrics/_classification.py:1509: UndefinedMetricWarning: Precision is ill-defined and being set to 0.0 in labels with no predicted samples. Use `zero_division` parameter to control this behavior.\n",
            "  _warn_prf(average, modifier, f\"{metric.capitalize()} is\", len(result))\n"
          ]
        },
        {
          "name": "stdout",
          "output_type": "stream",
          "text": [
            "Precision for class 1: 0.0\n",
            "Recall for class 1: 0.0\n",
            "F1 Score for class 1: 0.0\n",
            "Support for class 1: 95\n",
            " Epcho Number :  3\n"
          ]
        },
        {
          "name": "stderr",
          "output_type": "stream",
          "text": [
            "/home/user/.local/lib/python3.11/site-packages/sklearn/metrics/_classification.py:1509: UndefinedMetricWarning: Precision is ill-defined and being set to 0.0 in labels with no predicted samples. Use `zero_division` parameter to control this behavior.\n",
            "  _warn_prf(average, modifier, f\"{metric.capitalize()} is\", len(result))\n"
          ]
        },
        {
          "name": "stdout",
          "output_type": "stream",
          "text": [
            "Precision for class 1: 0.0\n",
            "Recall for class 1: 0.0\n",
            "F1 Score for class 1: 0.0\n",
            "Support for class 1: 111\n",
            " Epcho Number :  4\n",
            "Precision for class 1: 0.0\n",
            "Recall for class 1: 0.0\n",
            "F1 Score for class 1: 0.0\n",
            "Support for class 1: 100\n",
            " Epcho Number :  5\n"
          ]
        },
        {
          "name": "stderr",
          "output_type": "stream",
          "text": [
            "/home/user/.local/lib/python3.11/site-packages/sklearn/metrics/_classification.py:1509: UndefinedMetricWarning: Precision is ill-defined and being set to 0.0 in labels with no predicted samples. Use `zero_division` parameter to control this behavior.\n",
            "  _warn_prf(average, modifier, f\"{metric.capitalize()} is\", len(result))\n"
          ]
        },
        {
          "name": "stdout",
          "output_type": "stream",
          "text": [
            "Precision for class 1: 0.0\n",
            "Recall for class 1: 0.0\n",
            "F1 Score for class 1: 0.0\n",
            "Support for class 1: 103\n",
            " Epcho Number :  6\n"
          ]
        },
        {
          "name": "stderr",
          "output_type": "stream",
          "text": [
            "/home/user/.local/lib/python3.11/site-packages/sklearn/metrics/_classification.py:1509: UndefinedMetricWarning: Precision is ill-defined and being set to 0.0 in labels with no predicted samples. Use `zero_division` parameter to control this behavior.\n",
            "  _warn_prf(average, modifier, f\"{metric.capitalize()} is\", len(result))\n"
          ]
        },
        {
          "name": "stdout",
          "output_type": "stream",
          "text": [
            "Precision for class 1: 0.0\n",
            "Recall for class 1: 0.0\n",
            "F1 Score for class 1: 0.0\n",
            "Support for class 1: 100\n",
            " Epcho Number :  7\n"
          ]
        },
        {
          "name": "stderr",
          "output_type": "stream",
          "text": [
            "/home/user/.local/lib/python3.11/site-packages/sklearn/metrics/_classification.py:1509: UndefinedMetricWarning: Precision is ill-defined and being set to 0.0 in labels with no predicted samples. Use `zero_division` parameter to control this behavior.\n",
            "  _warn_prf(average, modifier, f\"{metric.capitalize()} is\", len(result))\n"
          ]
        },
        {
          "name": "stdout",
          "output_type": "stream",
          "text": [
            "Precision for class 1: 0.0\n",
            "Recall for class 1: 0.0\n",
            "F1 Score for class 1: 0.0\n",
            "Support for class 1: 93\n",
            " Epcho Number :  8\n",
            "Precision for class 1: 0.5\n",
            "Recall for class 1: 0.02727272727272727\n",
            "F1 Score for class 1: 0.05172413793103448\n",
            "Support for class 1: 110\n",
            " Epcho Number :  9\n",
            "Precision for class 1: 0.0\n",
            "Recall for class 1: 0.0\n",
            "F1 Score for class 1: 0.0\n",
            "Support for class 1: 86\n",
            " Epcho Number :  10\n",
            "Precision for class 1: 0.0\n",
            "Recall for class 1: 0.0\n",
            "F1 Score for class 1: 0.0\n",
            "Support for class 1: 103\n",
            " Epcho Number :  11\n"
          ]
        },
        {
          "name": "stderr",
          "output_type": "stream",
          "text": [
            "/home/user/.local/lib/python3.11/site-packages/sklearn/metrics/_classification.py:1509: UndefinedMetricWarning: Precision is ill-defined and being set to 0.0 in labels with no predicted samples. Use `zero_division` parameter to control this behavior.\n",
            "  _warn_prf(average, modifier, f\"{metric.capitalize()} is\", len(result))\n"
          ]
        },
        {
          "name": "stdout",
          "output_type": "stream",
          "text": [
            "Precision for class 1: 0.0\n",
            "Recall for class 1: 0.0\n",
            "F1 Score for class 1: 0.0\n",
            "Support for class 1: 97\n",
            " Epcho Number :  12\n",
            "Precision for class 1: 1.0\n",
            "Recall for class 1: 0.011111111111111112\n",
            "F1 Score for class 1: 0.02197802197802198\n",
            "Support for class 1: 90\n",
            " Epcho Number :  13\n"
          ]
        },
        {
          "name": "stderr",
          "output_type": "stream",
          "text": [
            "/home/user/.local/lib/python3.11/site-packages/sklearn/metrics/_classification.py:1509: UndefinedMetricWarning: Precision is ill-defined and being set to 0.0 in labels with no predicted samples. Use `zero_division` parameter to control this behavior.\n",
            "  _warn_prf(average, modifier, f\"{metric.capitalize()} is\", len(result))\n"
          ]
        },
        {
          "name": "stdout",
          "output_type": "stream",
          "text": [
            "Precision for class 1: 0.0\n",
            "Recall for class 1: 0.0\n",
            "F1 Score for class 1: 0.0\n",
            "Support for class 1: 89\n",
            " Epcho Number :  14\n"
          ]
        },
        {
          "name": "stderr",
          "output_type": "stream",
          "text": [
            "/home/user/.local/lib/python3.11/site-packages/sklearn/metrics/_classification.py:1509: UndefinedMetricWarning: Precision is ill-defined and being set to 0.0 in labels with no predicted samples. Use `zero_division` parameter to control this behavior.\n",
            "  _warn_prf(average, modifier, f\"{metric.capitalize()} is\", len(result))\n"
          ]
        },
        {
          "name": "stdout",
          "output_type": "stream",
          "text": [
            "Precision for class 1: 0.0\n",
            "Recall for class 1: 0.0\n",
            "F1 Score for class 1: 0.0\n",
            "Support for class 1: 117\n",
            " Epcho Number :  15\n"
          ]
        },
        {
          "ename": "KeyboardInterrupt",
          "evalue": "",
          "output_type": "error",
          "traceback": [
            "\u001b[0;31m---------------------------------------------------------------------------\u001b[0m",
            "\u001b[0;31mKeyboardInterrupt\u001b[0m                         Traceback (most recent call last)",
            "Cell \u001b[0;32mIn[115], line 18\u001b[0m\n\u001b[1;32m     16\u001b[0m i \u001b[38;5;241m+\u001b[39m\u001b[38;5;241m=\u001b[39m \u001b[38;5;241m1\u001b[39m\n\u001b[1;32m     17\u001b[0m x_train, x_val \u001b[38;5;241m=\u001b[39m X\u001b[38;5;241m.\u001b[39mloc[train_index], X\u001b[38;5;241m.\u001b[39mloc[test_index]\n\u001b[0;32m---> 18\u001b[0m Y_train, Y_val \u001b[38;5;241m=\u001b[39m \u001b[43my\u001b[49m\u001b[38;5;241;43m.\u001b[39;49m\u001b[43mloc\u001b[49m\u001b[43m[\u001b[49m\u001b[43mtrain_index\u001b[49m\u001b[43m]\u001b[49m, y\u001b[38;5;241m.\u001b[39mloc[test_index]\n\u001b[1;32m     20\u001b[0m \u001b[38;5;66;03m# Train model\u001b[39;00m\n\u001b[1;32m     21\u001b[0m logistic_model\u001b[38;5;241m.\u001b[39mfit(x_train, Y_train)\n",
            "File \u001b[0;32m/usr/lib/python3/dist-packages/pandas/core/indexing.py:1153\u001b[0m, in \u001b[0;36m_LocationIndexer.__getitem__\u001b[0;34m(self, key)\u001b[0m\n\u001b[1;32m   1150\u001b[0m axis \u001b[38;5;241m=\u001b[39m \u001b[38;5;28mself\u001b[39m\u001b[38;5;241m.\u001b[39maxis \u001b[38;5;129;01mor\u001b[39;00m \u001b[38;5;241m0\u001b[39m\n\u001b[1;32m   1152\u001b[0m maybe_callable \u001b[38;5;241m=\u001b[39m com\u001b[38;5;241m.\u001b[39mapply_if_callable(key, \u001b[38;5;28mself\u001b[39m\u001b[38;5;241m.\u001b[39mobj)\n\u001b[0;32m-> 1153\u001b[0m \u001b[38;5;28;01mreturn\u001b[39;00m \u001b[38;5;28;43mself\u001b[39;49m\u001b[38;5;241;43m.\u001b[39;49m\u001b[43m_getitem_axis\u001b[49m\u001b[43m(\u001b[49m\u001b[43mmaybe_callable\u001b[49m\u001b[43m,\u001b[49m\u001b[43m \u001b[49m\u001b[43maxis\u001b[49m\u001b[38;5;241;43m=\u001b[39;49m\u001b[43maxis\u001b[49m\u001b[43m)\u001b[49m\n",
            "File \u001b[0;32m/usr/lib/python3/dist-packages/pandas/core/indexing.py:1382\u001b[0m, in \u001b[0;36m_LocIndexer._getitem_axis\u001b[0;34m(self, key, axis)\u001b[0m\n\u001b[1;32m   1379\u001b[0m     \u001b[38;5;28;01mif\u001b[39;00m \u001b[38;5;28mhasattr\u001b[39m(key, \u001b[38;5;124m\"\u001b[39m\u001b[38;5;124mndim\u001b[39m\u001b[38;5;124m\"\u001b[39m) \u001b[38;5;129;01mand\u001b[39;00m key\u001b[38;5;241m.\u001b[39mndim \u001b[38;5;241m>\u001b[39m \u001b[38;5;241m1\u001b[39m:\n\u001b[1;32m   1380\u001b[0m         \u001b[38;5;28;01mraise\u001b[39;00m \u001b[38;5;167;01mValueError\u001b[39;00m(\u001b[38;5;124m\"\u001b[39m\u001b[38;5;124mCannot index with multidimensional key\u001b[39m\u001b[38;5;124m\"\u001b[39m)\n\u001b[0;32m-> 1382\u001b[0m     \u001b[38;5;28;01mreturn\u001b[39;00m \u001b[38;5;28;43mself\u001b[39;49m\u001b[38;5;241;43m.\u001b[39;49m\u001b[43m_getitem_iterable\u001b[49m\u001b[43m(\u001b[49m\u001b[43mkey\u001b[49m\u001b[43m,\u001b[49m\u001b[43m \u001b[49m\u001b[43maxis\u001b[49m\u001b[38;5;241;43m=\u001b[39;49m\u001b[43maxis\u001b[49m\u001b[43m)\u001b[49m\n\u001b[1;32m   1384\u001b[0m \u001b[38;5;66;03m# nested tuple slicing\u001b[39;00m\n\u001b[1;32m   1385\u001b[0m \u001b[38;5;28;01mif\u001b[39;00m is_nested_tuple(key, labels):\n",
            "File \u001b[0;32m/usr/lib/python3/dist-packages/pandas/core/indexing.py:1322\u001b[0m, in \u001b[0;36m_LocIndexer._getitem_iterable\u001b[0;34m(self, key, axis)\u001b[0m\n\u001b[1;32m   1319\u001b[0m \u001b[38;5;28mself\u001b[39m\u001b[38;5;241m.\u001b[39m_validate_key(key, axis)\n\u001b[1;32m   1321\u001b[0m \u001b[38;5;66;03m# A collection of keys\u001b[39;00m\n\u001b[0;32m-> 1322\u001b[0m keyarr, indexer \u001b[38;5;241m=\u001b[39m \u001b[38;5;28;43mself\u001b[39;49m\u001b[38;5;241;43m.\u001b[39;49m\u001b[43m_get_listlike_indexer\u001b[49m\u001b[43m(\u001b[49m\u001b[43mkey\u001b[49m\u001b[43m,\u001b[49m\u001b[43m \u001b[49m\u001b[43maxis\u001b[49m\u001b[43m)\u001b[49m\n\u001b[1;32m   1323\u001b[0m \u001b[38;5;28;01mreturn\u001b[39;00m \u001b[38;5;28mself\u001b[39m\u001b[38;5;241m.\u001b[39mobj\u001b[38;5;241m.\u001b[39m_reindex_with_indexers(\n\u001b[1;32m   1324\u001b[0m     {axis: [keyarr, indexer]}, copy\u001b[38;5;241m=\u001b[39m\u001b[38;5;28;01mTrue\u001b[39;00m, allow_dups\u001b[38;5;241m=\u001b[39m\u001b[38;5;28;01mTrue\u001b[39;00m\n\u001b[1;32m   1325\u001b[0m )\n",
            "File \u001b[0;32m/usr/lib/python3/dist-packages/pandas/core/indexing.py:1520\u001b[0m, in \u001b[0;36m_LocIndexer._get_listlike_indexer\u001b[0;34m(self, key, axis)\u001b[0m\n\u001b[1;32m   1517\u001b[0m ax \u001b[38;5;241m=\u001b[39m \u001b[38;5;28mself\u001b[39m\u001b[38;5;241m.\u001b[39mobj\u001b[38;5;241m.\u001b[39m_get_axis(axis)\n\u001b[1;32m   1518\u001b[0m axis_name \u001b[38;5;241m=\u001b[39m \u001b[38;5;28mself\u001b[39m\u001b[38;5;241m.\u001b[39mobj\u001b[38;5;241m.\u001b[39m_get_axis_name(axis)\n\u001b[0;32m-> 1520\u001b[0m keyarr, indexer \u001b[38;5;241m=\u001b[39m \u001b[43max\u001b[49m\u001b[38;5;241;43m.\u001b[39;49m\u001b[43m_get_indexer_strict\u001b[49m\u001b[43m(\u001b[49m\u001b[43mkey\u001b[49m\u001b[43m,\u001b[49m\u001b[43m \u001b[49m\u001b[43maxis_name\u001b[49m\u001b[43m)\u001b[49m\n\u001b[1;32m   1522\u001b[0m \u001b[38;5;28;01mreturn\u001b[39;00m keyarr, indexer\n",
            "File \u001b[0;32m/usr/lib/python3/dist-packages/pandas/core/indexes/base.py:6111\u001b[0m, in \u001b[0;36mIndex._get_indexer_strict\u001b[0;34m(self, key, axis_name)\u001b[0m\n\u001b[1;32m   6109\u001b[0m \u001b[38;5;28;01mif\u001b[39;00m \u001b[38;5;28mself\u001b[39m\u001b[38;5;241m.\u001b[39m_index_as_unique:\n\u001b[1;32m   6110\u001b[0m     indexer \u001b[38;5;241m=\u001b[39m \u001b[38;5;28mself\u001b[39m\u001b[38;5;241m.\u001b[39mget_indexer_for(keyarr)\n\u001b[0;32m-> 6111\u001b[0m     keyarr \u001b[38;5;241m=\u001b[39m \u001b[38;5;28;43mself\u001b[39;49m\u001b[38;5;241;43m.\u001b[39;49m\u001b[43mreindex\u001b[49m\u001b[43m(\u001b[49m\u001b[43mkeyarr\u001b[49m\u001b[43m)\u001b[49m[\u001b[38;5;241m0\u001b[39m]\n\u001b[1;32m   6112\u001b[0m \u001b[38;5;28;01melse\u001b[39;00m:\n\u001b[1;32m   6113\u001b[0m     keyarr, indexer, new_indexer \u001b[38;5;241m=\u001b[39m \u001b[38;5;28mself\u001b[39m\u001b[38;5;241m.\u001b[39m_reindex_non_unique(keyarr)\n",
            "File \u001b[0;32m/usr/lib/python3/dist-packages/pandas/core/indexes/base.py:4427\u001b[0m, in \u001b[0;36mIndex.reindex\u001b[0;34m(self, target, method, level, limit, tolerance)\u001b[0m\n\u001b[1;32m   4425\u001b[0m \u001b[38;5;28;01melse\u001b[39;00m:\n\u001b[1;32m   4426\u001b[0m     \u001b[38;5;28;01mif\u001b[39;00m \u001b[38;5;28mself\u001b[39m\u001b[38;5;241m.\u001b[39m_index_as_unique:\n\u001b[0;32m-> 4427\u001b[0m         indexer \u001b[38;5;241m=\u001b[39m \u001b[38;5;28;43mself\u001b[39;49m\u001b[38;5;241;43m.\u001b[39;49m\u001b[43mget_indexer\u001b[49m\u001b[43m(\u001b[49m\n\u001b[1;32m   4428\u001b[0m \u001b[43m            \u001b[49m\u001b[43mtarget\u001b[49m\u001b[43m,\u001b[49m\u001b[43m \u001b[49m\u001b[43mmethod\u001b[49m\u001b[38;5;241;43m=\u001b[39;49m\u001b[43mmethod\u001b[49m\u001b[43m,\u001b[49m\u001b[43m \u001b[49m\u001b[43mlimit\u001b[49m\u001b[38;5;241;43m=\u001b[39;49m\u001b[43mlimit\u001b[49m\u001b[43m,\u001b[49m\u001b[43m \u001b[49m\u001b[43mtolerance\u001b[49m\u001b[38;5;241;43m=\u001b[39;49m\u001b[43mtolerance\u001b[49m\n\u001b[1;32m   4429\u001b[0m \u001b[43m        \u001b[49m\u001b[43m)\u001b[49m\n\u001b[1;32m   4430\u001b[0m     \u001b[38;5;28;01melif\u001b[39;00m \u001b[38;5;28mself\u001b[39m\u001b[38;5;241m.\u001b[39m_is_multi:\n\u001b[1;32m   4431\u001b[0m         \u001b[38;5;28;01mraise\u001b[39;00m \u001b[38;5;167;01mValueError\u001b[39;00m(\u001b[38;5;124m\"\u001b[39m\u001b[38;5;124mcannot handle a non-unique multi-index!\u001b[39m\u001b[38;5;124m\"\u001b[39m)\n",
            "File \u001b[0;32m/usr/lib/python3/dist-packages/pandas/core/indexes/base.py:3943\u001b[0m, in \u001b[0;36mIndex.get_indexer\u001b[0;34m(self, target, method, limit, tolerance)\u001b[0m\n\u001b[1;32m   3938\u001b[0m     target \u001b[38;5;241m=\u001b[39m target\u001b[38;5;241m.\u001b[39mastype(dtype, copy\u001b[38;5;241m=\u001b[39m\u001b[38;5;28;01mFalse\u001b[39;00m)\n\u001b[1;32m   3939\u001b[0m     \u001b[38;5;28;01mreturn\u001b[39;00m this\u001b[38;5;241m.\u001b[39m_get_indexer(\n\u001b[1;32m   3940\u001b[0m         target, method\u001b[38;5;241m=\u001b[39mmethod, limit\u001b[38;5;241m=\u001b[39mlimit, tolerance\u001b[38;5;241m=\u001b[39mtolerance\n\u001b[1;32m   3941\u001b[0m     )\n\u001b[0;32m-> 3943\u001b[0m \u001b[38;5;28;01mreturn\u001b[39;00m \u001b[38;5;28;43mself\u001b[39;49m\u001b[38;5;241;43m.\u001b[39;49m\u001b[43m_get_indexer\u001b[49m\u001b[43m(\u001b[49m\u001b[43mtarget\u001b[49m\u001b[43m,\u001b[49m\u001b[43m \u001b[49m\u001b[43mmethod\u001b[49m\u001b[43m,\u001b[49m\u001b[43m \u001b[49m\u001b[43mlimit\u001b[49m\u001b[43m,\u001b[49m\u001b[43m \u001b[49m\u001b[43mtolerance\u001b[49m\u001b[43m)\u001b[49m\n",
            "File \u001b[0;32m/usr/lib/python3/dist-packages/pandas/core/indexes/range.py:447\u001b[0m, in \u001b[0;36mRangeIndex._get_indexer\u001b[0;34m(self, target, method, limit, tolerance)\u001b[0m\n\u001b[1;32m    444\u001b[0m locs[\u001b[38;5;241m~\u001b[39mvalid] \u001b[38;5;241m=\u001b[39m \u001b[38;5;241m-\u001b[39m\u001b[38;5;241m1\u001b[39m\n\u001b[1;32m    445\u001b[0m locs[valid] \u001b[38;5;241m=\u001b[39m locs[valid] \u001b[38;5;241m/\u001b[39m step\n\u001b[0;32m--> 447\u001b[0m \u001b[38;5;28;01mif\u001b[39;00m step \u001b[38;5;241m!=\u001b[39m \u001b[38;5;28;43mself\u001b[39;49m\u001b[38;5;241;43m.\u001b[39;49m\u001b[43mstep\u001b[49m:\n\u001b[1;32m    448\u001b[0m     \u001b[38;5;66;03m# We reversed this range: transform to original locs\u001b[39;00m\n\u001b[1;32m    449\u001b[0m     locs[valid] \u001b[38;5;241m=\u001b[39m \u001b[38;5;28mlen\u001b[39m(\u001b[38;5;28mself\u001b[39m) \u001b[38;5;241m-\u001b[39m \u001b[38;5;241m1\u001b[39m \u001b[38;5;241m-\u001b[39m locs[valid]\n\u001b[1;32m    450\u001b[0m \u001b[38;5;28;01mreturn\u001b[39;00m ensure_platform_int(locs)\n",
            "File \u001b[0;32m/usr/lib/python3/dist-packages/pandas/core/indexes/range.py:316\u001b[0m, in \u001b[0;36mRangeIndex.step\u001b[0;34m(self)\u001b[0m\n\u001b[1;32m    301\u001b[0m \u001b[38;5;250m    \u001b[39m\u001b[38;5;124;03m\"\"\"\u001b[39;00m\n\u001b[1;32m    302\u001b[0m \u001b[38;5;124;03m    The value of the `stop` parameter.\u001b[39;00m\n\u001b[1;32m    303\u001b[0m \n\u001b[0;32m   (...)\u001b[0m\n\u001b[1;32m    312\u001b[0m \u001b[38;5;124;03m    -10\u001b[39;00m\n\u001b[1;32m    313\u001b[0m \u001b[38;5;124;03m    \"\"\"\u001b[39;00m\n\u001b[1;32m    314\u001b[0m     \u001b[38;5;28;01mreturn\u001b[39;00m \u001b[38;5;28mself\u001b[39m\u001b[38;5;241m.\u001b[39m_range\u001b[38;5;241m.\u001b[39mstop\n\u001b[0;32m--> 316\u001b[0m \u001b[38;5;129m@property\u001b[39m\n\u001b[1;32m    317\u001b[0m \u001b[38;5;28;01mdef\u001b[39;00m \u001b[38;5;21mstep\u001b[39m(\u001b[38;5;28mself\u001b[39m) \u001b[38;5;241m-\u001b[39m\u001b[38;5;241m>\u001b[39m \u001b[38;5;28mint\u001b[39m:\n\u001b[1;32m    318\u001b[0m \u001b[38;5;250m    \u001b[39m\u001b[38;5;124;03m\"\"\"\u001b[39;00m\n\u001b[1;32m    319\u001b[0m \u001b[38;5;124;03m    The value of the `step` parameter (``1`` if this was not supplied).\u001b[39;00m\n\u001b[1;32m    320\u001b[0m \n\u001b[0;32m   (...)\u001b[0m\n\u001b[1;32m    336\u001b[0m \u001b[38;5;124;03m    1\u001b[39;00m\n\u001b[1;32m    337\u001b[0m \u001b[38;5;124;03m    \"\"\"\u001b[39;00m\n\u001b[1;32m    338\u001b[0m     \u001b[38;5;66;03m# GH 25710\u001b[39;00m\n",
            "\u001b[0;31mKeyboardInterrupt\u001b[0m: "
          ]
        }
      ],
      "source": [
        "epchoes = 100\n",
        "i = 1\n",
        "# Prepare data\n",
        "x = np.array(X_train)\n",
        "Y = np.array(y_train)\n",
        "\n",
        "\n",
        "# model :\n",
        "logistic_model = make_pipeline(StandardScaler(), SGDClassifier(max_iter=1000, random_state=42))\n",
        "\n",
        "# Stratified K-Fold\n",
        "skf = StratifiedKFold(n_splits = epchoes, shuffle=True, random_state=42)\n",
        "\n",
        "for train_index, test_index in skf.split(x, Y):\n",
        "    print( ' Epcho Number : ', i)\n",
        "    i += 1\n",
        "    x_train, x_val = X.loc[train_index], X.loc[test_index]\n",
        "    Y_train, Y_val = y.loc[train_index], y.loc[test_index]\n",
        "\n",
        "    # Train model\n",
        "    logistic_model.fit(x_train, Y_train)\n",
        "\n",
        "    # Predict probabilities\n",
        "    predict = logistic_model.predict(x_val)\n",
        "\n",
        "    # Calculate precision, recall, F1 score, and support\n",
        "    precision, recall, f1_score, support = precision_recall_fscore_support(Y_val, predict)\n",
        "\n",
        "    # Print the evaluation metrics for the positive class (class 1)\n",
        "    print(\"Precision for class 1:\", precision[1])\n",
        "    print(\"Recall for class 1:\", recall[1])\n",
        "    print(\"F1 Score for class 1:\", f1_score[1])\n",
        "    print(\"Support for class 1:\", support[1])\n"
      ]
    },
    {
      "cell_type": "code",
      "execution_count": 15,
      "metadata": {
        "id": "DtbLV32w2oAg"
      },
      "outputs": [],
      "source": [
        "pred = logistic_model.predict(X_test)\n"
      ]
    },
    {
      "cell_type": "code",
      "execution_count": 18,
      "metadata": {
        "colab": {
          "base_uri": "https://localhost:8080/"
        },
        "id": "W_JQmMLd2woa",
        "outputId": "d5dfa032-397b-486e-8874-0d9368ecce77"
      },
      "outputs": [
        {
          "name": "stdout",
          "output_type": "stream",
          "text": [
            "Accuracy: 0.973830372070617\n",
            "Precision: 0.9090421866625833\n",
            "Recall: 0.5960341365461848\n",
            "ROC AUC Score: 0.7962331237735879\n",
            "Confusion Matrix:\n",
            " [[331782   1188]\n",
            " [  8047  11873]]\n"
          ]
        }
      ],
      "source": [
        "#\n",
        "accuracy = accuracy_score(y_test, pred)\n",
        "\n",
        "#\n",
        "precision = precision_score(y_test, pred)\n",
        "\n",
        "# (sensitivity)\n",
        "recall = recall_score(y_test, pred)\n",
        "\n",
        "#\n",
        "#f1 = f1_score(y_test, pred)\n",
        "\n",
        "#\n",
        "roc_auc = roc_auc_score(y_test, pred)\n",
        "\n",
        "#\n",
        "conf_matrix = confusion_matrix(y_test, pred)\n",
        "\n",
        "print(\"Accuracy:\", accuracy)\n",
        "print(\"Precision:\", precision)\n",
        "print(\"Recall:\", recall)\n",
        "#print(\"F1 Score:\", f1)\n",
        "print(\"ROC AUC Score:\", roc_auc)\n",
        "print(\"Confusion Matrix:\\n\", conf_matrix)"
      ]
    },
    {
      "cell_type": "code",
      "execution_count": 28,
      "metadata": {
        "colab": {
          "base_uri": "https://localhost:8080/",
          "height": 718
        },
        "id": "Jh08yUOhcDAu",
        "outputId": "b626c7d1-c1c7-4a95-ec2d-78d12443a67c"
      },
      "outputs": [
        {
          "data": {
            "image/png": "[encoded data removed]",
            "text/plain": [
              "<Figure size 800x800 with 1 Axes>"
            ]
          },
          "metadata": {},
          "output_type": "display_data"
        }
      ],
      "source": [
        "import matplotlib.pyplot as plt\n",
        "from sklearn.metrics import roc_curve, auc\n",
        "\n",
        "fpr, tpr, _ = roc_curve(y_test, test_probabilities)\n",
        "roc_auc = auc(fpr, tpr)\n",
        "\n",
        "plt.figure(figsize=(8, 8))\n",
        "plt.plot(fpr, tpr, color='darkorange', lw=2, label='ROC curve (area = %0.2f)' % roc_auc)\n",
        "plt.plot([0, 1], [0, 1], color='navy', lw=2, linestyle='--')\n",
        "plt.xlim([-0.01, 1.0])\n",
        "plt.ylim([0.0, 1.05])\n",
        "plt.xlabel('False Positive Rate')\n",
        "plt.ylabel('True Positive Rate')\n",
        "plt.title('Receiver Operating Characteristic ->LogisticRegression<- ')\n",
        "plt.legend(loc=\"lower right\")\n",
        "plt.show()\n"
      ]
    },
    {
      "cell_type": "markdown",
      "metadata": {
        "id": "8_lANBL1KRhe"
      },
      "source": [
        "خب این به قطع دارای ناهمسانی و ناهمگنی بسیار بیشتر از مدل قبلی است\n",
        "\n",
        " هرچند که میانگین آن بالای ۹۰ درصد موفقیت را نشان میدهد\n",
        "\n",
        "  اما تغییر زیاد در آن میتواند نشانه ی گیجی مدل در مواجهه با حالت های مختلف دیتا ی ما باشد"
      ]
    },
    {
      "cell_type": "code",
      "execution_count": 82,
      "metadata": {
        "id": "YxcO1smXcC0n"
      },
      "outputs": [],
      "source": [
        "\n",
        "# This is our job in the creating feature part of this scripts, Beacuse it takes too much time,\n",
        "# We rather to load it from its saved version !\n",
        "\n",
        "data1 = pd.read_csv('/content/mr.Sina/Archive/csv/G-Layer1-dataframe.csv', compression='zip')\n",
        "data2 = pd.read_csv('/content/mr.Sina/Archive/csv/G-Layer2-dataframe.csv', compression='zip')\n",
        "data3 = pd.read_csv('/content/mr.Sina/Archive/csv/G-interconnected-dataframe.csv', compression='zip')\n",
        "y1 = data1['Label']  # Labels\n",
        "X1 = data1.drop(['node1','node2','Label'], axis=1)  # Features\n",
        "y2 = data2['Label']  # Labels\n",
        "X2 = data2.drop(['node1','node2','Label'], axis=1)  # Features\n",
        "X3 = data3.drop(['node1','node2','Label'], axis=1)  # Features\n",
        "y3 = data3['Label']  # Labels"
      ]
    },
    {
      "cell_type": "code",
      "execution_count": 83,
      "metadata": {
        "id": "ZW2DVZxkU5MX"
      },
      "outputs": [],
      "source": [
        "# Aggregate the 3 layers we have !\n",
        "\n",
        "X = np.concatenate((X1, X2, X3))\n",
        "y = np.concatenate((y1, y2, y3))"
      ]
    },
    {
      "cell_type": "code",
      "execution_count": 84,
      "metadata": {
        "id": "aF4a2QUah8zC"
      },
      "outputs": [],
      "source": [
        "# Split into both training and testing batches\n",
        "\n",
        "X_train, X_test, y_train, y_test = train_test_split(X, y, test_size=0.2, random_state=16)"
      ]
    },
    {
      "cell_type": "code",
      "execution_count": null,
      "metadata": {
        "id": "sOKFhNiOZG1r"
      },
      "outputs": [],
      "source": []
    },
    {
      "cell_type": "code",
      "execution_count": null,
      "metadata": {
        "id": "5Mx7cjsajdlQ"
      },
      "outputs": [],
      "source": [
        "from sklearn.model_selection import GridSearchCV\n",
        "from sklearn.ensemble import RandomForestClassifier\n",
        "from sklearn.metrics import make_scorer, accuracy_score\n",
        "\n",
        "# Define the parameter grid\n",
        "param_grid = {\n",
        "    'n_estimators': [15, 20],  # Number of trees in the forest\n",
        "    'max_depth': [25, 50, 100],  # Maximum depth of the tree\n",
        "    'min_samples_split': [10, 30]   # Minimum number of samples required to split an internal node\n",
        "}\n",
        "\n",
        "# Initialize the classifier\n",
        "rf = RandomForestClassifier(random_state=64)\n",
        "\n",
        "# Create the grid search object\n",
        "scorer = make_scorer(accuracy_score)\n",
        "grid_search = GridSearchCV(estimator=rf, param_grid=param_grid, scoring=scorer, cv=100)\n",
        "\n",
        "# Fit grid search to the data\n",
        "x_train, x_val, Y_train, Y_val = train_test_split(X_train, y_train, test_size=0.2, random_state=32)\n",
        "grid_search.fit(x_train, Y_train)\n",
        "\n",
        "# Print the best parameters and best score\n",
        "print(\"Best parameters found: \", grid_search.best_params_)\n",
        "print(\"Best cross-validation accuracy: \", grid_search.best_score_)\n",
        "\n",
        "# Use the best parameters to make predictions\n",
        "best_clf = grid_search.best_estimator_\n",
        "predictions = best_clf.predict(x_val)\n",
        "print(\"Test Accuracy: \", accuracy_score(Y_val, predictions))\n"
      ]
    },
    {
      "cell_type": "code",
      "execution_count": null,
      "metadata": {
        "id": "1Ww1IEeGfpAy"
      },
      "outputs": [],
      "source": [
        "predictions = best_clf.predict(X_test)\n",
        "probabilities = best_clf.predict_proba(X_test)[:, 1].astype(int)"
      ]
    },
    {
      "cell_type": "code",
      "execution_count": null,
      "metadata": {
        "colab": {
          "base_uri": "https://localhost:8080/"
        },
        "id": "KOhAG1UjhFvj",
        "outputId": "f1ebb7bd-8187-405d-ce3e-2344d0a81a64"
      },
      "outputs": [
        {
          "name": "stdout",
          "output_type": "stream",
          "text": [
            "Accuracy: 0.9939102836577971\n",
            "Precision: 1.0\n",
            "Recall: 0.7838353413654618\n",
            "F1 Score: 0.8788202847976585\n",
            "ROC AUC Score: 0.891917670682731\n",
            "Confusion Matrix:\n",
            " [[332875     95]\n",
            " [  2054  17866]]\n"
          ]
        }
      ],
      "source": [
        "#\n",
        "accuracy = accuracy_score(y_test, predictions)\n",
        "\n",
        "#\n",
        "precision = precision_score(y_test,  probabilities)\n",
        "\n",
        "# sensitivity\n",
        "recall = recall_score(y_test,  probabilities)\n",
        "\n",
        "#\n",
        "f1 = f1_score(y_test,  probabilities)\n",
        "\n",
        "# beacuse this prediction contains probabilities!\n",
        "roc_auc = roc_auc_score(y_test, probabilities)\n",
        "\n",
        "#\n",
        "conf_matrix = confusion_matrix(y_test, predictions)\n",
        "\n",
        "print(\"Accuracy:\", accuracy)\n",
        "print(\"Precision:\", precision)\n",
        "print(\"Recall:\", recall)\n",
        "print(\"F1 Score:\", f1)\n",
        "print(\"ROC AUC Score:\", roc_auc)\n",
        "print(\"Confusion Matrix:\\n\", conf_matrix)"
      ]
    },
    {
      "cell_type": "code",
      "execution_count": null,
      "metadata": {
        "id": "2XJFx8RTjUq2"
      },
      "outputs": [],
      "source": [
        "#BEst One $#"
      ]
    },
    {
      "cell_type": "code",
      "execution_count": null,
      "metadata": {
        "id": "UmcoMf4DjWmB"
      },
      "outputs": [],
      "source": [
        "#BEst One $#"
      ]
    },
    {
      "cell_type": "code",
      "execution_count": null,
      "metadata": {
        "id": "1wyfywV-jXRe"
      },
      "outputs": [],
      "source": [
        "#BEst One $#"
      ]
    },
    {
      "cell_type": "code",
      "execution_count": null,
      "metadata": {
        "colab": {
          "base_uri": "https://localhost:8080/"
        },
        "id": "9TdYQAtPgFPb",
        "outputId": "b943380c-c828-460d-bd4b-52ad8b85c0b0"
      },
      "outputs": [
        {
          "data": {
            "text/plain": [
              "['random_forest_model.joblib']"
            ]
          },
          "execution_count": 77,
          "metadata": {},
          "output_type": "execute_result"
        }
      ],
      "source": [
        "# Save the best clf model to a file ( finded by grid-search )\n",
        "\n",
        "from joblib import dump\n",
        "\n",
        "dump(best_clf, 'random_forest_model.joblib')"
      ]
    },
    {
      "cell_type": "markdown",
      "metadata": {
        "id": "d9xuayWIIt_6"
      },
      "source": [
        "**Later, to load the model**\n",
        "\n",
        "from joblib import load\n",
        "\n",
        "loaded_model = load('random_forest_model.joblib')\n",
        "\n"
      ]
    },
    {
      "cell_type": "code",
      "execution_count": 11,
      "metadata": {
        "colab": {
          "base_uri": "https://localhost:8080/"
        },
        "id": "gUvJ8okug9j_",
        "outputId": "32586898-84e4-4fad-8341-2de33a4cf9d0"
      },
      "outputs": [
        {
          "data": {
            "text/plain": [
              "['clf_model.joblib']"
            ]
          },
          "execution_count": 11,
          "metadata": {},
          "output_type": "execute_result"
        }
      ],
      "source": [
        "# Save the clf model from before\n",
        "from joblib import dump\n",
        "dump(clf, 'clf_model.joblib')"
      ]
    },
    {
      "cell_type": "markdown",
      "metadata": {
        "id": "fOD-ddllJiPG"
      },
      "source": [
        "**Later, to load the model**\n",
        "\n",
        "from joblib import load\n",
        "\n",
        "loaded_model = load('clf_model.joblib')"
      ]
    },
    {
      "cell_type": "code",
      "execution_count": null,
      "metadata": {
        "colab": {
          "base_uri": "https://localhost:8080/"
        },
        "id": "X_IszXN4gOSR",
        "outputId": "11da5729-78f2-4442-9ff5-f105cd6342de"
      },
      "outputs": [
        {
          "data": {
            "text/plain": [
              "['logistic_model.joblib']"
            ]
          },
          "execution_count": 82,
          "metadata": {},
          "output_type": "execute_result"
        }
      ],
      "source": [
        "# Save the Logistic Regression model from before\n",
        "\n",
        "dump(logistic_model, 'logistic_model.joblib')"
      ]
    },
    {
      "cell_type": "markdown",
      "metadata": {
        "id": "rL_TUSG7JUHI"
      },
      "source": [
        "**Later, to load the model**\n",
        "\n",
        "from joblib import load\n",
        "\n",
        "loaded_model = load('logistic_model.joblib')"
      ]
    },
    {
      "cell_type": "code",
      "execution_count": 156,
      "metadata": {
        "id": "X6s2KnP3ZL8H"
      },
      "outputs": [],
      "source": [
        "from joblib import load\n",
        "\n",
        "loaded_model = load('/content/mr.Sina/Archive/random_forest_model.joblib')\n"
      ]
    },
    {
      "cell_type": "code",
      "execution_count": 157,
      "metadata": {
        "colab": {
          "base_uri": "https://localhost:8080/",
          "height": 92
        },
        "id": "RAfBGqTfZRNN",
        "outputId": "b0bd2c3f-cf2d-475f-f86c-410fea891f6a"
      },
      "outputs": [
        {
          "data": {
            "text/html": [
              "<style>#sk-container-id-2 {color: black;background-color: white;}#sk-container-id-2 pre{padding: 0;}#sk-container-id-2 div.sk-toggleable {background-color: white;}#sk-container-id-2 label.sk-toggleable__label {cursor: pointer;display: block;width: 100%;margin-bottom: 0;padding: 0.3em;box-sizing: border-box;text-align: center;}#sk-container-id-2 label.sk-toggleable__label-arrow:before {content: \"▸\";float: left;margin-right: 0.25em;color: #696969;}#sk-container-id-2 label.sk-toggleable__label-arrow:hover:before {color: black;}#sk-container-id-2 div.sk-estimator:hover label.sk-toggleable__label-arrow:before {color: black;}#sk-container-id-2 div.sk-toggleable__content {max-height: 0;max-width: 0;overflow: hidden;text-align: left;background-color: #f0f8ff;}#sk-container-id-2 div.sk-toggleable__content pre {margin: 0.2em;color: black;border-radius: 0.25em;background-color: #f0f8ff;}#sk-container-id-2 input.sk-toggleable__control:checked~div.sk-toggleable__content {max-height: 200px;max-width: 100%;overflow: auto;}#sk-container-id-2 input.sk-toggleable__control:checked~label.sk-toggleable__label-arrow:before {content: \"▾\";}#sk-container-id-2 div.sk-estimator input.sk-toggleable__control:checked~label.sk-toggleable__label {background-color: #d4ebff;}#sk-container-id-2 div.sk-label input.sk-toggleable__control:checked~label.sk-toggleable__label {background-color: #d4ebff;}#sk-container-id-2 input.sk-hidden--visually {border: 0;clip: rect(1px 1px 1px 1px);clip: rect(1px, 1px, 1px, 1px);height: 1px;margin: -1px;overflow: hidden;padding: 0;position: absolute;width: 1px;}#sk-container-id-2 div.sk-estimator {font-family: monospace;background-color: #f0f8ff;border: 1px dotted black;border-radius: 0.25em;box-sizing: border-box;margin-bottom: 0.5em;}#sk-container-id-2 div.sk-estimator:hover {background-color: #d4ebff;}#sk-container-id-2 div.sk-parallel-item::after {content: \"\";width: 100%;border-bottom: 1px solid gray;flex-grow: 1;}#sk-container-id-2 div.sk-label:hover label.sk-toggleable__label {background-color: #d4ebff;}#sk-container-id-2 div.sk-serial::before {content: \"\";position: absolute;border-left: 1px solid gray;box-sizing: border-box;top: 0;bottom: 0;left: 50%;z-index: 0;}#sk-container-id-2 div.sk-serial {display: flex;flex-direction: column;align-items: center;background-color: white;padding-right: 0.2em;padding-left: 0.2em;position: relative;}#sk-container-id-2 div.sk-item {position: relative;z-index: 1;}#sk-container-id-2 div.sk-parallel {display: flex;align-items: stretch;justify-content: center;background-color: white;position: relative;}#sk-container-id-2 div.sk-item::before, #sk-container-id-2 div.sk-parallel-item::before {content: \"\";position: absolute;border-left: 1px solid gray;box-sizing: border-box;top: 0;bottom: 0;left: 50%;z-index: -1;}#sk-container-id-2 div.sk-parallel-item {display: flex;flex-direction: column;z-index: 1;position: relative;background-color: white;}#sk-container-id-2 div.sk-parallel-item:first-child::after {align-self: flex-end;width: 50%;}#sk-container-id-2 div.sk-parallel-item:last-child::after {align-self: flex-start;width: 50%;}#sk-container-id-2 div.sk-parallel-item:only-child::after {width: 0;}#sk-container-id-2 div.sk-dashed-wrapped {border: 1px dashed gray;margin: 0 0.4em 0.5em 0.4em;box-sizing: border-box;padding-bottom: 0.4em;background-color: white;}#sk-container-id-2 div.sk-label label {font-family: monospace;font-weight: bold;display: inline-block;line-height: 1.2em;}#sk-container-id-2 div.sk-label-container {text-align: center;}#sk-container-id-2 div.sk-container {/* jupyter's `normalize.less` sets `[hidden] { display: none; }` but bootstrap.min.css set `[hidden] { display: none !important; }` so we also need the `!important` here to be able to override the default hidden behavior on the sphinx rendered scikit-learn.org. See: https://github.com/scikit-learn/scikit-learn/issues/21755 */display: inline-block !important;position: relative;}#sk-container-id-2 div.sk-text-repr-fallback {display: none;}</style><div id=\"sk-container-id-2\" class=\"sk-top-container\"><div class=\"sk-text-repr-fallback\"><pre>RandomForestClassifier(max_depth=100, min_samples_split=50, n_estimators=20,\n",
              "                       random_state=42)</pre><b>In a Jupyter environment, please rerun this cell to show the HTML representation or trust the notebook. <br />On GitHub, the HTML representation is unable to render, please try loading this page with nbviewer.org.</b></div><div class=\"sk-container\" hidden><div class=\"sk-item\"><div class=\"sk-estimator sk-toggleable\"><input class=\"sk-toggleable__control sk-hidden--visually\" id=\"sk-estimator-id-2\" type=\"checkbox\" checked><label for=\"sk-estimator-id-2\" class=\"sk-toggleable__label sk-toggleable__label-arrow\">RandomForestClassifier</label><div class=\"sk-toggleable__content\"><pre>RandomForestClassifier(max_depth=100, min_samples_split=50, n_estimators=20,\n",
              "                       random_state=42)</pre></div></div></div></div></div>"
            ],
            "text/plain": [
              "RandomForestClassifier(max_depth=100, min_samples_split=50, n_estimators=20,\n",
              "                       random_state=42)"
            ]
          },
          "execution_count": 157,
          "metadata": {},
          "output_type": "execute_result"
        }
      ],
      "source": [
        "loaded_model"
      ]
    }
  ],
  "metadata": {
    "colab": {
      "provenance": []
    },
    "kernelspec": {
      "display_name": "Python 3",
      "name": "python3"
    },
    "language_info": {
      "codemirror_mode": {
        "name": "ipython",
        "version": 3
      },
      "file_extension": ".py",
      "mimetype": "text/x-python",
      "name": "python",
      "nbconvert_exporter": "python",
      "pygments_lexer": "ipython3",
      "version": "3.11.8"
    }
  },
  "nbformat": 4,
  "nbformat_minor": 0
}
