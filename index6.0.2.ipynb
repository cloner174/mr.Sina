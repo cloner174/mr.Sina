{
  "cells": [
    {
      "cell_type": "code",
      "execution_count": 1,
      "metadata": {
        "colab": {
          "base_uri": "https://localhost:8080/"
        },
        "id": "smpF-KqtFDDF",
        "outputId": "82f05cad-a4e6-434c-cd18-87bc91de0bc6"
      },
      "outputs": [
        {
          "output_type": "stream",
          "name": "stdout",
          "text": [
            "Cloning into 'mr.Sina'...\n",
            "remote: Enumerating objects: 299, done.\u001b[K\n",
            "remote: Counting objects: 100% (40/40), done.\u001b[K\n",
            "remote: Compressing objects: 100% (34/34), done.\u001b[K\n",
            "remote: Total 299 (delta 10), reused 22 (delta 6), pack-reused 259\u001b[K\n",
            "Receiving objects: 100% (299/299), 148.01 MiB | 20.52 MiB/s, done.\n",
            "Resolving deltas: 100% (98/98), done.\n",
            "Updating files: 100% (133/133), done.\n"
          ]
        }
      ],
      "source": [
        "!git clone https://github.com/cloner174/mr.Sina.git"
      ]
    },
    {
      "cell_type": "code",
      "execution_count": 2,
      "metadata": {
        "colab": {
          "base_uri": "https://localhost:8080/"
        },
        "id": "_fbKpdt0FFgo",
        "outputId": "f68f95f6-ed6b-493a-e710-a7fec8109857"
      },
      "outputs": [
        {
          "output_type": "stream",
          "name": "stdout",
          "text": [
            "/content/mr.Sina\n"
          ]
        }
      ],
      "source": [
        "%cd mr.Sina"
      ]
    },
    {
      "cell_type": "code",
      "execution_count": 3,
      "metadata": {
        "id": "QKtN_PC6E-6_"
      },
      "outputs": [],
      "source": [
        "# Import Packages :\n",
        "\n",
        "import pandas as pd\n",
        "#from main import DataHandle\n"
      ]
    },
    {
      "cell_type": "code",
      "execution_count": 20,
      "metadata": {
        "id": "FGd_jQhhClkE"
      },
      "outputs": [],
      "source": [
        "import networkx as nx\n",
        "import matplotlib.pyplot as plt\n",
        "import seaborn as sns\n",
        "import numpy as np\n",
        "from sklearn.model_selection import train_test_split"
      ]
    },
    {
      "cell_type": "code",
      "execution_count": 21,
      "metadata": {
        "id": "mEhZiHfxClJ_"
      },
      "outputs": [],
      "source": [
        "# Centrality Measures :\n",
        "\n",
        "def calculate_centrality_measures(G):\n",
        "    degree_centrality = nx.degree_centrality(G)\n",
        "    betweenness_centrality = nx.betweenness_centrality(G)\n",
        "    closeness_centrality = nx.closeness_centrality(G)\n",
        "    return degree_centrality, betweenness_centrality, closeness_centrality"
      ]
    },
    {
      "cell_type": "code",
      "execution_count": 23,
      "metadata": {
        "id": "oTiRvN3cCd8-"
      },
      "outputs": [],
      "source": [
        "from sklearn.linear_model import LogisticRegression\n",
        "from sklearn.metrics import accuracy_score, precision_score, recall_score, f1_score, roc_auc_score, confusion_matrix"
      ]
    },
    {
      "cell_type": "code",
      "execution_count": 26,
      "metadata": {
        "id": "eOquIo31E-7T"
      },
      "outputs": [],
      "source": [
        "data1 = pd.read_csv('input/G-Layer1-dataframe.csv', compression='zip')\n",
        "data2 = pd.read_csv('input/G-Layer2-dataframe.csv', compression='zip')\n",
        "data3 = pd.read_csv('input/G-interconnected-dataframe.csv', compression='zip')\n",
        "data4 = pd.read_csv('input/G-combined-dataframe.csv', compression='zip')"
      ]
    },
    {
      "cell_type": "code",
      "execution_count": 28,
      "metadata": {
        "id": "wf6PjYJpGCQQ"
      },
      "outputs": [],
      "source": [
        "y1 = data1['Label']  # Labels\n",
        "X1 = data1.drop(['node1','node2','Label'], axis=1)  # Features\n",
        "\n",
        "y2 = data2['Label']  # Labels\n",
        "X2 = data2.drop(['node1','node2','Label'], axis=1)  # Features\n",
        "\n",
        "X3 = data3.drop(['node1','node2','Label'], axis=1)  # Features\n",
        "y3 = data3['Label']  # Labels\n",
        "\n",
        "y4 = data4['Label']  # Labels\n",
        "X4 = data4.drop(['node1','node2','Label'], axis=1)  # Features"
      ]
    },
    {
      "cell_type": "code",
      "source": [
        "type(y), y.shape"
      ],
      "metadata": {
        "colab": {
          "base_uri": "https://localhost:8080/"
        },
        "id": "1xqbA5leTCKu",
        "outputId": "1eb58efc-6660-4d6d-b68b-ed15a59a050b"
      },
      "execution_count": 39,
      "outputs": [
        {
          "output_type": "execute_result",
          "data": {
            "text/plain": [
              "(numpy.ndarray, (2961828,))"
            ]
          },
          "metadata": {},
          "execution_count": 39
        }
      ]
    },
    {
      "cell_type": "code",
      "source": [
        "print(\" All Links : \", y.shape[0] )\n",
        "print(\" All connected (1) Links : \", len(number_of_label_1_in_all))\n",
        "print(\" Percent of all against Connected :\", f\"{round( len(number_of_label_1_in_all) / len(X) * 100)}%\")"
      ],
      "metadata": {
        "colab": {
          "base_uri": "https://localhost:8080/"
        },
        "id": "RkAv69taTdX7",
        "outputId": "99e57c44-49fb-41e7-b396-95343ac4e8e3"
      },
      "execution_count": 70,
      "outputs": [
        {
          "output_type": "stream",
          "name": "stdout",
          "text": [
            " All Links :  2961828\n",
            " All connected (1) Links :  109881\n",
            " Percent of all against Connected : 4%\n"
          ]
        }
      ]
    },
    {
      "cell_type": "code",
      "execution_count": 33,
      "metadata": {
        "id": "iemeRb_n6b54"
      },
      "outputs": [],
      "source": [
        "X_train, X_test, y_train, y_test = train_test_split(X, y, test_size=0.2, random_state=16)"
      ]
    },
    {
      "cell_type": "code",
      "execution_count": 66,
      "metadata": {
        "colab": {
          "base_uri": "https://localhost:8080/"
        },
        "id": "3pKOF3kGlsem",
        "outputId": "70b2a17f-ac15-494d-b425-a6780efde47f"
      },
      "outputs": [
        {
          "output_type": "stream",
          "name": "stdout",
          "text": [
            "\n",
            " تجمیع هر چهار لایه برای تمرین مدل - اندازه ی ایکس ترین (2369462, 8)\n",
            "\n",
            " تجمیع هر چهار لایه برای تمرین مدل - اندازه ی ایکس تست (592366, 8)\n",
            "\n",
            " تجمیع هر چهار لایه برای تمرین مدل - اندازه ی وای ترین (2369462,)\n",
            "\n",
            " تجمیع هر چهار لایه برای تمرین مدل - اندازه ی وای تست  (592366,)\n"
          ]
        }
      ],
      "source": [
        "print( '\\n تجمیع هر چهار لایه برای تمرین مدل - اندازه ی ایکس ترین', X_train.shape)\n",
        "print( '\\n تجمیع هر چهار لایه برای تمرین مدل - اندازه ی ایکس تست', X_test.shape)\n",
        "\n",
        "print( '\\n تجمیع هر چهار لایه برای تمرین مدل - اندازه ی وای ترین', y_train.shape)\n",
        "print('\\n تجمیع هر چهار لایه برای تمرین مدل - اندازه ی وای تست ', y_test.shape)"
      ]
    },
    {
      "cell_type": "code",
      "source": [
        "number_of_label_1_in_train_fold = []\n",
        "for any_ in y_train:\n",
        "  if any_ == 1:\n",
        "    number_of_label_1_in_train_fold.append(1)\n",
        "\n",
        "print(\" Links in Train Data: \", X_train.shape[0] )\n",
        "print(\" Connected (1) Links in Train Data: \", len(number_of_label_1_in_train_fold))\n",
        "print(\" Percent of all Links in Train Data against Connected :\", f\"{round( len(number_of_label_1_in_train_fold) / len(X_train) * 100)}%\")"
      ],
      "metadata": {
        "colab": {
          "base_uri": "https://localhost:8080/"
        },
        "id": "XJrCxKhYUyLh",
        "outputId": "a933b38e-cc06-4d88-d6e5-05b4ec06bbc8"
      },
      "execution_count": 71,
      "outputs": [
        {
          "output_type": "stream",
          "name": "stdout",
          "text": [
            " Links in Train Data:  2369462\n",
            " Connected (1) Links in Train Data:  88064\n",
            " Percent of all Links in Train Data against Connected : 4%\n"
          ]
        }
      ]
    },
    {
      "cell_type": "code",
      "source": [
        "number_of_label_1_in_test_fold = []\n",
        "for any_ in y_test:\n",
        "  if any_ == 1:\n",
        "    number_of_label_1_in_test_fold.append(1)\n",
        "\n",
        "print(\" Links in Test Data: \", X_test.shape[0] )\n",
        "print(\" Connected (1) Links in Test Data: \", len(number_of_label_1_in_test_fold))\n",
        "print(\" Percent of all Links in Test Data against Connected :\", f\"{round( len(number_of_label_1_in_test_fold) / len(X_test) * 100)}%\")"
      ],
      "metadata": {
        "colab": {
          "base_uri": "https://localhost:8080/"
        },
        "id": "-PoBG53fVSjZ",
        "outputId": "b8c4a52a-4b7e-4021-f96e-d07ef7affe27"
      },
      "execution_count": 72,
      "outputs": [
        {
          "output_type": "stream",
          "name": "stdout",
          "text": [
            " Links in Test Data:  592366\n",
            " Connected (1) Links in Test Data:  21817\n",
            " Percent of all Links in Test Data against Connected : 4%\n"
          ]
        }
      ]
    },
    {
      "cell_type": "code",
      "execution_count": 35,
      "metadata": {
        "id": "BAb0YUdLRgFh"
      },
      "outputs": [],
      "source": [
        "import numpy as np\n",
        "from sklearn.model_selection import StratifiedKFold\n",
        "from sklearn.ensemble import RandomForestClassifier\n",
        "from sklearn.metrics import precision_recall_fscore_support, accuracy_score, confusion_matrix"
      ]
    },
    {
      "cell_type": "code",
      "source": [
        "# This is the simplified version of model to help run fast to see the Results of distribution of two y-classes along Different Folds"
      ],
      "metadata": {
        "id": "CY4_0rCedfS4"
      },
      "execution_count": null,
      "outputs": []
    },
    {
      "cell_type": "code",
      "source": [
        "# This is the simplified version of model to help run fast to see the Results of distribution of two y-classes along Different Folds"
      ],
      "metadata": {
        "id": "20hUJXSvd9Cv"
      },
      "execution_count": null,
      "outputs": []
    },
    {
      "cell_type": "code",
      "execution_count": 69,
      "metadata": {
        "colab": {
          "base_uri": "https://localhost:8080/"
        },
        "id": "FyplGdtg7nLP",
        "outputId": "b68b78aa-627a-4af5-9707-0c86150d33f3"
      },
      "outputs": [
        {
          "output_type": "stream",
          "name": "stdout",
          "text": [
            " Epcho Number :  1\n",
            " Links in This Train Fold - Epcho Number 1 :  2132515\n",
            " Connected (1) Links in This Train Fold - Epcho Number 1 :  97363\n",
            " Percent of all Links in This Train Fold against ONEs - Epcho Number 1 :  5%\n",
            " Links in This Test Fold - Epcho Number 1 :  236947\n",
            " Connected (1) Links in This Test Fold - Epcho Number 1 :  10826\n",
            " Percent of all Links in This Test Fold against ONEs - Epcho Number 1 :  5%\n",
            "Precision for class 1: 0.9880965381675221\n",
            "Recall for class 1: 0.8357657491224829\n",
            "F1 Score for class 1: 0.905569734274133\n",
            "Support for class 1: 10826\n",
            " Epcho Number :  2\n",
            " Links in This Train Fold - Epcho Number 2 :  2132515\n",
            " Connected (1) Links in This Train Fold - Epcho Number 2 :  97371\n",
            " Percent of all Links in This Train Fold against ONEs - Epcho Number 2 :  5%\n",
            " Links in This Test Fold - Epcho Number 2 :  236947\n",
            " Connected (1) Links in This Test Fold - Epcho Number 2 :  10818\n",
            " Percent of all Links in This Test Fold against ONEs - Epcho Number 2 :  5%\n",
            " Epcho Number :  3\n",
            " Links in This Train Fold - Epcho Number 3 :  2132516\n",
            " Connected (1) Links in This Train Fold - Epcho Number 3 :  97429\n",
            " Percent of all Links in This Train Fold against ONEs - Epcho Number 3 :  5%\n",
            " Links in This Test Fold - Epcho Number 3 :  236946\n",
            " Connected (1) Links in This Test Fold - Epcho Number 3 :  10760\n",
            " Percent of all Links in This Test Fold against ONEs - Epcho Number 3 :  5%\n",
            " Epcho Number :  4\n",
            " Links in This Train Fold - Epcho Number 4 :  2132516\n",
            " Connected (1) Links in This Train Fold - Epcho Number 4 :  97296\n",
            " Percent of all Links in This Train Fold against ONEs - Epcho Number 4 :  5%\n",
            " Links in This Test Fold - Epcho Number 4 :  236946\n",
            " Connected (1) Links in This Test Fold - Epcho Number 4 :  10893\n",
            " Percent of all Links in This Test Fold against ONEs - Epcho Number 4 :  5%\n",
            " Epcho Number :  5\n",
            " Links in This Train Fold - Epcho Number 5 :  2132516\n",
            " Connected (1) Links in This Train Fold - Epcho Number 5 :  97401\n",
            " Percent of all Links in This Train Fold against ONEs - Epcho Number 5 :  5%\n",
            " Links in This Test Fold - Epcho Number 5 :  236946\n",
            " Connected (1) Links in This Test Fold - Epcho Number 5 :  10788\n",
            " Percent of all Links in This Test Fold against ONEs - Epcho Number 5 :  5%\n",
            " Epcho Number :  6\n",
            " Links in This Train Fold - Epcho Number 6 :  2132516\n",
            " Connected (1) Links in This Train Fold - Epcho Number 6 :  97416\n",
            " Percent of all Links in This Train Fold against ONEs - Epcho Number 6 :  5%\n",
            " Links in This Test Fold - Epcho Number 6 :  236946\n",
            " Connected (1) Links in This Test Fold - Epcho Number 6 :  10773\n",
            " Percent of all Links in This Test Fold against ONEs - Epcho Number 6 :  5%\n",
            " Epcho Number :  7\n",
            " Links in This Train Fold - Epcho Number 7 :  2132516\n",
            " Connected (1) Links in This Train Fold - Epcho Number 7 :  97332\n",
            " Percent of all Links in This Train Fold against ONEs - Epcho Number 7 :  5%\n",
            " Links in This Test Fold - Epcho Number 7 :  236946\n",
            " Connected (1) Links in This Test Fold - Epcho Number 7 :  10857\n",
            " Percent of all Links in This Test Fold against ONEs - Epcho Number 7 :  5%\n",
            " Epcho Number :  8\n",
            " Links in This Train Fold - Epcho Number 8 :  2132516\n",
            " Connected (1) Links in This Train Fold - Epcho Number 8 :  97427\n",
            " Percent of all Links in This Train Fold against ONEs - Epcho Number 8 :  5%\n",
            " Links in This Test Fold - Epcho Number 8 :  236946\n",
            " Connected (1) Links in This Test Fold - Epcho Number 8 :  10762\n",
            " Percent of all Links in This Test Fold against ONEs - Epcho Number 8 :  5%\n",
            " Epcho Number :  9\n",
            " Links in This Train Fold - Epcho Number 9 :  2132516\n",
            " Connected (1) Links in This Train Fold - Epcho Number 9 :  97319\n",
            " Percent of all Links in This Train Fold against ONEs - Epcho Number 9 :  5%\n",
            " Links in This Test Fold - Epcho Number 9 :  236946\n",
            " Connected (1) Links in This Test Fold - Epcho Number 9 :  10870\n",
            " Percent of all Links in This Test Fold against ONEs - Epcho Number 9 :  5%\n",
            " Epcho Number :  10\n",
            " Links in This Train Fold - Epcho Number 10 :  2132516\n",
            " Connected (1) Links in This Train Fold - Epcho Number 10 :  97347\n",
            " Percent of all Links in This Train Fold against ONEs - Epcho Number 10 :  5%\n",
            " Links in This Test Fold - Epcho Number 10 :  236946\n",
            " Connected (1) Links in This Test Fold - Epcho Number 10 :  10842\n",
            " Percent of all Links in This Test Fold against ONEs - Epcho Number 10 :  5%\n"
          ]
        }
      ],
      "source": [
        "i = 1\n",
        "# Prepare data\n",
        "x = X_train\n",
        "Y = y_train\n",
        "# model :\n",
        "clf = RandomForestClassifier(n_estimators=5, random_state=64, verbose = 0, max_depth=100, min_samples_split= 50)\n",
        "# Stratified K-Fold\n",
        "skf = StratifiedKFold(n_splits=10, shuffle=True, random_state = 64)\n",
        "\n",
        "for train_index, test_index in skf.split(x, Y):\n",
        "    print( ' Epcho Number : ', i)\n",
        "\n",
        "    x_train, x_val = X[train_index], X[test_index]\n",
        "    Y_train, Y_val = y[train_index], y[test_index]\n",
        "\n",
        "    number_of_label_1_in_this_train_fold = []\n",
        "    for any_ in Y_train:\n",
        "      if any_ == 1:\n",
        "        number_of_label_1_in_this_train_fold.append(1)\n",
        "\n",
        "    print(f\" Links in This Train Fold - Epcho Number {i} : \" , x_train.shape[0] )\n",
        "    print(f\" Connected (1) Links in This Train Fold - Epcho Number {i} : \", len(number_of_label_1_in_this_train_fold))\n",
        "    print(f\" Percent of all Links in This Train Fold against ONEs - Epcho Number {i} : \", f\"{round( len(number_of_label_1_in_this_train_fold) / len(x_train) * 100)}%\")\n",
        "\n",
        "    number_of_label_1_in_this_test_fold = []\n",
        "    for any_ in Y_val:\n",
        "      if any_ == 1:\n",
        "        number_of_label_1_in_this_test_fold.append(1)\n",
        "\n",
        "    print(f\" Links in This Test Fold - Epcho Number {i} : \", x_val.shape[0] )\n",
        "    print(f\" Connected (1) Links in This Test Fold - Epcho Number {i} : \", len(number_of_label_1_in_this_test_fold))\n",
        "    print(f\" Percent of all Links in This Test Fold against ONEs - Epcho Number {i} : \", f\"{round( len(number_of_label_1_in_this_test_fold) / len(x_val) * 100)}%\")\n",
        "\n",
        "    i += 1\n",
        "    # Train model\n",
        "    clf.fit(x_train, Y_train)\n",
        "\n",
        "    # Predict probabilities\n",
        "    predict = clf.predict(x_val)\n",
        "\n",
        "    # Calculate precision, recall, F1 score, and support\n",
        "    precision, recall, f1_score, support = precision_recall_fscore_support(Y_val, predict)\n",
        "\n",
        "    if i == 2 or i == 10 :\n",
        "\n",
        "      # Print the evaluation metrics for the positive class (class 1)\n",
        "      print(\"Precision for class 1:\", precision[1])\n",
        "      print(\"Recall for class 1:\", recall[1])\n",
        "      print(\"F1 Score for class 1:\", f1_score[1])\n",
        "      print(\"Support for class 1:\", support[1])\n",
        "    else:\n",
        "      continue"
      ]
    }
  ],
  "metadata": {
    "colab": {
      "provenance": []
    },
    "kernelspec": {
      "display_name": "Python 3",
      "name": "python3"
    },
    "language_info": {
      "codemirror_mode": {
        "name": "ipython",
        "version": 3
      },
      "file_extension": ".py",
      "mimetype": "text/x-python",
      "name": "python",
      "nbconvert_exporter": "python",
      "pygments_lexer": "ipython3",
      "version": "3.11.8"
    }
  },
  "nbformat": 4,
  "nbformat_minor": 0
}