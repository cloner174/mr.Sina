{
  "nbformat": 4,
  "nbformat_minor": 0,
  "metadata": {
    "colab": {
      "provenance": []
    },
    "kernelspec": {
      "name": "python3",
      "display_name": "Python 3"
    },
    "language_info": {
      "name": "python"
    }
  },
  "cells": [
    {
      "cell_type": "code",
      "source": [
        "%pip install joblib"
      ],
      "metadata": {
        "colab": {
          "base_uri": "https://localhost:8080/"
        },
        "id": "uRONx3rEo7hp",
        "outputId": "ab873788-6a49-42c5-df9d-a745397a9a41"
      },
      "execution_count": 1,
      "outputs": [
        {
          "output_type": "stream",
          "name": "stdout",
          "text": [
            "Requirement already satisfied: joblib in /usr/local/lib/python3.10/dist-packages (1.4.0)\n"
          ]
        }
      ]
    },
    {
      "cell_type": "code",
      "source": [
        "!git clone --filter=blob:none --no-checkout https://github.com/cloner174/mr.Sina\n",
        "%cd mr.Sina\n",
        "!git sparse-checkout init --cone\n",
        "!git sparse-checkout add Archive/random_forest_model.joblib\n",
        "!git sparse-checkout add input/\n",
        "!git checkout"
      ],
      "metadata": {
        "colab": {
          "base_uri": "https://localhost:8080/"
        },
        "id": "U0xkDGZuuJhk",
        "outputId": "e8c6a247-6f06-4fa1-bc6f-59d408d81910"
      },
      "execution_count": 2,
      "outputs": [
        {
          "output_type": "stream",
          "name": "stdout",
          "text": [
            "Cloning into 'mr.Sina'...\n",
            "remote: Enumerating objects: 88, done.\u001b[K\n",
            "remote: Counting objects: 100% (88/88), done.\u001b[K\n",
            "remote: Compressing objects: 100% (73/73), done.\u001b[K\n",
            "remote: Total 88 (delta 38), reused 47 (delta 13), pack-reused 0\u001b[K\n",
            "Receiving objects: 100% (88/88), 19.05 KiB | 1.00 MiB/s, done.\n",
            "Resolving deltas: 100% (38/38), done.\n",
            "/content/mr.Sina\n",
            "remote: Enumerating objects: 18, done.\u001b[K\n",
            "remote: Counting objects: 100% (18/18), done.\u001b[K\n",
            "remote: Compressing objects: 100% (16/16), done.\u001b[K\n",
            "remote: Total 18 (delta 1), reused 9 (delta 0), pack-reused 0\u001b[K\n",
            "Receiving objects: 100% (18/18), 13.84 MiB | 10.87 MiB/s, done.\n",
            "Resolving deltas: 100% (1/1), done.\n",
            "Updating files: 100% (18/18), done.\n",
            "Your branch is up to date with 'origin/main'.\n"
          ]
        }
      ]
    },
    {
      "cell_type": "code",
      "source": [
        "import networkx as nx\n",
        "import pandas as pd\n",
        "import numpy as np\n",
        "import joblib"
      ],
      "metadata": {
        "id": "NpiKNqW5nvJZ"
      },
      "execution_count": 3,
      "outputs": []
    },
    {
      "cell_type": "code",
      "source": [
        "# Loading the best model :\n",
        "\n",
        "model_path = 'Archive/random_forest_model.joblib'\n",
        "model_name = 'random_forest'\n",
        "\n",
        "model = joblib.load(model_path)"
      ],
      "metadata": {
        "id": "Jh-Aha6IsZfD"
      },
      "execution_count": 4,
      "outputs": []
    },
    {
      "cell_type": "code",
      "source": [
        "print(model)"
      ],
      "metadata": {
        "colab": {
          "base_uri": "https://localhost:8080/"
        },
        "id": "YA6x4SLDyLg9",
        "outputId": "b0ffc64c-b91f-426b-c504-12caf25a9fa3"
      },
      "execution_count": 5,
      "outputs": [
        {
          "output_type": "stream",
          "name": "stdout",
          "text": [
            "RandomForestClassifier(max_depth=100, min_samples_split=50, n_estimators=20,\n",
            "                       random_state=42)\n"
          ]
        }
      ]
    },
    {
      "cell_type": "code",
      "source": [
        "publisher_nodes_path = '/content/mr.Sina/input/publishers.csv'\n",
        "advertiser_nodes_path = '/content/mr.Sina/input/advertisers.csv'\n",
        "data_links_path = '/content/mr.Sina/input/links.csv'"
      ],
      "metadata": {
        "id": "2l83F3CXmbd6"
      },
      "execution_count": 6,
      "outputs": []
    },
    {
      "cell_type": "code",
      "source": [
        "publisher_nodes = pd.read_csv(publisher_nodes_path)\n",
        "advertiser_nodes = pd.read_csv(advertiser_nodes_path)\n",
        "data_links = pd.read_csv(data_links_path)"
      ],
      "metadata": {
        "id": "MveRZQIY0GHt"
      },
      "execution_count": 17,
      "outputs": []
    },
    {
      "cell_type": "code",
      "source": [
        "publisher_nodes.shape, advertiser_nodes.shape, data_links.shape"
      ],
      "metadata": {
        "colab": {
          "base_uri": "https://localhost:8080/"
        },
        "id": "PdWWiRPr0SPG",
        "outputId": "4f92d315-5d88-4e09-b3cf-6f5ca83ace48"
      },
      "execution_count": 12,
      "outputs": [
        {
          "output_type": "execute_result",
          "data": {
            "text/plain": [
              "((9709, 19), (872, 16), (969395, 4))"
            ]
          },
          "metadata": {},
          "execution_count": 12
        }
      ]
    },
    {
      "cell_type": "code",
      "source": [
        "#randomly select nodes !\n",
        "\n",
        "#publisher_nodes = publisher_nodes.sample(frac=0.1, replace=True, random_state=16)\n",
        "advertiser_nodes = advertiser_nodes.sample(frac=0.1, replace=True, random_state=16)"
      ],
      "metadata": {
        "id": "Tc6eimio0hN7"
      },
      "execution_count": 18,
      "outputs": []
    },
    {
      "cell_type": "code",
      "source": [
        "publisher_nodes.shape, advertiser_nodes.shape, data_links.shape"
      ],
      "metadata": {
        "colab": {
          "base_uri": "https://localhost:8080/"
        },
        "id": "q_gLTyEi1Qwn",
        "outputId": "934d5a16-6e17-477b-9ebc-077d64d089a4"
      },
      "execution_count": 19,
      "outputs": [
        {
          "output_type": "execute_result",
          "data": {
            "text/plain": [
              "((9709, 19), (87, 16), (969395, 4))"
            ]
          },
          "metadata": {},
          "execution_count": 19
        }
      ]
    },
    {
      "cell_type": "code",
      "source": [
        "advertiser_nodes = set(advertiser_nodes['Advertiser.ID'])\n",
        "publisher_nodes = set(publisher_nodes['Media.App.Media...Media...Publisher.ID'])"
      ],
      "metadata": {
        "id": "mApB1Cab1kxA"
      },
      "execution_count": 20,
      "outputs": []
    },
    {
      "cell_type": "code",
      "source": [
        "min(advertiser_nodes), max(advertiser_nodes), min(publisher_nodes),max(publisher_nodes)"
      ],
      "metadata": {
        "colab": {
          "base_uri": "https://localhost:8080/"
        },
        "id": "XcHASKIKSFiW",
        "outputId": "6c1a10e8-6949-4414-d6ab-57501f44aa6f"
      },
      "execution_count": 109,
      "outputs": [
        {
          "output_type": "execute_result",
          "data": {
            "text/plain": [
              "(3349, 53083, 192, 90163)"
            ]
          },
          "metadata": {},
          "execution_count": 109
        }
      ]
    },
    {
      "cell_type": "code",
      "source": [],
      "metadata": {
        "id": "L5ZutqtrSHN1"
      },
      "execution_count": null,
      "outputs": []
    },
    {
      "cell_type": "code",
      "source": [
        "len(advertiser_nodes), len(publisher_nodes)"
      ],
      "metadata": {
        "colab": {
          "base_uri": "https://localhost:8080/"
        },
        "id": "9oLljnvy_mnf",
        "outputId": "975f6b1b-6d09-4b23-ee0b-7e9782bc06e2"
      },
      "execution_count": 21,
      "outputs": [
        {
          "output_type": "execute_result",
          "data": {
            "text/plain": [
              "(79, 131)"
            ]
          },
          "metadata": {},
          "execution_count": 21
        }
      ]
    },
    {
      "cell_type": "code",
      "source": [
        "#"
      ],
      "metadata": {
        "id": "z-LmwGLpSgXM"
      },
      "execution_count": null,
      "outputs": []
    },
    {
      "cell_type": "code",
      "source": [
        "advertiser_nodes_guide_map = {\"Advertisers\" : []}\n",
        "publisher_nodes_guide_map = {\"Publishers\" : [] }"
      ],
      "metadata": {
        "id": "0kEaB0QTTUAE"
      },
      "execution_count": 147,
      "outputs": []
    },
    {
      "cell_type": "code",
      "source": [
        "for node in advertiser_nodes:\n",
        "  advertiser_nodes_guide_map[\"Advertisers\"].append(node)\n",
        "\n",
        "for node in publisher_nodes:\n",
        "  publisher_nodes_guide_map[\"Publishers\"].append(node)"
      ],
      "metadata": {
        "id": "gzMywFEgSf5U"
      },
      "execution_count": 148,
      "outputs": []
    },
    {
      "cell_type": "code",
      "source": [
        "advertiser_nodes_guide_map = pd.DataFrame(advertiser_nodes_guide_map)\n",
        "publisher_nodes_guide_map = pd.DataFrame(publisher_nodes_guide_map )"
      ],
      "metadata": {
        "id": "BUauGl-eTh5p"
      },
      "execution_count": 149,
      "outputs": []
    },
    {
      "cell_type": "markdown",
      "source": [],
      "metadata": {
        "id": "6glw9_jFUJ1O"
      }
    },
    {
      "cell_type": "code",
      "source": [
        "advertiser_nodes_guide_map.to_csv(\"advertiser_nodes_guide_map.csv\", index = False)\n",
        "publisher_nodes_guide_map.to_csv(\"publisher_nodes_guide_map.csv\", index = False)"
      ],
      "metadata": {
        "id": "xeniF36nVMh8"
      },
      "execution_count": 152,
      "outputs": []
    },
    {
      "cell_type": "code",
      "source": [
        "#"
      ],
      "metadata": {
        "id": "FXq3wIoeSgoc"
      },
      "execution_count": null,
      "outputs": []
    },
    {
      "cell_type": "code",
      "source": [
        "condition = data_links['source'].isin(advertiser_nodes) | data_links['target'].isin(advertiser_nodes)\n",
        "\n",
        "filtered_df1 = data_links[condition]"
      ],
      "metadata": {
        "id": "Uzu4xoM0AWr0"
      },
      "execution_count": 22,
      "outputs": []
    },
    {
      "cell_type": "code",
      "source": [
        "\n",
        "condition = data_links['source'].isin(publisher_nodes) | data_links['target'].isin(advertiser_nodes)\n",
        "\n",
        "filtered_df2 = data_links[condition]"
      ],
      "metadata": {
        "id": "oK3LR5OfCCCa"
      },
      "execution_count": 23,
      "outputs": []
    },
    {
      "cell_type": "code",
      "source": [
        "filtered_df1.shape, filtered_df2.shape"
      ],
      "metadata": {
        "colab": {
          "base_uri": "https://localhost:8080/"
        },
        "id": "qSWZHks_BFP8",
        "outputId": "241f5110-03e5-4152-8a07-76032b481c2f"
      },
      "execution_count": 24,
      "outputs": [
        {
          "output_type": "execute_result",
          "data": {
            "text/plain": [
              "((1568, 4), (3034, 4))"
            ]
          },
          "metadata": {},
          "execution_count": 24
        }
      ]
    },
    {
      "cell_type": "code",
      "source": [
        "filtered_df1.reset_index(inplace=True)\n",
        "filtered_df2.reset_index(inplace=True)"
      ],
      "metadata": {
        "id": "MMKMmuB2C2AR"
      },
      "execution_count": 25,
      "outputs": []
    },
    {
      "cell_type": "code",
      "source": [
        "nodes = list(filtered_df1['source'].unique())\n",
        "nodes.extend(list(filtered_df1['target'].unique()))\n",
        "nodes.extend(list(filtered_df2['source'].unique()))\n",
        "nodes.extend(list(filtered_df2['target'].unique()))"
      ],
      "metadata": {
        "id": "22ezeR_lDnAH"
      },
      "execution_count": 26,
      "outputs": []
    },
    {
      "cell_type": "code",
      "source": [
        "len(nodes)"
      ],
      "metadata": {
        "colab": {
          "base_uri": "https://localhost:8080/"
        },
        "id": "2-qQ7BvzEBm7",
        "outputId": "044ca810-d419-4132-f0e2-87aa30c6209a"
      },
      "execution_count": 27,
      "outputs": [
        {
          "output_type": "execute_result",
          "data": {
            "text/plain": [
              "3218"
            ]
          },
          "metadata": {},
          "execution_count": 27
        }
      ]
    },
    {
      "cell_type": "code",
      "source": [
        "bunch_of_edges = []\n",
        "\n",
        "for i in range(filtered_df1.shape[0]) :\n",
        "  temp = ( filtered_df1.loc[i,'source'] , filtered_df1.loc[i,'target'] , filtered_df1.loc[i,'key'] )\n",
        "  bunch_of_edges.append(temp)\n",
        "\n",
        "\n",
        "for i in range(filtered_df2.shape[0]) :\n",
        "\n",
        "    temp = ( filtered_df2.loc[i,'source'] , filtered_df2.loc[i,'target'] , filtered_df2.loc[i,'key'] )\n",
        "    bunch_of_edges.append(temp)\n"
      ],
      "metadata": {
        "id": "HD-Eg6uE2jH8"
      },
      "execution_count": 28,
      "outputs": []
    },
    {
      "cell_type": "code",
      "source": [
        "len(bunch_of_edges), len(bunch_of_edges[0]), bunch_of_edges[0]"
      ],
      "metadata": {
        "colab": {
          "base_uri": "https://localhost:8080/"
        },
        "id": "dyPQVrFD9d1c",
        "outputId": "a48df383-3d5a-4055-a726-040e241ea46c"
      },
      "execution_count": 29,
      "outputs": [
        {
          "output_type": "execute_result",
          "data": {
            "text/plain": [
              "(4602, 3, (253, 8657, 0))"
            ]
          },
          "metadata": {},
          "execution_count": 29
        }
      ]
    },
    {
      "cell_type": "code",
      "source": [
        "G = nx.Graph()"
      ],
      "metadata": {
        "id": "O4DLudA3n4Be"
      },
      "execution_count": 30,
      "outputs": []
    },
    {
      "cell_type": "code",
      "source": [
        "G.add_nodes_from(nodes)"
      ],
      "metadata": {
        "id": "bVUuExDCn5C0"
      },
      "execution_count": 31,
      "outputs": []
    },
    {
      "cell_type": "code",
      "source": [
        "G.add_weighted_edges_from(bunch_of_edges)"
      ],
      "metadata": {
        "id": "uzPMZJ_aEG2N"
      },
      "execution_count": 32,
      "outputs": []
    },
    {
      "cell_type": "markdown",
      "source": [
        "××"
      ],
      "metadata": {
        "id": "-vvWORc9NcBf"
      }
    },
    {
      "cell_type": "markdown",
      "source": [
        "len(G.nodes)  =  1843"
      ],
      "metadata": {
        "id": "8eZcVwUgNTq3"
      }
    },
    {
      "cell_type": "code",
      "source": [
        "nx.draw(G, pos=nx.spiral_layout(G))"
      ],
      "metadata": {
        "colab": {
          "base_uri": "https://localhost:8080/",
          "height": 516
        },
        "id": "sjGKdnWTEMK1",
        "outputId": "1574a134-d4ad-461b-9227-d3ea8b1e90d4"
      },
      "execution_count": 48,
      "outputs": [
        {
          "output_type": "display_data",
          "data": {
            "text/plain": [
              "<Figure size 640x480 with 1 Axes>"
            ],
            "image/png": "[encoded data removed]"
          },
          "metadata": {}
        }
      ]
    },
    {
      "cell_type": "markdown",
      "source": [
        "**Options for layout :**\n",
        "\n",
        "['arf_layout',\n",
        "'bfs_layout',\n",
        " 'bipartite_layout',\n",
        " 'circular_layout',\n",
        " 'fruchterman_reingold_layout',\n",
        " 'kamada_kawai_layout',\n",
        " 'multipartite_layout',\n",
        " 'np_random_state',\n",
        " 'nx',\n",
        " 'planar_layout',\n",
        " 'random_layout',\n",
        " 'rescale_layout',\n",
        " 'rescale_layout_dict',\n",
        " 'shell_layout',\n",
        " 'spectral_layout',\n",
        " 'spiral_layout',\n",
        " 'spring_layout']"
      ],
      "metadata": {
        "id": "-TV-jaLFOSwJ"
      }
    },
    {
      "cell_type": "code",
      "source": [
        "# Centrality Measures :\n",
        "\n",
        "def calculate_centrality_measures(G):\n",
        "    degree_centrality = nx.degree_centrality(G)\n",
        "    betweenness_centrality = nx.betweenness_centrality(G)\n",
        "    closeness_centrality = nx.closeness_centrality(G)\n",
        "    return degree_centrality, betweenness_centrality, closeness_centrality"
      ],
      "metadata": {
        "id": "AkleyF833crU"
      },
      "execution_count": 49,
      "outputs": []
    },
    {
      "cell_type": "code",
      "source": [
        "\n",
        "from itertools import combinations\n",
        "\n",
        "# Graph\n",
        "degree_centrality, betweenness_centrality, closeness_centrality = calculate_centrality_measures(G)\n",
        "features = []\n",
        "labels = []\n",
        "# Calculating features for each pair of nodes:\n",
        "for node1, node2 in combinations(G.nodes(), 2):\n",
        "\n",
        "    # Centrality measures for node1 and node2\n",
        "    degree_centrality_1 = degree_centrality[node1]\n",
        "    degree_centrality_2 = degree_centrality[node2]\n",
        "    betweenness_centrality_1 = betweenness_centrality[node1]\n",
        "    betweenness_centrality_2 = betweenness_centrality[node2]\n",
        "    closeness_centrality_1 = closeness_centrality[node1]\n",
        "    closeness_centrality_2 = closeness_centrality[node2]\n",
        "\n",
        "    # Directly compute and append features\n",
        "    features.append((\n",
        "        node1,\n",
        "        node2,\n",
        "        len(list(nx.common_neighbors(G, node1, node2))),  # Common Neighbors\n",
        "        next(nx.preferential_attachment(G, [(node1, node2)]))[2],  # Preferential Attachment\n",
        "        next(nx.resource_allocation_index(G, [(node1, node2)]))[2],  # Resource Allocation\n",
        "        next(nx.adamic_adar_index(G, [(node1, node2)]))[2],  # Adamic Adar\n",
        "        next(nx.jaccard_coefficient(G, [(node1, node2)]))[2] , # Jaccard Coefficient\n",
        "        (degree_centrality_1 + degree_centrality_2) / 2,\n",
        "        (betweenness_centrality_1 + betweenness_centrality_2) / 2,\n",
        "        (closeness_centrality_1 + closeness_centrality_2) / 2\n",
        "    ))\n",
        "    # Existence of links between nodes (1 or 0)\n",
        "    labels.append(1 if G.has_edge(node1, node2) else 0)\n",
        "\n",
        "# Creating a DataFrame from the features and labels\n",
        "features_df = pd.DataFrame(features,\n",
        "                           columns=['node1','node2','Common Neighbors',\n",
        "                                    'Preferential Attachment', 'Resource Allocation',\n",
        "                                    'Adamic Adar', 'Jaccard Coefficient', 'Average Degree Centrality',\n",
        "                                    'Average Betweenness Centrality', 'Average Closeness Centrality'])\n",
        "features_df['laybel'] = labels\n",
        "#We record the laybels to further use it to filter features_df with none edges nodes!\n"
      ],
      "metadata": {
        "id": "oNUaKDcW3J5w"
      },
      "execution_count": 50,
      "outputs": []
    },
    {
      "cell_type": "code",
      "source": [
        "features_df.to_csv(\"from index4.0.ipynb.csv\", index=False)"
      ],
      "metadata": {
        "id": "nlcAn6WhHKdT"
      },
      "execution_count": 51,
      "outputs": []
    },
    {
      "cell_type": "code",
      "source": [
        "#features_df = pd.read_csv(\"from index4.0.ipynb.csv\")"
      ],
      "metadata": {
        "id": "PGzbrQpnQJRr"
      },
      "execution_count": 96,
      "outputs": []
    },
    {
      "cell_type": "code",
      "source": [
        "features_df.shape"
      ],
      "metadata": {
        "colab": {
          "base_uri": "https://localhost:8080/"
        },
        "id": "N32CfuBu3fwd",
        "outputId": "dced6788-efea-43e6-f4ba-c18a16603386"
      },
      "execution_count": 90,
      "outputs": [
        {
          "output_type": "execute_result",
          "data": {
            "text/plain": [
              "(1697403, 11)"
            ]
          },
          "metadata": {},
          "execution_count": 90
        }
      ]
    },
    {
      "cell_type": "code",
      "source": [
        "condition = features_df['laybel'] == 0\n",
        "features_df_filter = features_df[condition]"
      ],
      "metadata": {
        "id": "nxsBLC-yHVqs"
      },
      "execution_count": 99,
      "outputs": []
    },
    {
      "cell_type": "code",
      "source": [
        "features_df_filter.shape"
      ],
      "metadata": {
        "colab": {
          "base_uri": "https://localhost:8080/"
        },
        "id": "LoFAQJ4zIz8W",
        "outputId": "0f789f12-7303-48ae-97c6-48d9cfe7430a"
      },
      "execution_count": 100,
      "outputs": [
        {
          "output_type": "execute_result",
          "data": {
            "text/plain": [
              "(1692873, 11)"
            ]
          },
          "metadata": {},
          "execution_count": 100
        }
      ]
    },
    {
      "cell_type": "code",
      "source": [
        "features_df_filter = features_df_filter.iloc[80000:80000+80000,:]\n",
        "features_df_filter"
      ],
      "metadata": {
        "id": "XF36hlIcHigL"
      },
      "execution_count": 101,
      "outputs": []
    },
    {
      "cell_type": "code",
      "source": [
        "#Also save  alighter version\n",
        "features_df_filter.to_csv(\"from index4.0.ipynb_light.csv\", index=False)"
      ],
      "metadata": {
        "id": "4ZNRVk6YRWQA"
      },
      "execution_count": 107,
      "outputs": []
    },
    {
      "cell_type": "code",
      "source": [
        "X = features_df_filter.drop(['node1', 'node2', 'laybel' ], axis = 1)"
      ],
      "metadata": {
        "id": "rDAMPJ4a3n6F"
      },
      "execution_count": 103,
      "outputs": []
    },
    {
      "cell_type": "code",
      "source": [
        "predicts_straight = model.predict(X)"
      ],
      "metadata": {
        "id": "RaXEkAYR3h4-"
      },
      "execution_count": 104,
      "outputs": []
    },
    {
      "cell_type": "code",
      "source": [
        "predicts = model.predict_proba(X)[:, 1]"
      ],
      "metadata": {
        "id": "bs3UgOlsJ6T9"
      },
      "execution_count": 105,
      "outputs": []
    },
    {
      "cell_type": "code",
      "source": [
        "#:  بیشترین احتمال کانکتی را در نظر میگیریم"
      ],
      "metadata": {
        "id": "0q8mYa9PLasa"
      },
      "execution_count": null,
      "outputs": []
    },
    {
      "cell_type": "code",
      "source": [
        "max(predicts)"
      ],
      "metadata": {
        "colab": {
          "base_uri": "https://localhost:8080/"
        },
        "id": "zD3kueg9L4y0",
        "outputId": "f160c972-2007-40dc-f200-4340369085c9"
      },
      "execution_count": 106,
      "outputs": [
        {
          "output_type": "execute_result",
          "data": {
            "text/plain": [
              "0.8902114945112585"
            ]
          },
          "metadata": {},
          "execution_count": 106
        }
      ]
    },
    {
      "cell_type": "code",
      "source": [
        "features_df_filter.drop('laybel',axis = 1, inplace=True)"
      ],
      "metadata": {
        "colab": {
          "base_uri": "https://localhost:8080/"
        },
        "id": "bQbQw4mtPmx1",
        "outputId": "981eaa03-e684-4366-8ece-e155498145fb"
      },
      "execution_count": 60,
      "outputs": [
        {
          "output_type": "stream",
          "name": "stderr",
          "text": [
            "<ipython-input-60-3a2dd73a274b>:1: SettingWithCopyWarning: \n",
            "A value is trying to be set on a copy of a slice from a DataFrame\n",
            "\n",
            "See the caveats in the documentation: https://pandas.pydata.org/pandas-docs/stable/user_guide/indexing.html#returning-a-view-versus-a-copy\n",
            "  features_df_filter.drop('laybel',axis = 1, inplace=True)\n"
          ]
        }
      ]
    },
    {
      "cell_type": "code",
      "source": [
        "features_df_filter['predicted_laybel'] = predicts"
      ],
      "metadata": {
        "colab": {
          "base_uri": "https://localhost:8080/"
        },
        "id": "JuSNH7Dz36NM",
        "outputId": "b0f661a6-97c6-463b-e414-36a169841336"
      },
      "execution_count": 61,
      "outputs": [
        {
          "output_type": "stream",
          "name": "stderr",
          "text": [
            "<ipython-input-61-b57f830f9081>:1: SettingWithCopyWarning: \n",
            "A value is trying to be set on a copy of a slice from a DataFrame.\n",
            "Try using .loc[row_indexer,col_indexer] = value instead\n",
            "\n",
            "See the caveats in the documentation: https://pandas.pydata.org/pandas-docs/stable/user_guide/indexing.html#returning-a-view-versus-a-copy\n",
            "  features_df_filter['predicted_laybel'] = predicts\n"
          ]
        }
      ]
    },
    {
      "cell_type": "code",
      "source": [
        "\n",
        "# Create a boolean mask based on the condition\n",
        "condition = features_df_filter['predicted_laybel'] > 0.79\n",
        "\n",
        "# Specify the columns you want to keep\n",
        "columns_to_keep = ['node1', 'node2', 'predicted_laybel']\n",
        "\n",
        "# Apply the boolean mask and select only the specified columns to filter the DataFrame\n",
        "final_predicted = features_df_filter.loc[condition, columns_to_keep]\n",
        "\n",
        "# Display the filtered DataFrame\n",
        "print(final_predicted)\n"
      ],
      "metadata": {
        "colab": {
          "base_uri": "https://localhost:8080/"
        },
        "id": "6PMhhC9tKQs7",
        "outputId": "b1847341-dbd3-4f63-e35e-dd14a465c68e"
      },
      "execution_count": 63,
      "outputs": [
        {
          "output_type": "stream",
          "name": "stdout",
          "text": [
            "         node1  node2  predicted_laybel\n",
            "7051       497   1867          0.792486\n",
            "8889       515   1867          0.792486\n",
            "29041      768   1867          0.792486\n",
            "58137     1264   1867          0.792486\n",
            "124441    2651   1867          0.792486\n",
            "...        ...    ...               ...\n",
            "1649297   1867   4299          0.792486\n",
            "1649305   1867   4573          0.792486\n",
            "1649309   1867   4631          0.792486\n",
            "1649310   1867   4705          0.792486\n",
            "1649311   1867   4784          0.792486\n",
            "\n",
            "[1253 rows x 3 columns]\n"
          ]
        }
      ]
    },
    {
      "cell_type": "code",
      "source": [
        "final_predicted.to_csv('final_predicted.csv', index=False)"
      ],
      "metadata": {
        "id": "7R7sL7IDKgDi"
      },
      "execution_count": 64,
      "outputs": []
    },
    {
      "cell_type": "code",
      "source": [],
      "metadata": {
        "id": "DyS6BSrzRxk4"
      },
      "execution_count": null,
      "outputs": []
    }
  ]
}