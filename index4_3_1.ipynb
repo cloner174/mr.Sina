{
  "nbformat": 4,
  "nbformat_minor": 0,
  "metadata": {
    "colab": {
      "provenance": []
    },
    "kernelspec": {
      "name": "python3",
      "display_name": "Python 3"
    },
    "language_info": {
      "name": "python"
    }
  },
  "cells": [
    {
      "cell_type": "code",
      "source": [
        "%pip install joblib"
      ],
      "metadata": {
        "colab": {
          "base_uri": "https://localhost:8080/"
        },
        "id": "uRONx3rEo7hp",
        "outputId": "6cd11d7f-3dd6-41de-f895-58f4d7baaaa3"
      },
      "execution_count": 1,
      "outputs": [
        {
          "output_type": "stream",
          "name": "stdout",
          "text": [
            "Requirement already satisfied: joblib in /usr/local/lib/python3.10/dist-packages (1.4.0)\n"
          ]
        }
      ]
    },
    {
      "cell_type": "code",
      "source": [
        "!git clone https://github.com/cloner174/mr.Sina\n"
      ],
      "metadata": {
        "colab": {
          "base_uri": "https://localhost:8080/"
        },
        "id": "U0xkDGZuuJhk",
        "outputId": "2f330c8d-4c45-4f00-bb7d-fc41f70cdcb1"
      },
      "execution_count": 2,
      "outputs": [
        {
          "output_type": "stream",
          "name": "stdout",
          "text": [
            "Cloning into 'mr.Sina'...\n",
            "remote: Enumerating objects: 266, done.\u001b[K\n",
            "remote: Counting objects: 100% (7/7), done.\u001b[K\n",
            "remote: Compressing objects: 100% (6/6), done.\u001b[K\n",
            "remote: Total 266 (delta 1), reused 5 (delta 1), pack-reused 259\u001b[K\n",
            "Receiving objects: 100% (266/266), 118.95 MiB | 17.56 MiB/s, done.\n",
            "Resolving deltas: 100% (89/89), done.\n",
            "Updating files: 100% (120/120), done.\n"
          ]
        }
      ]
    },
    {
      "cell_type": "code",
      "source": [
        "%cd mr.Sina"
      ],
      "metadata": {
        "colab": {
          "base_uri": "https://localhost:8080/"
        },
        "id": "pP-P46nolYeI",
        "outputId": "75f93d5d-8021-485b-d717-18b0575760f5"
      },
      "execution_count": 3,
      "outputs": [
        {
          "output_type": "stream",
          "name": "stdout",
          "text": [
            "/content/mr.Sina\n"
          ]
        }
      ]
    },
    {
      "cell_type": "code",
      "source": [
        "import networkx as nx\n",
        "import pandas as pd\n",
        "import numpy as np\n",
        "import joblib\n",
        "import os"
      ],
      "metadata": {
        "id": "NpiKNqW5nvJZ"
      },
      "execution_count": 4,
      "outputs": []
    },
    {
      "cell_type": "code",
      "source": [
        "# main path to models folder :\n",
        "\n",
        "model_path = 'models/'"
      ],
      "metadata": {
        "id": "f-XXBRibb53b"
      },
      "execution_count": 5,
      "outputs": []
    },
    {
      "cell_type": "code",
      "source": [
        "# Loading the best model : # NOT RECOMMENDED #\n",
        "\n",
        "# This model not trained on just inbetweeen links #\n",
        "\n",
        "model_name = 'clf_model.joblib'\n",
        "model_to_be_load = os.path.join(model_path,model_name)\n",
        "model = joblib.load(model_to_be_load)"
      ],
      "metadata": {
        "id": "Jh-Aha6IsZfD"
      },
      "execution_count": 6,
      "outputs": []
    },
    {
      "cell_type": "code",
      "source": [
        "# Loading the best model with trained on more states of events:\n",
        "\n",
        "# Recommended :\n",
        "\n",
        "model_name = 'clf_model2.joblib'\n",
        "\n",
        "model_to_be_load = os.path.join(model_path,model_name)\n",
        "model = joblib.load(model_to_be_load)"
      ],
      "metadata": {
        "id": "e04cdBB3bVrP"
      },
      "execution_count": 6,
      "outputs": []
    },
    {
      "cell_type": "code",
      "source": [
        "print(model)"
      ],
      "metadata": {
        "colab": {
          "base_uri": "https://localhost:8080/"
        },
        "id": "YA6x4SLDyLg9",
        "outputId": "ae4adec6-f4ba-4ca0-fc15-161883731806"
      },
      "execution_count": 7,
      "outputs": [
        {
          "output_type": "stream",
          "name": "stdout",
          "text": [
            "RandomForestClassifier(max_depth=100, min_samples_split=50, random_state=64,\n",
            "                       verbose=2)\n"
          ]
        }
      ]
    },
    {
      "cell_type": "code",
      "source": [
        "#publisher_nodes_path = 'input/publishers.csv'\n",
        "#advertiser_nodes_path = 'input/advertisers.csv'\n",
        "data_links_path = 'input/links.csv'\n",
        "data_nodes_path = 'input/nodes.csv'"
      ],
      "metadata": {
        "id": "2l83F3CXmbd6"
      },
      "execution_count": 10,
      "outputs": []
    },
    {
      "cell_type": "code",
      "source": [
        "#publisher_nodes = pd.read_csv(publisher_nodes_path)\n",
        "#advertiser_nodes = pd.read_csv(advertiser_nodes_path)\n",
        "data_links = pd.read_csv(data_links_path)\n",
        "data_nodes = pd.read_csv(data_nodes_path)"
      ],
      "metadata": {
        "id": "MveRZQIY0GHt"
      },
      "execution_count": 37,
      "outputs": []
    },
    {
      "cell_type": "code",
      "source": [
        "# Loading data Approach 1\n",
        "data = pd.read_csv( 'input/link_dataFinal.csv' , index_col=0)\n",
        "print(data.shape, data_nodes.shape)\n",
        "#((969395, 3), (8977, 5))\n",
        "data = data.sample(frac=0.01)\n",
        "nodes_list = []\n",
        "sors = []\n",
        "advs = []\n",
        "pubs = []\n",
        "for i in data['source'] :\n",
        "  if i in data_nodes['id'].tolist():\n",
        "    if i not in nodes_list:\n",
        "      sors.append(i)\n",
        "      nodes_list.append(i)\n",
        "      index = data_nodes.index[data_nodes['id'] == i].tolist()[0]\n",
        "      if list(data_nodes.iloc[[index]]['color'] == 'red')[0]:\n",
        "        advs.append(i)\n",
        "      else:\n",
        "        pubs.append(i)\n",
        "tar = []\n",
        "for i in data['target'] :\n",
        "  if i in data_nodes['id'].tolist():\n",
        "    if i not in nodes_list:\n",
        "      tar.append(i)\n",
        "      nodes_list.append(i)\n",
        "      index = data_nodes.index[data_nodes['id'] == i].tolist()[0]\n",
        "      if list(data_nodes.iloc[[index]]['color'] == 'red')[0]:\n",
        "        advs.append(i)\n",
        "      else:\n",
        "        pubs.append(i)\n",
        "\n",
        "advs_ = list(set(advs))\n",
        "pubs_ = list(set(pubs))\n",
        "\n",
        "len(nodes_list), len(advs_), len(pubs_) #(4299, 1946)# ,تعداد کل نود ها 6245"
      ],
      "metadata": {
        "colab": {
          "base_uri": "https://localhost:8080/"
        },
        "id": "9UJCm2lEElNI",
        "outputId": "12f109ce-84dd-4195-ff6e-284ac8bced23"
      },
      "execution_count": 39,
      "outputs": [
        {
          "output_type": "stream",
          "name": "stdout",
          "text": [
            "(199981, 4) (8977, 5)\n"
          ]
        },
        {
          "output_type": "execute_result",
          "data": {
            "text/plain": [
              "(1531, 627, 904)"
            ]
          },
          "metadata": {},
          "execution_count": 39
        }
      ]
    },
    {
      "cell_type": "code",
      "source": [
        "len(advs_), len(pubs_) #(4299, 1946)"
      ],
      "metadata": {
        "colab": {
          "base_uri": "https://localhost:8080/"
        },
        "id": "J56VtNoVFKt1",
        "outputId": "43d91707-889f-44b3-b88d-41498526d310"
      },
      "execution_count": 40,
      "outputs": [
        {
          "output_type": "execute_result",
          "data": {
            "text/plain": [
              "(627, 904)"
            ]
          },
          "metadata": {},
          "execution_count": 40
        }
      ]
    },
    {
      "cell_type": "code",
      "source": [
        "\"\"\"\n",
        "import itertools\n",
        "import random\n",
        "\n",
        "#\n",
        "data_links = data_links.sample(frac=1, random_state = 64)\n",
        "\n",
        "#\n",
        "links_set = set(zip(data_links['source'], data_links['target']))\n",
        "\n",
        "#\n",
        "random.shuffle(nodes_list)\n",
        "random.shuffle(nodes_list)\n",
        "node_pairs = itertools.combinations(nodes_list, 2)\n",
        "\n",
        "unlinked_pairs = []\n",
        "for pair in node_pairs:\n",
        "    if pair not in links_set and (pair[1], pair[0]) not in links_set:\n",
        "        unlinked_pairs.append(pair)\n",
        "    if len(unlinked_pairs) == 20000 :\n",
        "      break\n",
        "    else:\n",
        "      continue\n",
        "\n",
        "print(\"Pairs of nodes with no links:\")\n",
        "print(unlinked_pairs)\n",
        "\"\"\""
      ],
      "metadata": {
        "colab": {
          "base_uri": "https://localhost:8080/"
        },
        "id": "diqsNc8frnxp",
        "outputId": "eabe26a4-ca75-46ab-cd6f-6f6746bc6093"
      },
      "execution_count": 17,
      "outputs": [
        {
          "output_type": "stream",
          "name": "stdout",
          "text": [
            "Pairs of nodes with no links:\n",
            "[(7593, 2572), (7593, 2225), (7593, 3141), (7568, 7276), (7568, 6326)]\n"
          ] 
        }
      ]
    },
    {
      "cell_type": "code",
      "source": [
        "data_links = data_links.sample(frac=1, random_state=32)\n",
        "\n",
        "links_ = []\n",
        "for i in range(data_links.shape[0]) :\n",
        "    sor_ = data_links.loc[i, 'source']\n",
        "    tar_ = data_links.loc[i, 'target']\n",
        "    if sor_ in nodes_list and tar_ in nodes_list:\n",
        "        links_.append( (sor_, tar_) )\n",
        "        if len(links_) == 30000 :\n",
        "            break\n",
        "        else:\n",
        "            continue"
      ],
      "metadata": {
        "id": "dJcDTAY_tAPB"
      },
      "execution_count": 42,
      "outputs": []
    },
    {
      "cell_type": "code",
      "source": [
        "#randomly select nodes !\n",
        "\n",
        "publisher_nodes = advs_.copy()\n",
        "advertiser_nodes = pubs_.copy()\n",
        "data_links = links_.copy()"
      ],
      "metadata": {
        "id": "Tc6eimio0hN7"
      },
      "execution_count": 43,
      "outputs": []
    },
    {
      "cell_type": "code",
      "source": [
        "len(publisher_nodes), len(advertiser_nodes), len(data_links)"
      ],
      "metadata": {
        "colab": {
          "base_uri": "https://localhost:8080/"
        },
        "id": "q_gLTyEi1Qwn",
        "outputId": "5e1b0671-4652-4cb6-8d65-5afca1936fc0"
      },
      "execution_count": 46,
      "outputs": [
        {
          "output_type": "execute_result",
          "data": {
            "text/plain": [
              "(627, 904, 30000)"
            ]
          },
          "metadata": {},
          "execution_count": 46
        }
      ]
    },
    {
      "cell_type": "code",
      "source": [
        "advertiser_nodes = set(advertiser_nodes)\n",
        "publisher_nodes = set(publisher_nodes)"
      ],
      "metadata": {
        "id": "mApB1Cab1kxA"
      },
      "execution_count": 45,
      "outputs": []
    },
    {
      "cell_type": "code",
      "source": [
        " min(publisher_nodes),max(publisher_nodes), min(advertiser_nodes), max(advertiser_nodes)"
      ],
      "metadata": {
        "colab": {
          "base_uri": "https://localhost:8080/"
        },
        "id": "XcHASKIKSFiW",
        "outputId": "4766dac1-9326-41ea-913c-345215106d72"
      },
      "execution_count": 48,
      "outputs": [
        {
          "output_type": "execute_result",
          "data": {
            "text/plain": [
              "(0, 5663, 5699, 8965)"
            ]
          },
          "metadata": {},
          "execution_count": 48
        }
      ]
    },
    {
      "cell_type": "code",
      "source": [
        "#"
      ],
      "metadata": {
        "id": "z-LmwGLpSgXM"
      },
      "execution_count": null,
      "outputs": []
    },
    {
      "cell_type": "code",
      "source": [
        "advertiser_nodes_guide_map = {\"Advertisers-name\" : [],\n",
        "                              \"Advertisers-id\" : []\n",
        "}\n",
        "\n",
        "publisher_nodes_guide_map = {\"Publishers-name\" : [] ,\n",
        "                             \"Publishers-id\" : []\n",
        "}"
      ],
      "metadata": {
        "id": "0kEaB0QTTUAE"
      },
      "execution_count": 129,
      "outputs": []
    },
    {
      "cell_type": "code",
      "source": [
        "for node in advertiser_nodes:\n",
        "  advertiser_nodes_guide_map[\"Advertisers-name\"].append(data_nodes.loc[data_nodes['id'] == node, 'name'].values[0])\n",
        "  advertiser_nodes_guide_map[\"Advertisers-id\"].append(node)\n",
        "\n",
        "\n",
        "for node in publisher_nodes:\n",
        "  publisher_nodes_guide_map[\"Publishers-name\"].append(data_nodes.loc[data_nodes['id'] == node, 'name'].values[0])\n",
        "  publisher_nodes_guide_map[\"Publishers-id\"].append(node)"
      ],
      "metadata": {
        "id": "gzMywFEgSf5U"
      },
      "execution_count": 50,
      "outputs": []
    },
    {
      "cell_type": "code",
      "source": [
        "advertiser_nodes_guide_map = pd.DataFrame(advertiser_nodes_guide_map)\n",
        "publisher_nodes_guide_map = pd.DataFrame(publisher_nodes_guide_map )"
      ],
      "metadata": {
        "id": "BUauGl-eTh5p"
      },
      "execution_count": 51,
      "outputs": []
    },
    {
      "cell_type": "markdown",
      "source": [],
      "metadata": {
        "id": "6glw9_jFUJ1O"
      }
    },
    {
      "cell_type": "code",
      "source": [
        "advertiser_nodes_guide_map.to_csv(\"output/advertiser_nodes_guide_map.csv\", index = False)\n",
        "publisher_nodes_guide_map.to_csv(\"output/publisher_nodes_guide_map.csv\", index = False)"
      ],
      "metadata": {
        "id": "xeniF36nVMh8"
      },
      "execution_count": 52,
      "outputs": []
    },
    {
      "cell_type": "code",
      "source": [
        "#condition = data_links['source'].isin(advertiser_nodes) | data_links['target'].isin(advertiser_nodes)\n",
        "\n",
        "#filtered_df1 = data_links[condition]"
      ],
      "metadata": {
        "id": "Uzu4xoM0AWr0"
      },
      "execution_count": null,
      "outputs": []
    },
    {
      "cell_type": "code",
      "source": [
        "\n",
        "#condition = data_links['source'].isin(publisher_nodes) | data_links['target'].isin(advertiser_nodes)\n",
        "\n",
        "#filtered_df2 = data_links[condition]"
      ],
      "metadata": {
        "id": "oK3LR5OfCCCa"
      },
      "execution_count": null,
      "outputs": []
    },
    {
      "cell_type": "code",
      "source": [
        "#filtered_df1.shape, filtered_df2.shape"
      ],
      "metadata": {
        "colab": {
          "base_uri": "https://localhost:8080/"
        },
        "id": "qSWZHks_BFP8",
        "outputId": "3c52dd22-bf1a-47ea-cd19-530b20db856c"
      },
      "execution_count": null,
      "outputs": [
        {
          "output_type": "execute_result",
          "data": {
            "text/plain": [
              "((1568, 4), (1421, 4))"
            ]
          },
          "metadata": {},
          "execution_count": 22
        }
      ]
    },
    {
      "cell_type": "code",
      "source": [
        "#filtered_df1.reset_index(inplace=True)\n",
        "#filtered_df2.reset_index(inplace=True)"
      ],
      "metadata": {
        "id": "MMKMmuB2C2AR"
      },
      "execution_count": null,
      "outputs": []
    },
    {
      "cell_type": "code",
      "source": [
        "#nodes = list(filtered_df1['source'].unique())\n",
        "#nodes.extend(list(filtered_df1['target'].unique()))\n",
        "#nodes.extend(list(filtered_df2['source'].unique()))\n",
        "#nodes.extend(list(filtered_df2['target'].unique()))"
      ],
      "metadata": {
        "id": "22ezeR_lDnAH"
      },
      "execution_count": null,
      "outputs": []
    },
    {
      "cell_type": "code",
      "source": [
        "#len(nodes)"
      ],
      "metadata": {
        "colab": {
          "base_uri": "https://localhost:8080/"
        },
        "id": "2-qQ7BvzEBm7",
        "outputId": "f1a3d0a4-a283-436c-e75e-7334473edb43"
      },
      "execution_count": null,
      "outputs": [
        {
          "output_type": "execute_result",
          "data": {
            "text/plain": [
              "1546"
            ]
          },
          "metadata": {},
          "execution_count": 88
        }
      ]
    },
    {
      "cell_type": "code",
      "source": [
        "#bunch_of_edges = []\n",
        "\n",
        "#for i in range(filtered_df1.shape[0]) :\n",
        "# ## temp = ( filtered_df1.loc[i,'source'] , filtered_df1.loc[i,'target'] , filtered_df1.loc[i,'key'] )\n",
        "#  bunch_of_edges.append(temp)\n",
        "\n",
        "\n",
        "#for i in range(filtered_df2.shape[0]) :\n",
        "\n",
        "#    temp = ( filtered_df2.loc[i,'source'] , filtered_df2.loc[i,'target'] , filtered_df2.loc[i,'key'] )\n",
        " #   bunch_of_edges.append(temp)\n"
      ],
      "metadata": {
        "id": "HD-Eg6uE2jH8"
      },
      "execution_count": null,
      "outputs": []
    },
    {
      "cell_type": "code",
      "source": [
        "#len(bunch_of_edges), len(bunch_of_edges[0]), bunch_of_edges[0]"
      ],
      "metadata": {
        "colab": {
          "base_uri": "https://localhost:8080/"
        },
        "id": "dyPQVrFD9d1c",
        "outputId": "4bfd57af-80e3-4da5-d619-d0157118ac9f"
      },
      "execution_count": null,
      "outputs": [
        {
          "output_type": "execute_result",
          "data": {
            "text/plain": [
              "(2989, 3, (253, 8657, 0))"
            ]
          },
          "metadata": {},
          "execution_count": 27
        }
      ]
    },
    {
      "cell_type": "code",
      "source": [
        "\n",
        "len(nodes_list)"
      ],
      "metadata": {
        "colab": {
          "base_uri": "https://localhost:8080/"
        },
        "id": "OKWYA0nXGre4",
        "outputId": "6df66853-136b-4540-bff2-118cbfb91f31"
      },
      "execution_count": 53,
      "outputs": [
        {
          "output_type": "execute_result",
          "data": {
            "text/plain": [
              "1531"
            ]
          },
          "metadata": {},
          "execution_count": 53
        }
      ]
    },
    {
      "cell_type": "code",
      "source": [
        "len(publisher_nodes)+ len(advertiser_nodes)"
      ],
      "metadata": {
        "colab": {
          "base_uri": "https://localhost:8080/"
        },
        "id": "SMbQCdTgG0-A",
        "outputId": "033a5069-1b62-4624-d8cc-8c88a1a33ee3"
      },
      "execution_count": 54,
      "outputs": [
        {
          "output_type": "execute_result",
          "data": {
            "text/plain": [
              "1531"
            ]
          },
          "metadata": {},
          "execution_count": 54
        }
      ]
    },
    {
      "cell_type": "code",
      "source": [
        "G = nx.Graph()"
      ],
      "metadata": {
        "id": "O4DLudA3n4Be"
      },
      "execution_count": 55,
      "outputs": []
    },
    {
      "cell_type": "code",
      "source": [
        "#G.add_nodes_from(nodes)"
      ],
      "metadata": {
        "id": "bVUuExDCn5C0"
      },
      "execution_count": null,
      "outputs": []
    },
    {
      "cell_type": "code",
      "source": [
        "G.add_nodes_from(nodes_list)"
      ],
      "metadata": {
        "id": "gYByyOXSG7QW"
      },
      "execution_count": 56,
      "outputs": []
    },
    {
      "cell_type": "code",
      "source": [
        "G.add_edges_from(data_links)"
      ],
      "metadata": {
        "id": "uzPMZJ_aEG2N"
      },
      "execution_count": 57,
      "outputs": []
    },
    {
      "cell_type": "markdown",
      "source": [
        "××"
      ],
      "metadata": {
        "id": "-vvWORc9NcBf"
      }
    },
    {
      "cell_type": "markdown",
      "source": [
        "len(G.nodes)  =  1843"
      ],
      "metadata": {
        "id": "8eZcVwUgNTq3"
      }
    },
    {
      "cell_type": "code",
      "source": [
        "print(G)"
      ],
      "metadata": {
        "colab": {
          "base_uri": "https://localhost:8080/"
        },
        "id": "T0Vu-yxZHGrO",
        "outputId": "212feaf9-8719-4124-e119-d5c72ce05682"
      },
      "execution_count": 58,
      "outputs": [
        {
          "output_type": "stream",
          "name": "stdout",
          "text": [
            "Graph with 1531 nodes and 25879 edges\n"
          ]
        }
      ]
    },
    {
      "cell_type": "code",
      "source": [
        "nx.draw(G, pos=nx.random_layout(G))"
      ],
      "metadata": {
        "colab": {
          "base_uri": "https://localhost:8080/",
          "height": 516
        },
        "id": "sjGKdnWTEMK1",
        "outputId": "4c0b8a13-c371-40b9-8ec7-94b210ba71ca"
      },
      "execution_count": 66,
      "outputs": [
        {
          "output_type": "display_data",
          "data": {
            "text/plain": [
              "<Figure size 640x480 with 1 Axes>"
            ],
            "image/png": "[encoded data removed]"
          },
          "metadata": {}
        }
      ]
    },
    {
      "cell_type": "markdown",
      "source": [
        "**Options for layout :**\n",
        "\n",
        "['arf_layout',\n",
        "'bfs_layout',\n",
        " 'bipartite_layout',\n",
        " 'circular_layout',\n",
        " 'fruchterman_reingold_layout',\n",
        " 'kamada_kawai_layout',\n",
        " 'multipartite_layout',\n",
        " 'np_random_state',\n",
        " 'nx',\n",
        " 'planar_layout',\n",
        " 'random_layout',\n",
        " 'rescale_layout',\n",
        " 'rescale_layout_dict',\n",
        " 'shell_layout',\n",
        " 'spectral_layout',\n",
        " 'spiral_layout',\n",
        " 'spring_layout']"
      ],
      "metadata": {
        "id": "-TV-jaLFOSwJ"
      }
    },
    {
      "cell_type": "code",
      "source": [
        "# Centrality Measures :\n",
        "\n",
        "def calculate_centrality_measures(G):\n",
        "    degree_centrality = nx.degree_centrality(G)\n",
        "    betweenness_centrality = nx.betweenness_centrality(G)\n",
        "    closeness_centrality = nx.closeness_centrality(G)\n",
        "    return degree_centrality, betweenness_centrality, closeness_centrality"
      ],
      "metadata": {
        "id": "AkleyF833crU"
      },
      "execution_count": 67,
      "outputs": []
    },
    {
      "cell_type": "code",
      "source": [
        "\n",
        "from itertools import combinations\n",
        "\n",
        "# Graph\n",
        "degree_centrality, betweenness_centrality, closeness_centrality = calculate_centrality_measures(G)\n",
        "features = []\n",
        "labels = []\n",
        "# Calculating features for each pair of nodes:\n",
        "for node1, node2 in combinations(G.nodes(), 2):\n",
        "\n",
        "    # Centrality measures for node1 and node2\n",
        "    degree_centrality_1 = degree_centrality[node1]\n",
        "    degree_centrality_2 = degree_centrality[node2]\n",
        "    betweenness_centrality_1 = betweenness_centrality[node1]\n",
        "    betweenness_centrality_2 = betweenness_centrality[node2]\n",
        "    closeness_centrality_1 = closeness_centrality[node1]\n",
        "    closeness_centrality_2 = closeness_centrality[node2]\n",
        "\n",
        "    # Directly compute and append features\n",
        "    features.append((\n",
        "        node1,\n",
        "        node2,\n",
        "        len(list(nx.common_neighbors(G, node1, node2))),  # Common Neighbors\n",
        "        next(nx.preferential_attachment(G, [(node1, node2)]))[2],  # Preferential Attachment\n",
        "        next(nx.resource_allocation_index(G, [(node1, node2)]))[2],  # Resource Allocation\n",
        "        next(nx.adamic_adar_index(G, [(node1, node2)]))[2],  # Adamic Adar\n",
        "        next(nx.jaccard_coefficient(G, [(node1, node2)]))[2] , # Jaccard Coefficient\n",
        "        (degree_centrality_1 + degree_centrality_2) / 2,\n",
        "        (betweenness_centrality_1 + betweenness_centrality_2) / 2,\n",
        "        (closeness_centrality_1 + closeness_centrality_2) / 2\n",
        "    ))\n",
        "    # Existence of links between nodes (1 or 0)\n",
        "    labels.append(1 if G.has_edge(node1, node2) else 0)\n",
        "\n",
        "# Creating a DataFrame from the features and labels\n",
        "features_df = pd.DataFrame(features,\n",
        "                           columns=['node1','node2','Common Neighbors',\n",
        "                                    'Preferential Attachment', 'Resource Allocation',\n",
        "                                    'Adamic Adar', 'Jaccard Coefficient', 'Average Degree Centrality',\n",
        "                                    'Average Betweenness Centrality', 'Average Closeness Centrality'])\n",
        "features_df['laybel'] = labels\n",
        "#We record the laybels to further use it to filter features_df with none edges nodes!\n"
      ],
      "metadata": {
        "id": "oNUaKDcW3J5w"
      },
      "execution_count": 68,
      "outputs": []
    },
    {
      "cell_type": "code",
      "source": [
        "#features_df = pd.read_csv(\"from index4.0.ipynb.csv\")"
      ],
      "metadata": {
        "id": "PGzbrQpnQJRr"
      },
      "execution_count": null,
      "outputs": []
    },
    {
      "cell_type": "code",
      "source": [
        "condition = ( features_df['laybel'] == 0 )\n",
        "features = features_df[condition]"
      ],
      "metadata": {
        "id": "nxsBLC-yHVqs"
      },
      "execution_count": 69,
      "outputs": []
    },
    {
      "cell_type": "code",
      "source": [
        "features.to_csv('output/features-nodes-without-links-from-index4.3.ipynb.csv', index=False,\n",
        "                   compression = {'method': 'zip', 'compresslevel': 8 } )"
      ],
      "metadata": {
        "id": "wrWkUqGsvGo4"
      },
      "execution_count": 70,
      "outputs": []
    },
    {
      "cell_type": "code",
      "source": [
        "features.shape, features_df.shape"
      ],
      "metadata": {
        "colab": {
          "base_uri": "https://localhost:8080/"
        },
        "id": "82UzkbR8vuXZ",
        "outputId": "a7d8473f-5480-4559-df31-3a63d5744832"
      },
      "execution_count": 71,
      "outputs": [
        {
          "output_type": "execute_result",
          "data": {
            "text/plain": [
              "((1145336, 11), (1171215, 11))"
            ]
          },
          "metadata": {},
          "execution_count": 71
        }
      ]
    },
    {
      "cell_type": "code",
      "source": [
        "X = features.drop(['node1', 'node2', 'laybel' ], axis = 1)"
      ],
      "metadata": {
        "id": "rDAMPJ4a3n6F"
      },
      "execution_count": 77,
      "outputs": []
    },
    {
      "cell_type": "code",
      "source": [
        "import numpy as np\n",
        "\n",
        "X = np.array(X)"
      ],
      "metadata": {
        "id": "XYFdcKGpC6P_"
      },
      "execution_count": 78,
      "outputs": []
    },
    {
      "cell_type": "code",
      "source": [
        "#\n",
        "predicts_straight = model.predict(X)"
      ],
      "metadata": {
        "id": "RaXEkAYR3h4-",
        "colab": {
          "base_uri": "https://localhost:8080/"
        },
        "outputId": "475a0469-020b-4215-c515-638c5d24a886"
      },
      "execution_count": 79,
      "outputs": [
        {
          "output_type": "stream",
          "name": "stderr",
          "text": [
            "[Parallel(n_jobs=1)]: Done  40 tasks      | elapsed:    4.0s\n"
          ]
        }
      ]
    },
    {
      "cell_type": "code",
      "source": [
        "#\n",
        "predicts_probabilities = model.predict_proba(X)[:, 1]"
      ],
      "metadata": {
        "colab": {
          "base_uri": "https://localhost:8080/"
        },
        "id": "GrMWdF8lWghs",
        "outputId": "f5638f9e-568a-4d24-d780-94424ede1144"
      },
      "execution_count": 80,
      "outputs": [
        {
          "output_type": "stream",
          "name": "stderr",
          "text": [
            "[Parallel(n_jobs=1)]: Done  40 tasks      | elapsed:    7.1s\n"
          ]
        }
      ]
    },
    {
      "cell_type": "code",
      "source": [
        "#:  بیشترین احتمال کانکتی را در نظر میگیریم"
      ],
      "metadata": {
        "id": "0q8mYa9PLasa"
      },
      "execution_count": null,
      "outputs": []
    },
    {
      "cell_type": "code",
      "source": [
        "max(predicts_probabilities)"
      ],
      "metadata": {
        "colab": {
          "base_uri": "https://localhost:8080/"
        },
        "id": "zD3kueg9L4y0",
        "outputId": "339b6e48-1268-482b-db9d-2e3b7113afb9"
      },
      "execution_count": 81,
      "outputs": [
        {
          "output_type": "execute_result",
          "data": {
            "text/plain": [
              "0.9601365257411274"
            ]
          },
          "metadata": {},
          "execution_count": 81
        }
      ]
    },
    {
      "cell_type": "code",
      "source": [
        "features.drop('laybel',axis = 1, inplace=True)"
      ],
      "metadata": {
        "id": "bQbQw4mtPmx1"
      },
      "execution_count": null,
      "outputs": []
    },
    {
      "cell_type": "code",
      "source": [
        "features['predicted laybel'] = predicts_straight\n",
        "features['probability laybel'] = predicts_probabilities\n"
      ],
      "metadata": {
        "id": "JuSNH7Dz36NM"
      },
      "execution_count": null,
      "outputs": []
    },
    {
      "cell_type": "code",
      "source": [
        "\n",
        "# Create a boolean mask based on the condition\n",
        "condition = features['probability laybel'] > 0.96\n",
        "\n",
        "# Specify the columns you want to keep\n",
        "columns_to_keep = ['node1', 'node2', 'predicted laybel', 'probability laybel']\n",
        "\n",
        "# Apply the boolean mask and select only the specified columns to filter the DataFrame\n",
        "final_predicted = features.loc[condition, columns_to_keep]\n",
        "\n",
        "# Display the filtered DataFrame\n",
        "print(final_predicted)\n"
      ],
      "metadata": {
        "colab": {
          "base_uri": "https://localhost:8080/"
        },
        "id": "6PMhhC9tKQs7",
        "outputId": "36358f3c-82b4-4bbe-824a-5ecea2c89f75"
      },
      "execution_count": 115,
      "outputs": [
        {
          "output_type": "stream",
          "name": "stdout",
          "text": [
            "        node1  node2  predicted laybel  probability laybel\n",
            "96509    6705   3853                 1            0.960105\n",
            "97974    7919   3853                 1            0.960105\n",
            "148619   8005   3853                 1            0.960105\n",
            "154329   6292   3853                 1            0.960105\n",
            "184044   7095   3853                 1            0.960105\n",
            "282576   5910   3853                 1            0.960105\n",
            "291879   6824   3853                 1            0.960105\n",
            "350514   6444   3853                 1            0.960137\n",
            "452153   7250   3853                 1            0.960105\n",
            "503919   6448   3853                 1            0.960137\n",
            "518843   6490   3853                 1            0.960105\n",
            "631113   6662   3853                 1            0.960137\n",
            "643503   6801   3853                 1            0.960105\n",
            "780068   6549   3853                 1            0.960105\n",
            "801055   3853   6062                 1            0.960105\n",
            "801078   3853   6169                 1            0.960105\n",
            "801165   3853   6506                 1            0.960105\n",
            "801259   3853   7130                 1            0.960105\n",
            "801290   3853   6320                 1            0.960105\n",
            "801311   3853   8260                 1            0.960105\n",
            "801365   3853   7987                 1            0.960105\n",
            "801480   3853   6666                 1            0.960105\n",
            "801519   3853   7490                 1            0.960105\n",
            "801726   3853   7326                 1            0.960105\n",
            "801729   3853   7103                 1            0.960105\n",
            "801810   3853   6450                 1            0.960105\n"
          ]
        }
      ]
    },
    {
      "cell_type": "code",
      "source": [
        "#final_predicted.to_csv('output/final-predicted-upper85perCent.csv', index=False)"
      ],
      "metadata": {
        "id": "7R7sL7IDKgDi"
      },
      "execution_count": 88,
      "outputs": []
    },
    {
      "cell_type": "code",
      "source": [
        "final_predicted.reset_index(inplace=True)"
      ],
      "metadata": {
        "id": "gq9RgEiFOZQn"
      },
      "execution_count": 116,
      "outputs": []
    },
    {
      "cell_type": "code",
      "source": [
        "final_predicted_node1 = final_predicted['node1'].to_list()\n",
        "final_predicted_node2 = final_predicted['node2'].to_list()"
      ],
      "metadata": {
        "id": "sBqZq3_zMwia"
      },
      "execution_count": 117,
      "outputs": []
    },
    {
      "cell_type": "code",
      "source": [
        "for i in range( len( final_predicted_node1) ):\n",
        "  temp_node1 = final_predicted_node1[i]\n",
        "  temp_node2 = final_predicted_node2[i]\n",
        "  if temp_node1 in advertiser_nodes_guide_map['Advertisers-id'].to_list() :\n",
        "    final_predicted.loc[i, 'node1-name'] = advertiser_nodes_guide_map.loc[ advertiser_nodes_guide_map['Advertisers-id'] == temp_node1, 'Advertisers-name' ].values[0]\n",
        "  elif temp_node1 in publisher_nodes_guide_map['Publishers-id'].to_list() :\n",
        "    final_predicted.loc[i, 'node1-name']= publisher_nodes_guide_map.loc[ publisher_nodes_guide_map['Publishers-id'] == temp_node1, 'Publishers-name' ].values[0]\n",
        "  if temp_node2 in advertiser_nodes_guide_map['Advertisers-id'].to_list() :\n",
        "    final_predicted.loc[i, 'node2-name'] = advertiser_nodes_guide_map.loc[ advertiser_nodes_guide_map['Advertisers-id'] == temp_node2, 'Advertisers-name' ].values[0]\n",
        "  elif temp_node2 in publisher_nodes_guide_map['Publishers-id'].to_list() :\n",
        "    final_predicted.loc[i, 'node2-name'] = publisher_nodes_guide_map.loc[ publisher_nodes_guide_map['Publishers-id'] == temp_node2, 'Publishers-name' ].values[0]"
      ],
      "metadata": {
        "id": "BNNRRRcDM4Cd"
      },
      "execution_count": 118,
      "outputs": []
    },
    {
      "cell_type": "code",
      "source": [
        "final_predicted"
      ],
      "metadata": {
        "colab": {
          "base_uri": "https://localhost:8080/",
          "height": 865
        },
        "id": "XAdqvLWLOPTp",
        "outputId": "3f80ac59-eafe-49ef-f5fb-52a489ef9a4b"
      },
      "execution_count": 119,
      "outputs": [
        {
          "output_type": "execute_result",
          "data": {
            "text/plain": [
              "     index  node1  node2  predicted laybel  probability laybel node1-name  \\\n",
              "0    96509   6705   3853                 1            0.960105    p_25734   \n",
              "1    97974   7919   3853                 1            0.960105    p_66012   \n",
              "2   148619   8005   3853                 1            0.960105    p_69061   \n",
              "3   154329   6292   3853                 1            0.960105    p_18822   \n",
              "4   184044   7095   3853                 1            0.960105    p_34357   \n",
              "5   282576   5910   3853                 1            0.960105    p_12956   \n",
              "6   291879   6824   3853                 1            0.960105    p_27411   \n",
              "7   350514   6444   3853                 1            0.960137      p_219   \n",
              "8   452153   7250   3853                 1            0.960105    p_40821   \n",
              "9   503919   6448   3853                 1            0.960137    p_21950   \n",
              "10  518843   6490   3853                 1            0.960105    p_22546   \n",
              "11  631113   6662   3853                 1            0.960137    p_24809   \n",
              "12  643503   6801   3853                 1            0.960105    p_26966   \n",
              "13  780068   6549   3853                 1            0.960105    p_23170   \n",
              "14  801055   3853   6062                 1            0.960105    a_67681   \n",
              "15  801078   3853   6169                 1            0.960105    a_67681   \n",
              "16  801165   3853   6506                 1            0.960105    a_67681   \n",
              "17  801259   3853   7130                 1            0.960105    a_67681   \n",
              "18  801290   3853   6320                 1            0.960105    a_67681   \n",
              "19  801311   3853   8260                 1            0.960105    a_67681   \n",
              "20  801365   3853   7987                 1            0.960105    a_67681   \n",
              "21  801480   3853   6666                 1            0.960105    a_67681   \n",
              "22  801519   3853   7490                 1            0.960105    a_67681   \n",
              "23  801726   3853   7326                 1            0.960105    a_67681   \n",
              "24  801729   3853   7103                 1            0.960105    a_67681   \n",
              "25  801810   3853   6450                 1            0.960105    a_67681   \n",
              "\n",
              "   node2-name  \n",
              "0     a_67681  \n",
              "1     a_67681  \n",
              "2     a_67681  \n",
              "3     a_67681  \n",
              "4     a_67681  \n",
              "5     a_67681  \n",
              "6     a_67681  \n",
              "7     a_67681  \n",
              "8     a_67681  \n",
              "9     a_67681  \n",
              "10    a_67681  \n",
              "11    a_67681  \n",
              "12    a_67681  \n",
              "13    a_67681  \n",
              "14    p_14210  \n",
              "15    p_16037  \n",
              "16    p_22805  \n",
              "17    p_35810  \n",
              "18    p_19159  \n",
              "19    p_76642  \n",
              "20    p_68300  \n",
              "21    p_24890  \n",
              "22    p_51681  \n",
              "23    p_43912  \n",
              "24    p_34621  \n",
              "25    p_21972  "
            ],
            "text/html": [
              "\n",
              "  <div id=\"df-6a8efc5a-116b-403a-a3fd-934b974ceb8b\" class=\"colab-df-container\">\n",
              "    <div>\n",
              "<style scoped>\n",
              "    .dataframe tbody tr th:only-of-type {\n",
              "        vertical-align: middle;\n",
              "    }\n",
              "\n",
              "    .dataframe tbody tr th {\n",
              "        vertical-align: top;\n",
              "    }\n",
              "\n",
              "    .dataframe thead th {\n",
              "        text-align: right;\n",
              "    }\n",
              "</style>\n",
              "<table border=\"1\" class=\"dataframe\">\n",
              "  <thead>\n",
              "    <tr style=\"text-align: right;\">\n",
              "      <th></th>\n",
              "      <th>index</th>\n",
              "      <th>node1</th>\n",
              "      <th>node2</th>\n",
              "      <th>predicted laybel</th>\n",
              "      <th>probability laybel</th>\n",
              "      <th>node1-name</th>\n",
              "      <th>node2-name</th>\n",
              "    </tr>\n",
              "  </thead>\n",
              "  <tbody>\n",
              "    <tr>\n",
              "      <th>0</th>\n",
              "      <td>96509</td>\n",
              "      <td>6705</td>\n",
              "      <td>3853</td>\n",
              "      <td>1</td>\n",
              "      <td>0.960105</td>\n",
              "      <td>p_25734</td>\n",
              "      <td>a_67681</td>\n",
              "    </tr>\n",
              "    <tr>\n",
              "      <th>1</th>\n",
              "      <td>97974</td>\n",
              "      <td>7919</td>\n",
              "      <td>3853</td>\n",
              "      <td>1</td>\n",
              "      <td>0.960105</td>\n",
              "      <td>p_66012</td>\n",
              "      <td>a_67681</td>\n",
              "    </tr>\n",
              "    <tr>\n",
              "      <th>2</th>\n",
              "      <td>148619</td>\n",
              "      <td>8005</td>\n",
              "      <td>3853</td>\n",
              "      <td>1</td>\n",
              "      <td>0.960105</td>\n",
              "      <td>p_69061</td>\n",
              "      <td>a_67681</td>\n",
              "    </tr>\n",
              "    <tr>\n",
              "      <th>3</th>\n",
              "      <td>154329</td>\n",
              "      <td>6292</td>\n",
              "      <td>3853</td>\n",
              "      <td>1</td>\n",
              "      <td>0.960105</td>\n",
              "      <td>p_18822</td>\n",
              "      <td>a_67681</td>\n",
              "    </tr>\n",
              "    <tr>\n",
              "      <th>4</th>\n",
              "      <td>184044</td>\n",
              "      <td>7095</td>\n",
              "      <td>3853</td>\n",
              "      <td>1</td>\n",
              "      <td>0.960105</td>\n",
              "      <td>p_34357</td>\n",
              "      <td>a_67681</td>\n",
              "    </tr>\n",
              "    <tr>\n",
              "      <th>5</th>\n",
              "      <td>282576</td>\n",
              "      <td>5910</td>\n",
              "      <td>3853</td>\n",
              "      <td>1</td>\n",
              "      <td>0.960105</td>\n",
              "      <td>p_12956</td>\n",
              "      <td>a_67681</td>\n",
              "    </tr>\n",
              "    <tr>\n",
              "      <th>6</th>\n",
              "      <td>291879</td>\n",
              "      <td>6824</td>\n",
              "      <td>3853</td>\n",
              "      <td>1</td>\n",
              "      <td>0.960105</td>\n",
              "      <td>p_27411</td>\n",
              "      <td>a_67681</td>\n",
              "    </tr>\n",
              "    <tr>\n",
              "      <th>7</th>\n",
              "      <td>350514</td>\n",
              "      <td>6444</td>\n",
              "      <td>3853</td>\n",
              "      <td>1</td>\n",
              "      <td>0.960137</td>\n",
              "      <td>p_219</td>\n",
              "      <td>a_67681</td>\n",
              "    </tr>\n",
              "    <tr>\n",
              "      <th>8</th>\n",
              "      <td>452153</td>\n",
              "      <td>7250</td>\n",
              "      <td>3853</td>\n",
              "      <td>1</td>\n",
              "      <td>0.960105</td>\n",
              "      <td>p_40821</td>\n",
              "      <td>a_67681</td>\n",
              "    </tr>\n",
              "    <tr>\n",
              "      <th>9</th>\n",
              "      <td>503919</td>\n",
              "      <td>6448</td>\n",
              "      <td>3853</td>\n",
              "      <td>1</td>\n",
              "      <td>0.960137</td>\n",
              "      <td>p_21950</td>\n",
              "      <td>a_67681</td>\n",
              "    </tr>\n",
              "    <tr>\n",
              "      <th>10</th>\n",
              "      <td>518843</td>\n",
              "      <td>6490</td>\n",
              "      <td>3853</td>\n",
              "      <td>1</td>\n",
              "      <td>0.960105</td>\n",
              "      <td>p_22546</td>\n",
              "      <td>a_67681</td>\n",
              "    </tr>\n",
              "    <tr>\n",
              "      <th>11</th>\n",
              "      <td>631113</td>\n",
              "      <td>6662</td>\n",
              "      <td>3853</td>\n",
              "      <td>1</td>\n",
              "      <td>0.960137</td>\n",
              "      <td>p_24809</td>\n",
              "      <td>a_67681</td>\n",
              "    </tr>\n",
              "    <tr>\n",
              "      <th>12</th>\n",
              "      <td>643503</td>\n",
              "      <td>6801</td>\n",
              "      <td>3853</td>\n",
              "      <td>1</td>\n",
              "      <td>0.960105</td>\n",
              "      <td>p_26966</td>\n",
              "      <td>a_67681</td>\n",
              "    </tr>\n",
              "    <tr>\n",
              "      <th>13</th>\n",
              "      <td>780068</td>\n",
              "      <td>6549</td>\n",
              "      <td>3853</td>\n",
              "      <td>1</td>\n",
              "      <td>0.960105</td>\n",
              "      <td>p_23170</td>\n",
              "      <td>a_67681</td>\n",
              "    </tr>\n",
              "    <tr>\n",
              "      <th>14</th>\n",
              "      <td>801055</td>\n",
              "      <td>3853</td>\n",
              "      <td>6062</td>\n",
              "      <td>1</td>\n",
              "      <td>0.960105</td>\n",
              "      <td>a_67681</td>\n",
              "      <td>p_14210</td>\n",
              "    </tr>\n",
              "    <tr>\n",
              "      <th>15</th>\n",
              "      <td>801078</td>\n",
              "      <td>3853</td>\n",
              "      <td>6169</td>\n",
              "      <td>1</td>\n",
              "      <td>0.960105</td>\n",
              "      <td>a_67681</td>\n",
              "      <td>p_16037</td>\n",
              "    </tr>\n",
              "    <tr>\n",
              "      <th>16</th>\n",
              "      <td>801165</td>\n",
              "      <td>3853</td>\n",
              "      <td>6506</td>\n",
              "      <td>1</td>\n",
              "      <td>0.960105</td>\n",
              "      <td>a_67681</td>\n",
              "      <td>p_22805</td>\n",
              "    </tr>\n",
              "    <tr>\n",
              "      <th>17</th>\n",
              "      <td>801259</td>\n",
              "      <td>3853</td>\n",
              "      <td>7130</td>\n",
              "      <td>1</td>\n",
              "      <td>0.960105</td>\n",
              "      <td>a_67681</td>\n",
              "      <td>p_35810</td>\n",
              "    </tr>\n",
              "    <tr>\n",
              "      <th>18</th>\n",
              "      <td>801290</td>\n",
              "      <td>3853</td>\n",
              "      <td>6320</td>\n",
              "      <td>1</td>\n",
              "      <td>0.960105</td>\n",
              "      <td>a_67681</td>\n",
              "      <td>p_19159</td>\n",
              "    </tr>\n",
              "    <tr>\n",
              "      <th>19</th>\n",
              "      <td>801311</td>\n",
              "      <td>3853</td>\n",
              "      <td>8260</td>\n",
              "      <td>1</td>\n",
              "      <td>0.960105</td>\n",
              "      <td>a_67681</td>\n",
              "      <td>p_76642</td>\n",
              "    </tr>\n",
              "    <tr>\n",
              "      <th>20</th>\n",
              "      <td>801365</td>\n",
              "      <td>3853</td>\n",
              "      <td>7987</td>\n",
              "      <td>1</td>\n",
              "      <td>0.960105</td>\n",
              "      <td>a_67681</td>\n",
              "      <td>p_68300</td>\n",
              "    </tr>\n",
              "    <tr>\n",
              "      <th>21</th>\n",
              "      <td>801480</td>\n",
              "      <td>3853</td>\n",
              "      <td>6666</td>\n",
              "      <td>1</td>\n",
              "      <td>0.960105</td>\n",
              "      <td>a_67681</td>\n",
              "      <td>p_24890</td>\n",
              "    </tr>\n",
              "    <tr>\n",
              "      <th>22</th>\n",
              "      <td>801519</td>\n",
              "      <td>3853</td>\n",
              "      <td>7490</td>\n",
              "      <td>1</td>\n",
              "      <td>0.960105</td>\n",
              "      <td>a_67681</td>\n",
              "      <td>p_51681</td>\n",
              "    </tr>\n",
              "    <tr>\n",
              "      <th>23</th>\n",
              "      <td>801726</td>\n",
              "      <td>3853</td>\n",
              "      <td>7326</td>\n",
              "      <td>1</td>\n",
              "      <td>0.960105</td>\n",
              "      <td>a_67681</td>\n",
              "      <td>p_43912</td>\n",
              "    </tr>\n",
              "    <tr>\n",
              "      <th>24</th>\n",
              "      <td>801729</td>\n",
              "      <td>3853</td>\n",
              "      <td>7103</td>\n",
              "      <td>1</td>\n",
              "      <td>0.960105</td>\n",
              "      <td>a_67681</td>\n",
              "      <td>p_34621</td>\n",
              "    </tr>\n",
              "    <tr>\n",
              "      <th>25</th>\n",
              "      <td>801810</td>\n",
              "      <td>3853</td>\n",
              "      <td>6450</td>\n",
              "      <td>1</td>\n",
              "      <td>0.960105</td>\n",
              "      <td>a_67681</td>\n",
              "      <td>p_21972</td>\n",
              "    </tr>\n",
              "  </tbody>\n",
              "</table>\n",
              "</div>\n",
              "    <div class=\"colab-df-buttons\">\n",
              "\n",
              "  <div class=\"colab-df-container\">\n",
              "    <button class=\"colab-df-convert\" onclick=\"convertToInteractive('df-6a8efc5a-116b-403a-a3fd-934b974ceb8b')\"\n",
              "            title=\"Convert this dataframe to an interactive table.\"\n",
              "            style=\"display:none;\">\n",
              "\n",
              "  <svg xmlns=\"http://www.w3.org/2000/svg\" height=\"24px\" viewBox=\"0 -960 960 960\">\n",
              "    <path d=\"M120-120v-720h720v720H120Zm60-500h600v-160H180v160Zm220 220h160v-160H400v160Zm0 220h160v-160H400v160ZM180-400h160v-160H180v160Zm440 0h160v-160H620v160ZM180-180h160v-160H180v160Zm440 0h160v-160H620v160Z\"/>\n",
              "  </svg>\n",
              "    </button>\n",
              "\n",
              "  <style>\n",
              "    .colab-df-container {\n",
              "      display:flex;\n",
              "      gap: 12px;\n",
              "    }\n",
              "\n",
              "    .colab-df-convert {\n",
              "      background-color: #E8F0FE;\n",
              "      border: none;\n",
              "      border-radius: 50%;\n",
              "      cursor: pointer;\n",
              "      display: none;\n",
              "      fill: #1967D2;\n",
              "      height: 32px;\n",
              "      padding: 0 0 0 0;\n",
              "      width: 32px;\n",
              "    }\n",
              "\n",
              "    .colab-df-convert:hover {\n",
              "      background-color: #E2EBFA;\n",
              "      box-shadow: 0px 1px 2px rgba(60, 64, 67, 0.3), 0px 1px 3px 1px rgba(60, 64, 67, 0.15);\n",
              "      fill: #174EA6;\n",
              "    }\n",
              "\n",
              "    .colab-df-buttons div {\n",
              "      margin-bottom: 4px;\n",
              "    }\n",
              "\n",
              "    [theme=dark] .colab-df-convert {\n",
              "      background-color: #3B4455;\n",
              "      fill: #D2E3FC;\n",
              "    }\n",
              "\n",
              "    [theme=dark] .colab-df-convert:hover {\n",
              "      background-color: #434B5C;\n",
              "      box-shadow: 0px 1px 3px 1px rgba(0, 0, 0, 0.15);\n",
              "      filter: drop-shadow(0px 1px 2px rgba(0, 0, 0, 0.3));\n",
              "      fill: #FFFFFF;\n",
              "    }\n",
              "  </style>\n",
              "\n",
              "    <script>\n",
              "      const buttonEl =\n",
              "        document.querySelector('#df-6a8efc5a-116b-403a-a3fd-934b974ceb8b button.colab-df-convert');\n",
              "      buttonEl.style.display =\n",
              "        google.colab.kernel.accessAllowed ? 'block' : 'none';\n",
              "\n",
              "      async function convertToInteractive(key) {\n",
              "        const element = document.querySelector('#df-6a8efc5a-116b-403a-a3fd-934b974ceb8b');\n",
              "        const dataTable =\n",
              "          await google.colab.kernel.invokeFunction('convertToInteractive',\n",
              "                                                    [key], {});\n",
              "        if (!dataTable) return;\n",
              "\n",
              "        const docLinkHtml = 'Like what you see? Visit the ' +\n",
              "          '<a target=\"_blank\" href=https://colab.research.google.com/notebooks/data_table.ipynb>data table notebook</a>'\n",
              "          + ' to learn more about interactive tables.';\n",
              "        element.innerHTML = '';\n",
              "        dataTable['output_type'] = 'display_data';\n",
              "        await google.colab.output.renderOutput(dataTable, element);\n",
              "        const docLink = document.createElement('div');\n",
              "        docLink.innerHTML = docLinkHtml;\n",
              "        element.appendChild(docLink);\n",
              "      }\n",
              "    </script>\n",
              "  </div>\n",
              "\n",
              "\n",
              "<div id=\"df-473dd717-e7fc-4a19-a6a5-b347b3c6caa3\">\n",
              "  <button class=\"colab-df-quickchart\" onclick=\"quickchart('df-473dd717-e7fc-4a19-a6a5-b347b3c6caa3')\"\n",
              "            title=\"Suggest charts\"\n",
              "            style=\"display:none;\">\n",
              "\n",
              "<svg xmlns=\"http://www.w3.org/2000/svg\" height=\"24px\"viewBox=\"0 0 24 24\"\n",
              "     width=\"24px\">\n",
              "    <g>\n",
              "        <path d=\"M19 3H5c-1.1 0-2 .9-2 2v14c0 1.1.9 2 2 2h14c1.1 0 2-.9 2-2V5c0-1.1-.9-2-2-2zM9 17H7v-7h2v7zm4 0h-2V7h2v10zm4 0h-2v-4h2v4z\"/>\n",
              "    </g>\n",
              "</svg>\n",
              "  </button>\n",
              "\n",
              "<style>\n",
              "  .colab-df-quickchart {\n",
              "      --bg-color: #E8F0FE;\n",
              "      --fill-color: #1967D2;\n",
              "      --hover-bg-color: #E2EBFA;\n",
              "      --hover-fill-color: #174EA6;\n",
              "      --disabled-fill-color: #AAA;\n",
              "      --disabled-bg-color: #DDD;\n",
              "  }\n",
              "\n",
              "  [theme=dark] .colab-df-quickchart {\n",
              "      --bg-color: #3B4455;\n",
              "      --fill-color: #D2E3FC;\n",
              "      --hover-bg-color: #434B5C;\n",
              "      --hover-fill-color: #FFFFFF;\n",
              "      --disabled-bg-color: #3B4455;\n",
              "      --disabled-fill-color: #666;\n",
              "  }\n",
              "\n",
              "  .colab-df-quickchart {\n",
              "    background-color: var(--bg-color);\n",
              "    border: none;\n",
              "    border-radius: 50%;\n",
              "    cursor: pointer;\n",
              "    display: none;\n",
              "    fill: var(--fill-color);\n",
              "    height: 32px;\n",
              "    padding: 0;\n",
              "    width: 32px;\n",
              "  }\n",
              "\n",
              "  .colab-df-quickchart:hover {\n",
              "    background-color: var(--hover-bg-color);\n",
              "    box-shadow: 0 1px 2px rgba(60, 64, 67, 0.3), 0 1px 3px 1px rgba(60, 64, 67, 0.15);\n",
              "    fill: var(--button-hover-fill-color);\n",
              "  }\n",
              "\n",
              "  .colab-df-quickchart-complete:disabled,\n",
              "  .colab-df-quickchart-complete:disabled:hover {\n",
              "    background-color: var(--disabled-bg-color);\n",
              "    fill: var(--disabled-fill-color);\n",
              "    box-shadow: none;\n",
              "  }\n",
              "\n",
              "  .colab-df-spinner {\n",
              "    border: 2px solid var(--fill-color);\n",
              "    border-color: transparent;\n",
              "    border-bottom-color: var(--fill-color);\n",
              "    animation:\n",
              "      spin 1s steps(1) infinite;\n",
              "  }\n",
              "\n",
              "  @keyframes spin {\n",
              "    0% {\n",
              "      border-color: transparent;\n",
              "      border-bottom-color: var(--fill-color);\n",
              "      border-left-color: var(--fill-color);\n",
              "    }\n",
              "    20% {\n",
              "      border-color: transparent;\n",
              "      border-left-color: var(--fill-color);\n",
              "      border-top-color: var(--fill-color);\n",
              "    }\n",
              "    30% {\n",
              "      border-color: transparent;\n",
              "      border-left-color: var(--fill-color);\n",
              "      border-top-color: var(--fill-color);\n",
              "      border-right-color: var(--fill-color);\n",
              "    }\n",
              "    40% {\n",
              "      border-color: transparent;\n",
              "      border-right-color: var(--fill-color);\n",
              "      border-top-color: var(--fill-color);\n",
              "    }\n",
              "    60% {\n",
              "      border-color: transparent;\n",
              "      border-right-color: var(--fill-color);\n",
              "    }\n",
              "    80% {\n",
              "      border-color: transparent;\n",
              "      border-right-color: var(--fill-color);\n",
              "      border-bottom-color: var(--fill-color);\n",
              "    }\n",
              "    90% {\n",
              "      border-color: transparent;\n",
              "      border-bottom-color: var(--fill-color);\n",
              "    }\n",
              "  }\n",
              "</style>\n",
              "\n",
              "  <script>\n",
              "    async function quickchart(key) {\n",
              "      const quickchartButtonEl =\n",
              "        document.querySelector('#' + key + ' button');\n",
              "      quickchartButtonEl.disabled = true;  // To prevent multiple clicks.\n",
              "      quickchartButtonEl.classList.add('colab-df-spinner');\n",
              "      try {\n",
              "        const charts = await google.colab.kernel.invokeFunction(\n",
              "            'suggestCharts', [key], {});\n",
              "      } catch (error) {\n",
              "        console.error('Error during call to suggestCharts:', error);\n",
              "      }\n",
              "      quickchartButtonEl.classList.remove('colab-df-spinner');\n",
              "      quickchartButtonEl.classList.add('colab-df-quickchart-complete');\n",
              "    }\n",
              "    (() => {\n",
              "      let quickchartButtonEl =\n",
              "        document.querySelector('#df-473dd717-e7fc-4a19-a6a5-b347b3c6caa3 button');\n",
              "      quickchartButtonEl.style.display =\n",
              "        google.colab.kernel.accessAllowed ? 'block' : 'none';\n",
              "    })();\n",
              "  </script>\n",
              "</div>\n",
              "    </div>\n",
              "  </div>\n"
            ],
            "application/vnd.google.colaboratory.intrinsic+json": {
              "type": "dataframe",
              "variable_name": "final_predicted",
              "summary": "{\n  \"name\": \"final_predicted\",\n  \"rows\": 26,\n  \"fields\": [\n    {\n      \"column\": \"index\",\n      \"properties\": {\n        \"dtype\": \"number\",\n        \"std\": 273565,\n        \"min\": 96509,\n        \"max\": 801810,\n        \"num_unique_values\": 26,\n        \"samples\": [\n          452153,\n          801165,\n          96509\n        ],\n        \"semantic_type\": \"\",\n        \"description\": \"\"\n      }\n    },\n    {\n      \"column\": \"node1\",\n      \"properties\": {\n        \"dtype\": \"number\",\n        \"std\": 1563,\n        \"min\": 3853,\n        \"max\": 8005,\n        \"num_unique_values\": 15,\n        \"samples\": [\n          6448,\n          6662,\n          6705\n        ],\n        \"semantic_type\": \"\",\n        \"description\": \"\"\n      }\n    },\n    {\n      \"column\": \"node2\",\n      \"properties\": {\n        \"dtype\": \"number\",\n        \"std\": 1646,\n        \"min\": 3853,\n        \"max\": 8260,\n        \"num_unique_values\": 13,\n        \"samples\": [\n          7103,\n          7490,\n          3853\n        ],\n        \"semantic_type\": \"\",\n        \"description\": \"\"\n      }\n    },\n    {\n      \"column\": \"predicted laybel\",\n      \"properties\": {\n        \"dtype\": \"number\",\n        \"std\": 0,\n        \"min\": 1,\n        \"max\": 1,\n        \"num_unique_values\": 1,\n        \"samples\": [\n          1\n        ],\n        \"semantic_type\": \"\",\n        \"description\": \"\"\n      }\n    },\n    {\n      \"column\": \"probability laybel\",\n      \"properties\": {\n        \"dtype\": \"number\",\n        \"std\": 1.0416975328226919e-05,\n        \"min\": 0.9601045534492867,\n        \"max\": 0.9601365257411274,\n        \"num_unique_values\": 2,\n        \"samples\": [\n          0.9601365257411274\n        ],\n        \"semantic_type\": \"\",\n        \"description\": \"\"\n      }\n    },\n    {\n      \"column\": \"node1-name\",\n      \"properties\": {\n        \"dtype\": \"string\",\n        \"num_unique_values\": 15,\n        \"samples\": [\n          \"p_21950\"\n        ],\n        \"semantic_type\": \"\",\n        \"description\": \"\"\n      }\n    },\n    {\n      \"column\": \"node2-name\",\n      \"properties\": {\n        \"dtype\": \"string\",\n        \"num_unique_values\": 13,\n        \"samples\": [\n          \"p_34621\"\n        ],\n        \"semantic_type\": \"\",\n        \"description\": \"\"\n      }\n    }\n  ]\n}"
            }
          },
          "metadata": {},
          "execution_count": 119
        }
      ]
    },
    {
      "cell_type": "code",
      "source": [
        "final_predicted.to_csv('output/final-predicted-upper96perCent.csv', index=False)"
      ],
      "metadata": {
        "id": "P17nQAx5x-SQ"
      },
      "execution_count": 121,
      "outputs": []
    },
    {
      "cell_type": "code",
      "source": [
        "non_same_rows= []\n",
        "for i in range(final_predicted.shape[0]) :\n",
        "  if final_predicted.loc[i, 'node1-name'].startswith('a') :\n",
        "    if final_predicted.loc[i, 'node2-name'].startswith('p') :\n",
        "      non_same_rows.append(i)\n",
        "  elif final_predicted.loc[i, 'node1-name'].startswith('p') :\n",
        "    if final_predicted.loc[i, 'node2-name'].startswith('a') :\n",
        "      non_same_rows.append(i)\n"
      ],
      "metadata": {
        "id": "3XNsewJuT3uJ"
      },
      "execution_count": 105,
      "outputs": []
    },
    {
      "cell_type": "code",
      "source": [
        "final_predicted_good_rows = final_predicted.iloc[non_same_rows]"
      ],
      "metadata": {
        "id": "3ub4neiIUPAz"
      },
      "execution_count": 106,
      "outputs": []
    },
    {
      "cell_type": "code",
      "source": [
        "final_predicted_good_rows"
      ],
      "metadata": {
        "colab": {
          "base_uri": "https://localhost:8080/",
          "height": 424
        },
        "id": "-amYb4WXUiJP",
        "outputId": "d525931b-436e-4fac-a96d-7798fe555ed2"
      },
      "execution_count": 107,
      "outputs": [
        {
          "output_type": "execute_result",
          "data": {
            "text/plain": [
              "      index  node1  node2  predicted laybel  probability laybel node1-name  \\\n",
              "0     43103   6507   3853                 1            0.927237    p_22822   \n",
              "1     50342   5981    659                 1            0.911500    p_13503   \n",
              "2     96509   6705   3853                 1            0.960105    p_25734   \n",
              "3     97974   7919   3853                 1            0.960105    p_66012   \n",
              "4    135457   6378    659                 1            0.911500     p_2074   \n",
              "..      ...    ...    ...               ...                 ...        ...   \n",
              "147  801770   3853   8258                 1            0.928881    a_67681   \n",
              "148  801810   3853   6450                 1            0.960105    a_67681   \n",
              "149  801817   3853   6922                 1            0.928881    a_67681   \n",
              "150  801837   3853   8789                 1            0.928881    a_67681   \n",
              "151  801842   3853   8053                 1            0.959136    a_67681   \n",
              "\n",
              "    node2-name  \n",
              "0      a_67681  \n",
              "1       a_2144  \n",
              "2      a_67681  \n",
              "3      a_67681  \n",
              "4       a_2144  \n",
              "..         ...  \n",
              "147    p_76589  \n",
              "148    p_21972  \n",
              "149    p_29579  \n",
              "150       p_93  \n",
              "151    p_70095  \n",
              "\n",
              "[148 rows x 7 columns]"
            ],
            "text/html": [
              "\n",
              "  <div id=\"df-d769e8fb-314d-432d-9cd0-2f6b072816cc\" class=\"colab-df-container\">\n",
              "    <div>\n",
              "<style scoped>\n",
              "    .dataframe tbody tr th:only-of-type {\n",
              "        vertical-align: middle;\n",
              "    }\n",
              "\n",
              "    .dataframe tbody tr th {\n",
              "        vertical-align: top;\n",
              "    }\n",
              "\n",
              "    .dataframe thead th {\n",
              "        text-align: right;\n",
              "    }\n",
              "</style>\n",
              "<table border=\"1\" class=\"dataframe\">\n",
              "  <thead>\n",
              "    <tr style=\"text-align: right;\">\n",
              "      <th></th>\n",
              "      <th>index</th>\n",
              "      <th>node1</th>\n",
              "      <th>node2</th>\n",
              "      <th>predicted laybel</th>\n",
              "      <th>probability laybel</th>\n",
              "      <th>node1-name</th>\n",
              "      <th>node2-name</th>\n",
              "    </tr>\n",
              "  </thead>\n",
              "  <tbody>\n",
              "    <tr>\n",
              "      <th>0</th>\n",
              "      <td>43103</td>\n",
              "      <td>6507</td>\n",
              "      <td>3853</td>\n",
              "      <td>1</td>\n",
              "      <td>0.927237</td>\n",
              "      <td>p_22822</td>\n",
              "      <td>a_67681</td>\n",
              "    </tr>\n",
              "    <tr>\n",
              "      <th>1</th>\n",
              "      <td>50342</td>\n",
              "      <td>5981</td>\n",
              "      <td>659</td>\n",
              "      <td>1</td>\n",
              "      <td>0.911500</td>\n",
              "      <td>p_13503</td>\n",
              "      <td>a_2144</td>\n",
              "    </tr>\n",
              "    <tr>\n",
              "      <th>2</th>\n",
              "      <td>96509</td>\n",
              "      <td>6705</td>\n",
              "      <td>3853</td>\n",
              "      <td>1</td>\n",
              "      <td>0.960105</td>\n",
              "      <td>p_25734</td>\n",
              "      <td>a_67681</td>\n",
              "    </tr>\n",
              "    <tr>\n",
              "      <th>3</th>\n",
              "      <td>97974</td>\n",
              "      <td>7919</td>\n",
              "      <td>3853</td>\n",
              "      <td>1</td>\n",
              "      <td>0.960105</td>\n",
              "      <td>p_66012</td>\n",
              "      <td>a_67681</td>\n",
              "    </tr>\n",
              "    <tr>\n",
              "      <th>4</th>\n",
              "      <td>135457</td>\n",
              "      <td>6378</td>\n",
              "      <td>659</td>\n",
              "      <td>1</td>\n",
              "      <td>0.911500</td>\n",
              "      <td>p_2074</td>\n",
              "      <td>a_2144</td>\n",
              "    </tr>\n",
              "    <tr>\n",
              "      <th>...</th>\n",
              "      <td>...</td>\n",
              "      <td>...</td>\n",
              "      <td>...</td>\n",
              "      <td>...</td>\n",
              "      <td>...</td>\n",
              "      <td>...</td>\n",
              "      <td>...</td>\n",
              "    </tr>\n",
              "    <tr>\n",
              "      <th>147</th>\n",
              "      <td>801770</td>\n",
              "      <td>3853</td>\n",
              "      <td>8258</td>\n",
              "      <td>1</td>\n",
              "      <td>0.928881</td>\n",
              "      <td>a_67681</td>\n",
              "      <td>p_76589</td>\n",
              "    </tr>\n",
              "    <tr>\n",
              "      <th>148</th>\n",
              "      <td>801810</td>\n",
              "      <td>3853</td>\n",
              "      <td>6450</td>\n",
              "      <td>1</td>\n",
              "      <td>0.960105</td>\n",
              "      <td>a_67681</td>\n",
              "      <td>p_21972</td>\n",
              "    </tr>\n",
              "    <tr>\n",
              "      <th>149</th>\n",
              "      <td>801817</td>\n",
              "      <td>3853</td>\n",
              "      <td>6922</td>\n",
              "      <td>1</td>\n",
              "      <td>0.928881</td>\n",
              "      <td>a_67681</td>\n",
              "      <td>p_29579</td>\n",
              "    </tr>\n",
              "    <tr>\n",
              "      <th>150</th>\n",
              "      <td>801837</td>\n",
              "      <td>3853</td>\n",
              "      <td>8789</td>\n",
              "      <td>1</td>\n",
              "      <td>0.928881</td>\n",
              "      <td>a_67681</td>\n",
              "      <td>p_93</td>\n",
              "    </tr>\n",
              "    <tr>\n",
              "      <th>151</th>\n",
              "      <td>801842</td>\n",
              "      <td>3853</td>\n",
              "      <td>8053</td>\n",
              "      <td>1</td>\n",
              "      <td>0.959136</td>\n",
              "      <td>a_67681</td>\n",
              "      <td>p_70095</td>\n",
              "    </tr>\n",
              "  </tbody>\n",
              "</table>\n",
              "<p>148 rows × 7 columns</p>\n",
              "</div>\n",
              "    <div class=\"colab-df-buttons\">\n",
              "\n",
              "  <div class=\"colab-df-container\">\n",
              "    <button class=\"colab-df-convert\" onclick=\"convertToInteractive('df-d769e8fb-314d-432d-9cd0-2f6b072816cc')\"\n",
              "            title=\"Convert this dataframe to an interactive table.\"\n",
              "            style=\"display:none;\">\n",
              "\n",
              "  <svg xmlns=\"http://www.w3.org/2000/svg\" height=\"24px\" viewBox=\"0 -960 960 960\">\n",
              "    <path d=\"M120-120v-720h720v720H120Zm60-500h600v-160H180v160Zm220 220h160v-160H400v160Zm0 220h160v-160H400v160ZM180-400h160v-160H180v160Zm440 0h160v-160H620v160ZM180-180h160v-160H180v160Zm440 0h160v-160H620v160Z\"/>\n",
              "  </svg>\n",
              "    </button>\n",
              "\n",
              "  <style>\n",
              "    .colab-df-container {\n",
              "      display:flex;\n",
              "      gap: 12px;\n",
              "    }\n",
              "\n",
              "    .colab-df-convert {\n",
              "      background-color: #E8F0FE;\n",
              "      border: none;\n",
              "      border-radius: 50%;\n",
              "      cursor: pointer;\n",
              "      display: none;\n",
              "      fill: #1967D2;\n",
              "      height: 32px;\n",
              "      padding: 0 0 0 0;\n",
              "      width: 32px;\n",
              "    }\n",
              "\n",
              "    .colab-df-convert:hover {\n",
              "      background-color: #E2EBFA;\n",
              "      box-shadow: 0px 1px 2px rgba(60, 64, 67, 0.3), 0px 1px 3px 1px rgba(60, 64, 67, 0.15);\n",
              "      fill: #174EA6;\n",
              "    }\n",
              "\n",
              "    .colab-df-buttons div {\n",
              "      margin-bottom: 4px;\n",
              "    }\n",
              "\n",
              "    [theme=dark] .colab-df-convert {\n",
              "      background-color: #3B4455;\n",
              "      fill: #D2E3FC;\n",
              "    }\n",
              "\n",
              "    [theme=dark] .colab-df-convert:hover {\n",
              "      background-color: #434B5C;\n",
              "      box-shadow: 0px 1px 3px 1px rgba(0, 0, 0, 0.15);\n",
              "      filter: drop-shadow(0px 1px 2px rgba(0, 0, 0, 0.3));\n",
              "      fill: #FFFFFF;\n",
              "    }\n",
              "  </style>\n",
              "\n",
              "    <script>\n",
              "      const buttonEl =\n",
              "        document.querySelector('#df-d769e8fb-314d-432d-9cd0-2f6b072816cc button.colab-df-convert');\n",
              "      buttonEl.style.display =\n",
              "        google.colab.kernel.accessAllowed ? 'block' : 'none';\n",
              "\n",
              "      async function convertToInteractive(key) {\n",
              "        const element = document.querySelector('#df-d769e8fb-314d-432d-9cd0-2f6b072816cc');\n",
              "        const dataTable =\n",
              "          await google.colab.kernel.invokeFunction('convertToInteractive',\n",
              "                                                    [key], {});\n",
              "        if (!dataTable) return;\n",
              "\n",
              "        const docLinkHtml = 'Like what you see? Visit the ' +\n",
              "          '<a target=\"_blank\" href=https://colab.research.google.com/notebooks/data_table.ipynb>data table notebook</a>'\n",
              "          + ' to learn more about interactive tables.';\n",
              "        element.innerHTML = '';\n",
              "        dataTable['output_type'] = 'display_data';\n",
              "        await google.colab.output.renderOutput(dataTable, element);\n",
              "        const docLink = document.createElement('div');\n",
              "        docLink.innerHTML = docLinkHtml;\n",
              "        element.appendChild(docLink);\n",
              "      }\n",
              "    </script>\n",
              "  </div>\n",
              "\n",
              "\n",
              "<div id=\"df-d1d82220-40e7-4fb9-8218-f789c8fb431c\">\n",
              "  <button class=\"colab-df-quickchart\" onclick=\"quickchart('df-d1d82220-40e7-4fb9-8218-f789c8fb431c')\"\n",
              "            title=\"Suggest charts\"\n",
              "            style=\"display:none;\">\n",
              "\n",
              "<svg xmlns=\"http://www.w3.org/2000/svg\" height=\"24px\"viewBox=\"0 0 24 24\"\n",
              "     width=\"24px\">\n",
              "    <g>\n",
              "        <path d=\"M19 3H5c-1.1 0-2 .9-2 2v14c0 1.1.9 2 2 2h14c1.1 0 2-.9 2-2V5c0-1.1-.9-2-2-2zM9 17H7v-7h2v7zm4 0h-2V7h2v10zm4 0h-2v-4h2v4z\"/>\n",
              "    </g>\n",
              "</svg>\n",
              "  </button>\n",
              "\n",
              "<style>\n",
              "  .colab-df-quickchart {\n",
              "      --bg-color: #E8F0FE;\n",
              "      --fill-color: #1967D2;\n",
              "      --hover-bg-color: #E2EBFA;\n",
              "      --hover-fill-color: #174EA6;\n",
              "      --disabled-fill-color: #AAA;\n",
              "      --disabled-bg-color: #DDD;\n",
              "  }\n",
              "\n",
              "  [theme=dark] .colab-df-quickchart {\n",
              "      --bg-color: #3B4455;\n",
              "      --fill-color: #D2E3FC;\n",
              "      --hover-bg-color: #434B5C;\n",
              "      --hover-fill-color: #FFFFFF;\n",
              "      --disabled-bg-color: #3B4455;\n",
              "      --disabled-fill-color: #666;\n",
              "  }\n",
              "\n",
              "  .colab-df-quickchart {\n",
              "    background-color: var(--bg-color);\n",
              "    border: none;\n",
              "    border-radius: 50%;\n",
              "    cursor: pointer;\n",
              "    display: none;\n",
              "    fill: var(--fill-color);\n",
              "    height: 32px;\n",
              "    padding: 0;\n",
              "    width: 32px;\n",
              "  }\n",
              "\n",
              "  .colab-df-quickchart:hover {\n",
              "    background-color: var(--hover-bg-color);\n",
              "    box-shadow: 0 1px 2px rgba(60, 64, 67, 0.3), 0 1px 3px 1px rgba(60, 64, 67, 0.15);\n",
              "    fill: var(--button-hover-fill-color);\n",
              "  }\n",
              "\n",
              "  .colab-df-quickchart-complete:disabled,\n",
              "  .colab-df-quickchart-complete:disabled:hover {\n",
              "    background-color: var(--disabled-bg-color);\n",
              "    fill: var(--disabled-fill-color);\n",
              "    box-shadow: none;\n",
              "  }\n",
              "\n",
              "  .colab-df-spinner {\n",
              "    border: 2px solid var(--fill-color);\n",
              "    border-color: transparent;\n",
              "    border-bottom-color: var(--fill-color);\n",
              "    animation:\n",
              "      spin 1s steps(1) infinite;\n",
              "  }\n",
              "\n",
              "  @keyframes spin {\n",
              "    0% {\n",
              "      border-color: transparent;\n",
              "      border-bottom-color: var(--fill-color);\n",
              "      border-left-color: var(--fill-color);\n",
              "    }\n",
              "    20% {\n",
              "      border-color: transparent;\n",
              "      border-left-color: var(--fill-color);\n",
              "      border-top-color: var(--fill-color);\n",
              "    }\n",
              "    30% {\n",
              "      border-color: transparent;\n",
              "      border-left-color: var(--fill-color);\n",
              "      border-top-color: var(--fill-color);\n",
              "      border-right-color: var(--fill-color);\n",
              "    }\n",
              "    40% {\n",
              "      border-color: transparent;\n",
              "      border-right-color: var(--fill-color);\n",
              "      border-top-color: var(--fill-color);\n",
              "    }\n",
              "    60% {\n",
              "      border-color: transparent;\n",
              "      border-right-color: var(--fill-color);\n",
              "    }\n",
              "    80% {\n",
              "      border-color: transparent;\n",
              "      border-right-color: var(--fill-color);\n",
              "      border-bottom-color: var(--fill-color);\n",
              "    }\n",
              "    90% {\n",
              "      border-color: transparent;\n",
              "      border-bottom-color: var(--fill-color);\n",
              "    }\n",
              "  }\n",
              "</style>\n",
              "\n",
              "  <script>\n",
              "    async function quickchart(key) {\n",
              "      const quickchartButtonEl =\n",
              "        document.querySelector('#' + key + ' button');\n",
              "      quickchartButtonEl.disabled = true;  // To prevent multiple clicks.\n",
              "      quickchartButtonEl.classList.add('colab-df-spinner');\n",
              "      try {\n",
              "        const charts = await google.colab.kernel.invokeFunction(\n",
              "            'suggestCharts', [key], {});\n",
              "      } catch (error) {\n",
              "        console.error('Error during call to suggestCharts:', error);\n",
              "      }\n",
              "      quickchartButtonEl.classList.remove('colab-df-spinner');\n",
              "      quickchartButtonEl.classList.add('colab-df-quickchart-complete');\n",
              "    }\n",
              "    (() => {\n",
              "      let quickchartButtonEl =\n",
              "        document.querySelector('#df-d1d82220-40e7-4fb9-8218-f789c8fb431c button');\n",
              "      quickchartButtonEl.style.display =\n",
              "        google.colab.kernel.accessAllowed ? 'block' : 'none';\n",
              "    })();\n",
              "  </script>\n",
              "</div>\n",
              "    </div>\n",
              "  </div>\n"
            ],
            "application/vnd.google.colaboratory.intrinsic+json": {
              "type": "dataframe",
              "variable_name": "final_predicted_good_rows",
              "summary": "{\n  \"name\": \"final_predicted_good_rows\",\n  \"rows\": 148,\n  \"fields\": [\n    {\n      \"column\": \"index\",\n      \"properties\": {\n        \"dtype\": \"number\",\n        \"std\": 196031,\n        \"min\": 43103,\n        \"max\": 801842,\n        \"num_unique_values\": 148,\n        \"samples\": [\n          801462,\n          548512,\n          801726\n        ],\n        \"semantic_type\": \"\",\n        \"description\": \"\"\n      }\n    },\n    {\n      \"column\": \"node1\",\n      \"properties\": {\n        \"dtype\": \"number\",\n        \"std\": 2475,\n        \"min\": 659,\n        \"max\": 8203,\n        \"num_unique_values\": 38,\n        \"samples\": [\n          6309,\n          7547,\n          6378\n        ],\n        \"semantic_type\": \"\",\n        \"description\": \"\"\n      }\n    },\n    {\n      \"column\": \"node2\",\n      \"properties\": {\n        \"dtype\": \"number\",\n        \"std\": 2117,\n        \"min\": 659,\n        \"max\": 8929,\n        \"num_unique_values\": 114,\n        \"samples\": [\n          6328,\n          6485,\n          7912\n        ],\n        \"semantic_type\": \"\",\n        \"description\": \"\"\n      }\n    },\n    {\n      \"column\": \"predicted laybel\",\n      \"properties\": {\n        \"dtype\": \"number\",\n        \"std\": 0,\n        \"min\": 1,\n        \"max\": 1,\n        \"num_unique_values\": 1,\n        \"samples\": [\n          1\n        ],\n        \"semantic_type\": \"\",\n        \"description\": \"\"\n      }\n    },\n    {\n      \"column\": \"probability laybel\",\n      \"properties\": {\n        \"dtype\": \"number\",\n        \"std\": 0.019985473755155247,\n        \"min\": 0.9008404206151159,\n        \"max\": 0.9601365257411274,\n        \"num_unique_values\": 14,\n        \"samples\": [\n          0.9008404206151159\n        ],\n        \"semantic_type\": \"\",\n        \"description\": \"\"\n      }\n    },\n    {\n      \"column\": \"node1-name\",\n      \"properties\": {\n        \"dtype\": \"category\",\n        \"num_unique_values\": 38,\n        \"samples\": [\n          \"p_19\"\n        ],\n        \"semantic_type\": \"\",\n        \"description\": \"\"\n      }\n    },\n    {\n      \"column\": \"node2-name\",\n      \"properties\": {\n        \"dtype\": \"string\",\n        \"num_unique_values\": 114,\n        \"samples\": [\n          \"p_19246\"\n        ],\n        \"semantic_type\": \"\",\n        \"description\": \"\"\n      }\n    }\n  ]\n}"
            }
          },
          "metadata": {},
          "execution_count": 107
        }
      ]
    },
    {
      "cell_type": "code",
      "source": [
        "final_predicted_good_rows.to_csv('output/final-predicted-upper90perCentxx-NoNsame.csv', index=False)"
      ],
      "metadata": {
        "id": "7QFPMUbSTwI7"
      },
      "execution_count": 108,
      "outputs": []
    },
    {
      "source": [
        "# @title probability laybel\n",
        "\n",
        "from matplotlib import pyplot as plt\n",
        "final_predicted['probability laybel'].plot(kind='hist', bins=20, title='probability laybel')\n",
        "plt.gca().spines[['top', 'right',]].set_visible(False)"
      ],
      "cell_type": "code",
      "execution_count": null,
      "outputs": [
        {
          "output_type": "display_data",
          "data": {
            "text/plain": [
              "<Figure size 640x480 with 1 Axes>"
            ],
            "image/png": "[encoded data removed]"
          },
          "metadata": {}
        }
      ],
      "metadata": {
        "cellView": "form",
        "colab": {
          "base_uri": "https://localhost:8080/",
          "height": 452
        },
        "id": "kRyLQxcXTGwU",
        "outputId": "8146b5bc-1831-4c5d-a5ba-eb7e8a8de7b2"
      }
    },
    {
      "source": [
        "# @title node1\n",
        "\n",
        "from matplotlib import pyplot as plt\n",
        "final_predicted['node1'].plot(kind='hist', bins=20, title='node1')\n",
        "plt.gca().spines[['top', 'right',]].set_visible(False)"
      ],
      "cell_type": "code",
      "execution_count": null,
      "outputs": [
        {
          "output_type": "display_data",
          "data": {
            "text/plain": [
              "<Figure size 640x480 with 1 Axes>"
            ],
            "image/png": "[encoded data removed]"
          },
          "metadata": {}
        }
      ],
      "metadata": {
        "cellView": "form",
        "colab": {
          "base_uri": "https://localhost:8080/",
          "height": 452
        },
        "id": "Fdidm8byS9oJ",
        "outputId": "28f2d516-afd9-406d-b788-e5e665f7f92c"
      }
    },
    {
      "cell_type": "code",
      "source": [
        "#from google.colab import drive"
      ],
      "metadata": {
        "id": "XH5UBRsPv_y8"
      },
      "execution_count": 74,
      "outputs": []
    },
    {
      "cell_type": "code",
      "source": [
        "#drive.mount('/content/new/')"
      ],
      "metadata": {
        "colab": {
          "base_uri": "https://localhost:8080/"
        },
        "id": "EiCkgDVpwIEf",
        "outputId": "4465fe71-7d66-4cb4-f1d2-576e04fa9bbc"
      },
      "execution_count": 75,
      "outputs": [
        {
          "output_type": "stream",
          "name": "stdout",
          "text": [
            "Mounted at /content/new/\n",
            "Drive already mounted at /content/new/; to attempt to forcibly remount, call drive.mount(\"/content/new/\", force_remount=True).\n"
          ]
        }
      ]
    },
    {
      "cell_type": "code",
      "source": [
        "print( 'Number of Non-Edges nodes pairs Giving the model : ', features.shape[0])"
      ],
      "metadata": {
        "colab": {
          "base_uri": "https://localhost:8080/"
        },
        "id": "_H7KHWiayt-B",
        "outputId": "ddec7221-b7b4-47f4-dd75-9beab210b035"
      },
      "execution_count": 124,
      "outputs": [
        {
          "output_type": "stream",
          "name": "stdout",
          "text": [
            "Number of Non-Edges nodes pairs Giving the model :  1145336\n"
          ]
        }
      ]
    },
    {
      "cell_type": "code",
      "source": [
        "features_all_one = features[features['predicted laybel'] == 1]"
      ],
      "metadata": {
        "id": "pZiCAQ5XzLOl"
      },
      "execution_count": 126,
      "outputs": []
    },
    {
      "cell_type": "code",
      "source": [
        "print( 'Number of possible links predicted from the model : ', features_all_one.shape[0])"
      ],
      "metadata": {
        "colab": {
          "base_uri": "https://localhost:8080/"
        },
        "id": "acORo6ACyzON",
        "outputId": "f5a7f1d7-4f3c-4a46-ea20-6ff26ceb72ac"
      },
      "execution_count": 128,
      "outputs": [
        {
          "output_type": "stream",
          "name": "stdout",
          "text": [
            "Number of possible links predicted from the model :  71819\n"
          ]
        }
      ]
    },
    {
      "cell_type": "code",
      "source": [],
      "metadata": {
        "id": "WUOCARpMzc2S"
      },
      "execution_count": null,
      "outputs": []
    },
    {
      "cell_type": "code",
      "source": [],
      "metadata": {
        "id": "VHBYggxezczR"
      },
      "execution_count": null,
      "outputs": []
    }
  ]
}
